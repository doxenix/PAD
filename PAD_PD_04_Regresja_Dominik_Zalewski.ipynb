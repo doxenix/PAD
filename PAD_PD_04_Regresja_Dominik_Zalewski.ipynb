{
 "cells": [
  {
   "cell_type": "markdown",
   "id": "b1f825fa",
   "metadata": {},
   "source": [
    "Dominik Zalewski s24216\n",
    "\n",
    "# Linear Regression model - predicting cnt value in London bike sharing data set #"
   ]
  },
  {
   "cell_type": "code",
   "execution_count": 1,
   "id": "5b092f22",
   "metadata": {},
   "outputs": [],
   "source": [
    "import pandas as pd\n",
    "import numpy as np\n",
    "import matplotlib.pyplot as plt\n",
    "\n",
    "\n",
    "#reading csv file\n",
    "path = r'C:\\Users\\Dominik\\Desktop\\Studia\\Programowanie dla analityki danych\\london_merged.csv'\n",
    "df = pd.read_csv(path)"
   ]
  },
  {
   "cell_type": "code",
   "execution_count": 2,
   "id": "0fbb672a",
   "metadata": {
    "scrolled": true
   },
   "outputs": [
    {
     "data": {
      "text/html": [
       "<div>\n",
       "<style scoped>\n",
       "    .dataframe tbody tr th:only-of-type {\n",
       "        vertical-align: middle;\n",
       "    }\n",
       "\n",
       "    .dataframe tbody tr th {\n",
       "        vertical-align: top;\n",
       "    }\n",
       "\n",
       "    .dataframe thead th {\n",
       "        text-align: right;\n",
       "    }\n",
       "</style>\n",
       "<table border=\"1\" class=\"dataframe\">\n",
       "  <thead>\n",
       "    <tr style=\"text-align: right;\">\n",
       "      <th></th>\n",
       "      <th>timestamp</th>\n",
       "      <th>cnt</th>\n",
       "      <th>t1</th>\n",
       "      <th>t2</th>\n",
       "      <th>hum</th>\n",
       "      <th>wind_speed</th>\n",
       "      <th>weather_code</th>\n",
       "      <th>is_holiday</th>\n",
       "      <th>is_weekend</th>\n",
       "      <th>season</th>\n",
       "    </tr>\n",
       "  </thead>\n",
       "  <tbody>\n",
       "    <tr>\n",
       "      <th>0</th>\n",
       "      <td>2015-01-04 00:00:00</td>\n",
       "      <td>182</td>\n",
       "      <td>3.0</td>\n",
       "      <td>2.0</td>\n",
       "      <td>93.0</td>\n",
       "      <td>6.0</td>\n",
       "      <td>3.0</td>\n",
       "      <td>0.0</td>\n",
       "      <td>1.0</td>\n",
       "      <td>3.0</td>\n",
       "    </tr>\n",
       "    <tr>\n",
       "      <th>1</th>\n",
       "      <td>2015-01-04 01:00:00</td>\n",
       "      <td>138</td>\n",
       "      <td>3.0</td>\n",
       "      <td>2.5</td>\n",
       "      <td>93.0</td>\n",
       "      <td>5.0</td>\n",
       "      <td>1.0</td>\n",
       "      <td>0.0</td>\n",
       "      <td>1.0</td>\n",
       "      <td>3.0</td>\n",
       "    </tr>\n",
       "    <tr>\n",
       "      <th>2</th>\n",
       "      <td>2015-01-04 02:00:00</td>\n",
       "      <td>134</td>\n",
       "      <td>2.5</td>\n",
       "      <td>2.5</td>\n",
       "      <td>96.5</td>\n",
       "      <td>0.0</td>\n",
       "      <td>1.0</td>\n",
       "      <td>0.0</td>\n",
       "      <td>1.0</td>\n",
       "      <td>3.0</td>\n",
       "    </tr>\n",
       "    <tr>\n",
       "      <th>3</th>\n",
       "      <td>2015-01-04 03:00:00</td>\n",
       "      <td>72</td>\n",
       "      <td>2.0</td>\n",
       "      <td>2.0</td>\n",
       "      <td>100.0</td>\n",
       "      <td>0.0</td>\n",
       "      <td>1.0</td>\n",
       "      <td>0.0</td>\n",
       "      <td>1.0</td>\n",
       "      <td>3.0</td>\n",
       "    </tr>\n",
       "    <tr>\n",
       "      <th>4</th>\n",
       "      <td>2015-01-04 04:00:00</td>\n",
       "      <td>47</td>\n",
       "      <td>2.0</td>\n",
       "      <td>0.0</td>\n",
       "      <td>93.0</td>\n",
       "      <td>6.5</td>\n",
       "      <td>1.0</td>\n",
       "      <td>0.0</td>\n",
       "      <td>1.0</td>\n",
       "      <td>3.0</td>\n",
       "    </tr>\n",
       "  </tbody>\n",
       "</table>\n",
       "</div>"
      ],
      "text/plain": [
       "             timestamp  cnt   t1   t2    hum  wind_speed  weather_code  \\\n",
       "0  2015-01-04 00:00:00  182  3.0  2.0   93.0         6.0           3.0   \n",
       "1  2015-01-04 01:00:00  138  3.0  2.5   93.0         5.0           1.0   \n",
       "2  2015-01-04 02:00:00  134  2.5  2.5   96.5         0.0           1.0   \n",
       "3  2015-01-04 03:00:00   72  2.0  2.0  100.0         0.0           1.0   \n",
       "4  2015-01-04 04:00:00   47  2.0  0.0   93.0         6.5           1.0   \n",
       "\n",
       "   is_holiday  is_weekend  season  \n",
       "0         0.0         1.0     3.0  \n",
       "1         0.0         1.0     3.0  \n",
       "2         0.0         1.0     3.0  \n",
       "3         0.0         1.0     3.0  \n",
       "4         0.0         1.0     3.0  "
      ]
     },
     "execution_count": 2,
     "metadata": {},
     "output_type": "execute_result"
    }
   ],
   "source": [
    "df.head()"
   ]
  },
  {
   "cell_type": "code",
   "execution_count": 3,
   "id": "c513e14e",
   "metadata": {
    "scrolled": true
   },
   "outputs": [
    {
     "name": "stdout",
     "output_type": "stream",
     "text": [
      "<class 'pandas.core.frame.DataFrame'>\n",
      "RangeIndex: 17414 entries, 0 to 17413\n",
      "Data columns (total 10 columns):\n",
      " #   Column        Non-Null Count  Dtype  \n",
      "---  ------        --------------  -----  \n",
      " 0   timestamp     17414 non-null  object \n",
      " 1   cnt           17414 non-null  int64  \n",
      " 2   t1            17414 non-null  float64\n",
      " 3   t2            17414 non-null  float64\n",
      " 4   hum           17414 non-null  float64\n",
      " 5   wind_speed    17414 non-null  float64\n",
      " 6   weather_code  17414 non-null  float64\n",
      " 7   is_holiday    17414 non-null  float64\n",
      " 8   is_weekend    17414 non-null  float64\n",
      " 9   season        17414 non-null  float64\n",
      "dtypes: float64(8), int64(1), object(1)\n",
      "memory usage: 1.3+ MB\n"
     ]
    }
   ],
   "source": [
    "#take a look on column's types\n",
    "df.info()"
   ]
  },
  {
   "cell_type": "markdown",
   "id": "e9cd2067",
   "metadata": {},
   "source": [
    "Our dataset contains no null vales."
   ]
  },
  {
   "cell_type": "code",
   "execution_count": 4,
   "id": "e797d876",
   "metadata": {},
   "outputs": [
    {
     "name": "stdout",
     "output_type": "stream",
     "text": [
      "['t1', 't2', 'hum', 'wind_speed', 'weather_code', 'is_holiday', 'is_weekend', 'season']\n"
     ]
    }
   ],
   "source": [
    "columns = list(df.columns)\n",
    " \n",
    "# items to be removed\n",
    "unwanted_cols = {'timestamp', 'cnt'}\n",
    " \n",
    "columns_corr = [i for i in columns if i not in unwanted_cols]\n",
    " \n",
    "# printing modified list\n",
    "print(columns_corr)"
   ]
  },
  {
   "cell_type": "code",
   "execution_count": 5,
   "id": "bb84fb21",
   "metadata": {
    "scrolled": true
   },
   "outputs": [
    {
     "data": {
      "image/png": "[encoded data removed]",
      "text/plain": [
       "<Figure size 432x288 with 1 Axes>"
      ]
     },
     "metadata": {
      "needs_background": "light"
     },
     "output_type": "display_data"
    },
    {
     "data": {
      "image/png": "[encoded data removed]",
      "text/plain": [
       "<Figure size 432x288 with 1 Axes>"
      ]
     },
     "metadata": {
      "needs_background": "light"
     },
     "output_type": "display_data"
    },
    {
     "data": {
      "image/png": "[encoded data removed]",
      "text/plain": [
       "<Figure size 432x288 with 1 Axes>"
      ]
     },
     "metadata": {
      "needs_background": "light"
     },
     "output_type": "display_data"
    },
    {
     "data": {
      "image/png": "[encoded data removed]",
      "text/plain": [
       "<Figure size 432x288 with 1 Axes>"
      ]
     },
     "metadata": {
      "needs_background": "light"
     },
     "output_type": "display_data"
    },
    {
     "data": {
      "image/png": "[encoded data removed]",
      "text/plain": [
       "<Figure size 432x288 with 1 Axes>"
      ]
     },
     "metadata": {
      "needs_background": "light"
     },
     "output_type": "display_data"
    },
    {
     "data": {
      "image/png": "[encoded data removed]",
      "text/plain": [
       "<Figure size 432x288 with 1 Axes>"
      ]
     },
     "metadata": {
      "needs_background": "light"
     },
     "output_type": "display_data"
    },
    {
     "data": {
      "image/png": "[encoded data removed]",
      "text/plain": [
       "<Figure size 432x288 with 1 Axes>"
      ]
     },
     "metadata": {
      "needs_background": "light"
     },
     "output_type": "display_data"
    },
    {
     "data": {
      "image/png": "[encoded data removed]",
      "text/plain": [
       "<Figure size 432x288 with 1 Axes>"
      ]
     },
     "metadata": {
      "needs_background": "light"
     },
     "output_type": "display_data"
    }
   ],
   "source": [
    "%matplotlib inline\n",
    "\n",
    "plt.figure()\n",
    "for _ in range(len(columns_corr)):\n",
    "    plt.title(f'Correlation: cnt vs {columns_corr[_]}')\n",
    "    plt.scatter(df.cnt,df[columns_corr[_]], marker='+')\n",
    "    plt.xlabel(columns_corr[_])\n",
    "    plt.ylabel('cnt')\n",
    "    plt.show() "
   ]
  },
  {
   "cell_type": "markdown",
   "id": "4e24d3c5",
   "metadata": {},
   "source": [
    "We may noticed that the biggest correlaction is in t1 and t2 columns (positive correlation). There is also correaltion in hum column, however - negative and much less significantly than in first and second one. "
   ]
  },
  {
   "cell_type": "code",
   "execution_count": 6,
   "id": "f4a9ddfc",
   "metadata": {
    "scrolled": false
   },
   "outputs": [
    {
     "name": "stdout",
     "output_type": "stream",
     "text": [
      "Linear function: y=a*x+b\n",
      "\n",
      "[('t1', 0.314), ('t2', -0.096), ('hum', -0.279), ('wind_speed', -0.031), ('weather_code', -0.027), ('is_holiday', -0.03), ('is_weekend', -0.026), ('season', 0.024)]\n"
     ]
    }
   ],
   "source": [
    "from sklearn.model_selection import train_test_split\n",
    "from sklearn.linear_model import LinearRegression\n",
    "from sklearn.metrics import mean_squared_error, r2_score\n",
    "\n",
    "#switch cnt column from begging to end of df\n",
    "df_corr = df.iloc[:,1:]\n",
    "df_corr['cnt1'] = df_corr['cnt']\n",
    "df_corr = df_corr.drop(labels=['cnt'], axis=1)\n",
    "df_corr.rename(columns={'cnt1' : 'cnt'}, inplace=True)\n",
    "\n",
    "#standardization of df \n",
    "df_corr = (df_corr - df_corr.min()) / (df_corr.max() - df_corr.min())\n",
    "\n",
    "#split df on train and test set:\n",
    "y = df_corr['cnt']\n",
    "X = df_corr.drop(labels=['cnt'], axis=1)\n",
    "\n",
    "X_train, X_test, y_train, y_test = train_test_split(X, y, test_size=0.2, random_state=0)\n",
    "\n",
    "#building regresion model\n",
    "reg = LinearRegression()\n",
    "reg.fit(X_train, y_train)\n",
    "\n",
    "#print coefficients of each column (a parm in linear function)\n",
    "coefficients = [round(_,3) for _ in reg.coef_]\n",
    "named_coef = list(zip(df_corr.keys(),coefficients))\n",
    "print('Linear function: y=a*x+b\\n')\n",
    "print(named_coef)"
   ]
  },
  {
   "cell_type": "code",
   "execution_count": 7,
   "id": "bb40ebc9",
   "metadata": {
    "scrolled": true
   },
   "outputs": [
    {
     "data": {
      "text/plain": [
       "array([0.09619369, 0.21685879, 0.07558539, ..., 0.06956696, 0.19668377,\n",
       "       0.13109728])"
      ]
     },
     "execution_count": 7,
     "metadata": {},
     "output_type": "execute_result"
    }
   ],
   "source": [
    "y_pred = reg.predict(X_test)\n",
    "y_pred"
   ]
  },
  {
   "cell_type": "code",
   "execution_count": 8,
   "id": "d8e60da7",
   "metadata": {
    "scrolled": false
   },
   "outputs": [
    {
     "name": "stdout",
     "output_type": "stream",
     "text": [
      "Our model prediction score: 0.27\n"
     ]
    }
   ],
   "source": [
    "print(f'Our model prediction score: {round(r2_score(y_test, y_pred),2)}')"
   ]
  },
  {
   "cell_type": "code",
   "execution_count": 9,
   "id": "18a8d13a",
   "metadata": {},
   "outputs": [
    {
     "data": {
      "text/plain": [
       "const           0.000000\n",
       "t1              0.000000\n",
       "t2              0.019225\n",
       "hum             0.000000\n",
       "wind_speed      0.000187\n",
       "weather_code    0.006381\n",
       "is_holiday      0.000000\n",
       "is_weekend      0.000000\n",
       "season          0.000000\n",
       "dtype: float64"
      ]
     },
     "execution_count": 9,
     "metadata": {},
     "output_type": "execute_result"
    }
   ],
   "source": [
    "import statsmodels.api as sm\n",
    "X = sm.add_constant(X)\n",
    "model = sm.OLS(y,X)\n",
    "results = model.fit()\n",
    "results.params\n",
    "p = round(results.pvalues,6)\n",
    "#Get params significant at 0.05 p-value\n",
    "p[p<=0.05]"
   ]
  },
  {
   "cell_type": "markdown",
   "id": "cd7ab4d6",
   "metadata": {},
   "source": [
    "Above we see columns with lowest p-values, so it means that thre is low probability here that results between **cnt** column and those above are random."
   ]
  },
  {
   "cell_type": "code",
   "execution_count": 10,
   "id": "a6d3ef87",
   "metadata": {},
   "outputs": [],
   "source": [
    "#create column with converted date format\n",
    "df['date'] = pd.to_datetime(df['timestamp'])\n",
    "\n",
    "df['year'] = df['date'].dt.year\n",
    "df['hour'] = df['date'].dt.hour\n",
    "\n",
    "#delete column from df\n",
    "df = df.drop('date', 1)"
   ]
  },
  {
   "cell_type": "code",
   "execution_count": 11,
   "id": "c7597b45",
   "metadata": {},
   "outputs": [
    {
     "data": {
      "image/png": "[encoded data removed]",
      "text/plain": [
       "<Figure size 936x936 with 1 Axes>"
      ]
     },
     "metadata": {
      "needs_background": "light"
     },
     "output_type": "display_data"
    }
   ],
   "source": [
    "#create df with proper columns to heatmap\n",
    "df_to_heatmap = df.iloc[:,1:]\n",
    "corrMatrix = df_to_heatmap.corr()\n",
    "\n",
    "#create heatmap\n",
    "plt.figure(figsize=(13,13))\n",
    "plt.matshow(corrMatrix.corr(),fignum=1)\n",
    "plt.xticks(ticks = list(range(len(df_to_heatmap.columns))),labels = df_to_heatmap.keys())\n",
    "plt.yticks(ticks = list(range(len(df_to_heatmap.columns))),labels = df_to_heatmap.keys())\n",
    "plt.show()"
   ]
  },
  {
   "cell_type": "code",
   "execution_count": 12,
   "id": "9a1a9b81",
   "metadata": {},
   "outputs": [
    {
     "data": {
      "text/html": [
       "<div>\n",
       "<style scoped>\n",
       "    .dataframe tbody tr th:only-of-type {\n",
       "        vertical-align: middle;\n",
       "    }\n",
       "\n",
       "    .dataframe tbody tr th {\n",
       "        vertical-align: top;\n",
       "    }\n",
       "\n",
       "    .dataframe thead th {\n",
       "        text-align: right;\n",
       "    }\n",
       "</style>\n",
       "<table border=\"1\" class=\"dataframe\">\n",
       "  <thead>\n",
       "    <tr style=\"text-align: right;\">\n",
       "      <th></th>\n",
       "      <th>cnt</th>\n",
       "      <th>t1</th>\n",
       "      <th>t2</th>\n",
       "      <th>hum</th>\n",
       "      <th>wind_speed</th>\n",
       "      <th>weather_code</th>\n",
       "      <th>is_holiday</th>\n",
       "      <th>is_weekend</th>\n",
       "      <th>season</th>\n",
       "      <th>year</th>\n",
       "      <th>hour</th>\n",
       "    </tr>\n",
       "  </thead>\n",
       "  <tbody>\n",
       "    <tr>\n",
       "      <th>cnt</th>\n",
       "      <td>1.000000</td>\n",
       "      <td>0.692439</td>\n",
       "      <td>0.675929</td>\n",
       "      <td>-0.845964</td>\n",
       "      <td>0.262179</td>\n",
       "      <td>-0.569584</td>\n",
       "      <td>-0.195918</td>\n",
       "      <td>-0.264077</td>\n",
       "      <td>-0.499163</td>\n",
       "      <td>-0.145639</td>\n",
       "      <td>0.593508</td>\n",
       "    </tr>\n",
       "    <tr>\n",
       "      <th>t1</th>\n",
       "      <td>0.692439</td>\n",
       "      <td>1.000000</td>\n",
       "      <td>0.998713</td>\n",
       "      <td>-0.805692</td>\n",
       "      <td>0.241977</td>\n",
       "      <td>-0.472005</td>\n",
       "      <td>-0.195748</td>\n",
       "      <td>-0.145816</td>\n",
       "      <td>-0.702500</td>\n",
       "      <td>-0.227016</td>\n",
       "      <td>0.351154</td>\n",
       "    </tr>\n",
       "    <tr>\n",
       "      <th>t2</th>\n",
       "      <td>0.675929</td>\n",
       "      <td>0.998713</td>\n",
       "      <td>1.000000</td>\n",
       "      <td>-0.779650</td>\n",
       "      <td>0.199022</td>\n",
       "      <td>-0.466771</td>\n",
       "      <td>-0.191798</td>\n",
       "      <td>-0.145110</td>\n",
       "      <td>-0.700040</td>\n",
       "      <td>-0.225298</td>\n",
       "      <td>0.332303</td>\n",
       "    </tr>\n",
       "    <tr>\n",
       "      <th>hum</th>\n",
       "      <td>-0.845964</td>\n",
       "      <td>-0.805692</td>\n",
       "      <td>-0.779650</td>\n",
       "      <td>1.000000</td>\n",
       "      <td>-0.507375</td>\n",
       "      <td>0.592960</td>\n",
       "      <td>0.094450</td>\n",
       "      <td>0.092385</td>\n",
       "      <td>0.593249</td>\n",
       "      <td>0.162741</td>\n",
       "      <td>-0.632428</td>\n",
       "    </tr>\n",
       "    <tr>\n",
       "      <th>wind_speed</th>\n",
       "      <td>0.262179</td>\n",
       "      <td>0.241977</td>\n",
       "      <td>0.199022</td>\n",
       "      <td>-0.507375</td>\n",
       "      <td>1.000000</td>\n",
       "      <td>-0.028142</td>\n",
       "      <td>-0.127179</td>\n",
       "      <td>-0.094057</td>\n",
       "      <td>-0.190093</td>\n",
       "      <td>-0.335174</td>\n",
       "      <td>0.260466</td>\n",
       "    </tr>\n",
       "    <tr>\n",
       "      <th>weather_code</th>\n",
       "      <td>-0.569584</td>\n",
       "      <td>-0.472005</td>\n",
       "      <td>-0.466771</td>\n",
       "      <td>0.592960</td>\n",
       "      <td>-0.028142</td>\n",
       "      <td>1.000000</td>\n",
       "      <td>-0.043325</td>\n",
       "      <td>0.015398</td>\n",
       "      <td>0.258232</td>\n",
       "      <td>-0.101756</td>\n",
       "      <td>-0.383771</td>\n",
       "    </tr>\n",
       "    <tr>\n",
       "      <th>is_holiday</th>\n",
       "      <td>-0.195918</td>\n",
       "      <td>-0.195748</td>\n",
       "      <td>-0.191798</td>\n",
       "      <td>0.094450</td>\n",
       "      <td>-0.127179</td>\n",
       "      <td>-0.043325</td>\n",
       "      <td>1.000000</td>\n",
       "      <td>-0.260086</td>\n",
       "      <td>-0.070422</td>\n",
       "      <td>0.002627</td>\n",
       "      <td>-0.146770</td>\n",
       "    </tr>\n",
       "    <tr>\n",
       "      <th>is_weekend</th>\n",
       "      <td>-0.264077</td>\n",
       "      <td>-0.145816</td>\n",
       "      <td>-0.145110</td>\n",
       "      <td>0.092385</td>\n",
       "      <td>-0.094057</td>\n",
       "      <td>0.015398</td>\n",
       "      <td>-0.260086</td>\n",
       "      <td>1.000000</td>\n",
       "      <td>-0.021860</td>\n",
       "      <td>-0.078317</td>\n",
       "      <td>-0.153337</td>\n",
       "    </tr>\n",
       "    <tr>\n",
       "      <th>season</th>\n",
       "      <td>-0.499163</td>\n",
       "      <td>-0.702500</td>\n",
       "      <td>-0.700040</td>\n",
       "      <td>0.593249</td>\n",
       "      <td>-0.190093</td>\n",
       "      <td>0.258232</td>\n",
       "      <td>-0.070422</td>\n",
       "      <td>-0.021860</td>\n",
       "      <td>1.000000</td>\n",
       "      <td>0.026097</td>\n",
       "      <td>-0.271236</td>\n",
       "    </tr>\n",
       "    <tr>\n",
       "      <th>year</th>\n",
       "      <td>-0.145639</td>\n",
       "      <td>-0.227016</td>\n",
       "      <td>-0.225298</td>\n",
       "      <td>0.162741</td>\n",
       "      <td>-0.335174</td>\n",
       "      <td>-0.101756</td>\n",
       "      <td>0.002627</td>\n",
       "      <td>-0.078317</td>\n",
       "      <td>0.026097</td>\n",
       "      <td>1.000000</td>\n",
       "      <td>-0.169554</td>\n",
       "    </tr>\n",
       "    <tr>\n",
       "      <th>hour</th>\n",
       "      <td>0.593508</td>\n",
       "      <td>0.351154</td>\n",
       "      <td>0.332303</td>\n",
       "      <td>-0.632428</td>\n",
       "      <td>0.260466</td>\n",
       "      <td>-0.383771</td>\n",
       "      <td>-0.146770</td>\n",
       "      <td>-0.153337</td>\n",
       "      <td>-0.271236</td>\n",
       "      <td>-0.169554</td>\n",
       "      <td>1.000000</td>\n",
       "    </tr>\n",
       "  </tbody>\n",
       "</table>\n",
       "</div>"
      ],
      "text/plain": [
       "                   cnt        t1        t2       hum  wind_speed  \\\n",
       "cnt           1.000000  0.692439  0.675929 -0.845964    0.262179   \n",
       "t1            0.692439  1.000000  0.998713 -0.805692    0.241977   \n",
       "t2            0.675929  0.998713  1.000000 -0.779650    0.199022   \n",
       "hum          -0.845964 -0.805692 -0.779650  1.000000   -0.507375   \n",
       "wind_speed    0.262179  0.241977  0.199022 -0.507375    1.000000   \n",
       "weather_code -0.569584 -0.472005 -0.466771  0.592960   -0.028142   \n",
       "is_holiday   -0.195918 -0.195748 -0.191798  0.094450   -0.127179   \n",
       "is_weekend   -0.264077 -0.145816 -0.145110  0.092385   -0.094057   \n",
       "season       -0.499163 -0.702500 -0.700040  0.593249   -0.190093   \n",
       "year         -0.145639 -0.227016 -0.225298  0.162741   -0.335174   \n",
       "hour          0.593508  0.351154  0.332303 -0.632428    0.260466   \n",
       "\n",
       "              weather_code  is_holiday  is_weekend    season      year  \\\n",
       "cnt              -0.569584   -0.195918   -0.264077 -0.499163 -0.145639   \n",
       "t1               -0.472005   -0.195748   -0.145816 -0.702500 -0.227016   \n",
       "t2               -0.466771   -0.191798   -0.145110 -0.700040 -0.225298   \n",
       "hum               0.592960    0.094450    0.092385  0.593249  0.162741   \n",
       "wind_speed       -0.028142   -0.127179   -0.094057 -0.190093 -0.335174   \n",
       "weather_code      1.000000   -0.043325    0.015398  0.258232 -0.101756   \n",
       "is_holiday       -0.043325    1.000000   -0.260086 -0.070422  0.002627   \n",
       "is_weekend        0.015398   -0.260086    1.000000 -0.021860 -0.078317   \n",
       "season            0.258232   -0.070422   -0.021860  1.000000  0.026097   \n",
       "year             -0.101756    0.002627   -0.078317  0.026097  1.000000   \n",
       "hour             -0.383771   -0.146770   -0.153337 -0.271236 -0.169554   \n",
       "\n",
       "                  hour  \n",
       "cnt           0.593508  \n",
       "t1            0.351154  \n",
       "t2            0.332303  \n",
       "hum          -0.632428  \n",
       "wind_speed    0.260466  \n",
       "weather_code -0.383771  \n",
       "is_holiday   -0.146770  \n",
       "is_weekend   -0.153337  \n",
       "season       -0.271236  \n",
       "year         -0.169554  \n",
       "hour          1.000000  "
      ]
     },
     "execution_count": 12,
     "metadata": {},
     "output_type": "execute_result"
    }
   ],
   "source": [
    "corrMatrix.corr()"
   ]
  },
  {
   "cell_type": "code",
   "execution_count": 13,
   "id": "34a4a8c1",
   "metadata": {},
   "outputs": [
    {
     "data": {
      "text/plain": [
       "2016    8699\n",
       "2015    8643\n",
       "2017      72\n",
       "Name: year, dtype: int64"
      ]
     },
     "execution_count": 13,
     "metadata": {},
     "output_type": "execute_result"
    }
   ],
   "source": [
    "df['year'].value_counts()"
   ]
  },
  {
   "cell_type": "markdown",
   "id": "da36d3b9",
   "metadata": {},
   "source": [
    "Our data set contians data for years 2015-2017. Let's split it on each year and build Linear Regression model."
   ]
  },
  {
   "cell_type": "code",
   "execution_count": 14,
   "id": "66e90556",
   "metadata": {},
   "outputs": [],
   "source": [
    "df_2015 = df[df['year'] == 2015].copy()\n",
    "df_2016 = df[df['year'] == 2016].copy()\n",
    "df_2017 = df[df['year'] == 2017].copy()"
   ]
  },
  {
   "cell_type": "code",
   "execution_count": 15,
   "id": "6ff44256",
   "metadata": {},
   "outputs": [],
   "source": [
    "df_corr['year'] = df['year']\n",
    "df_corr['hour'] = df['hour']\n",
    "\n",
    "df_corr['hour'] = (df_corr['hour'] - df_corr['hour'].min()) / (df_corr['hour'].max() - df_corr['hour'].min())\n",
    "df_corr['cnt1'] = df_corr['cnt']\n",
    "df_corr = df_corr.drop(labels=['cnt'], axis=1)\n",
    "\n",
    "df_corr_2015 = df_corr[df_corr['year'] == 2015]\n",
    "df_corr_2015 = df_corr_2015.drop(labels=['year'], axis=1)\n",
    "\n",
    "df_corr_2016 = df_corr[df_corr['year'] == 2016]\n",
    "df_corr_2016 = df_corr_2016.drop(labels=['year'], axis=1)\n",
    "\n",
    "df_corr_2017 = df_corr[df_corr['year'] == 2017]\n",
    "df_corr_2017 = df_corr_2017.drop(labels=['year'], axis=1)"
   ]
  },
  {
   "cell_type": "code",
   "execution_count": 16,
   "id": "fff1f922",
   "metadata": {},
   "outputs": [
    {
     "data": {
      "image/png": "[encoded data removed]",
      "text/plain": [
       "<Figure size 432x288 with 1 Axes>"
      ]
     },
     "metadata": {
      "needs_background": "light"
     },
     "output_type": "display_data"
    }
   ],
   "source": [
    "plt.figure()\n",
    "\n",
    "plt.title('Correlation: cnt vs hour')\n",
    "plt.scatter(df_corr.cnt1, df_corr.hour, marker='+')\n",
    "plt.xlabel('hour')\n",
    "plt.ylabel('cnt')\n",
    "plt.show() "
   ]
  },
  {
   "cell_type": "code",
   "execution_count": 17,
   "id": "c480d522",
   "metadata": {},
   "outputs": [
    {
     "data": {
      "text/plain": [
       "LinearRegression()"
      ]
     },
     "execution_count": 17,
     "metadata": {},
     "output_type": "execute_result"
    }
   ],
   "source": [
    "#split df on train and test set based on each year:\n",
    "y_2015 = df_corr_2015['cnt1']\n",
    "X_2015 = df_corr_2015.drop(labels=['cnt1'], axis=1)\n",
    "X_train_2015, X_test_2015, y_train_2015, y_test_2015 = train_test_split(X_2015, y_2015, test_size=0.2, random_state=0)\n",
    "\n",
    "y_2016 = df_corr_2016['cnt1']\n",
    "X_2016 = df_corr_2016.drop(labels=['cnt1'], axis=1)\n",
    "X_train_2016, X_test_2016, y_train_2016, y_test_2016 = train_test_split(X_2016, y_2016, test_size=0.2, random_state=0)\n",
    "\n",
    "y_2017 = df_corr_2017['cnt1']\n",
    "X_2017 = df_corr_2017.drop(labels=['cnt1'], axis=1)\n",
    "#we split data on 60/40 here, becasue this df contians only 72 rows\n",
    "X_train_2017, X_test_2017, y_train_2017, y_test_2017 = train_test_split(X_2017, y_2017, test_size=0.4, random_state=0)\n",
    "\n",
    "#building regresion model\n",
    "reg_2015 = LinearRegression()\n",
    "reg_2015.fit(X_train_2015, y_train_2015)\n",
    "\n",
    "reg_2016 = LinearRegression()\n",
    "reg_2016.fit(X_train_2016, y_train_2016)\n",
    "\n",
    "reg_2017 = LinearRegression()\n",
    "reg_2017.fit(X_train_2017, y_train_2017)"
   ]
  },
  {
   "cell_type": "code",
   "execution_count": 18,
   "id": "1efb0f41",
   "metadata": {},
   "outputs": [
    {
     "name": "stdout",
     "output_type": "stream",
     "text": [
      "Our model prediction score for 2015 year: 0.32\n",
      "Our model prediction score for 2016 year: 0.3\n",
      "Our model prediction score for 2017 year: 0.07\n"
     ]
    }
   ],
   "source": [
    "y_pred_2015 = reg_2015.predict(X_test_2015)\n",
    "print(f'Our model prediction score for 2015 year: {round(r2_score(y_test_2015, y_pred_2015),2)}')\n",
    "\n",
    "y_pred_2016 = reg_2016.predict(X_test_2016)\n",
    "print(f'Our model prediction score for 2016 year: {round(r2_score(y_test_2016, y_pred_2016),2)}')\n",
    "\n",
    "y_pred_2017 = reg_2016.predict(X_test_2017)\n",
    "print(f'Our model prediction score for 2017 year: {round(r2_score(y_test_2017, y_pred_2017),2)}')"
   ]
  },
  {
   "cell_type": "markdown",
   "id": "294bf0b7",
   "metadata": {},
   "source": [
    "## Conclusions ##\n",
    "\n",
    "- our data set didn't contain any missing values, so we didn't had to handle with missing data,\n",
    "\n",
    "\n",
    "- we noticed that the biggest, postive correlation was in t1 and t2 columns, \n",
    "\n",
    "\n",
    "- negative correlation was in hum column,\n",
    "\n",
    "\n",
    "- first, we build model without looking at date column and our prediction score was: **0.27**. Then we split data set per each year - 2015, 2016 and 2017. In 2017 we got the worst result, becasue we had only 72 rows and this to less to build good prediction model. Howver, for year 2015 and 2016 we got better results: **0.32** and **0.3**. This time we also added hour column, but looking and plot with correaltion: cnt vs hour, there wasn't any significantly correlation. One reason of better scores could be less data than previous. However, in the feature, if some data will be added to this set and we will wnat predict cnt values, it is good practise to split data on year."
   ]
  }
 ],
 "metadata": {
  "kernelspec": {
   "display_name": "Python 3",
   "language": "python",
   "name": "python3"
  },
  "language_info": {
   "codemirror_mode": {
    "name": "ipython",
    "version": 3
   },
   "file_extension": ".py",
   "mimetype": "text/x-python",
   "name": "python",
   "nbconvert_exporter": "python",
   "pygments_lexer": "ipython3",
   "version": "3.8.8"
  }
 },
 "nbformat": 4,
 "nbformat_minor": 5
}
