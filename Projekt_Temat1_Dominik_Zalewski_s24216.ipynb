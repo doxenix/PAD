{
 "cells": [
  {
   "cell_type": "markdown",
   "id": "4e8b8561",
   "metadata": {},
   "source": [
    "# Projekt koncowy z przedmiotu Programowanie dla analityki danych - Temat 1\n",
    "\n",
    "W tym projekcie dokonamy predykcji wartości nieruchomości w Bostonie. W tym celu zbudujemy dwa modele, jeden z wykorzystaniem regresji liniowej, natomiast w drugim przypadku posłóżymy się dodatkowo sieciami neuronowymi. Naszym głównym celem jest sprawdzenie który model będzie bardziej precyzyjny i aby to rozstrzygnąć skorzystamy ze wskażnika R2. Dodatkowo przyjrzymy się, które kolumny są ze sobą skorelowane i poszukamy pewnych zależnosći między tymi kolumnami. Naszym zbiorem danych będzie data set `Boston Housing`."
   ]
  },
  {
   "cell_type": "markdown",
   "id": "98aa30dd",
   "metadata": {},
   "source": [
    "## Wczytanie zbioru danych i wstępna analiza"
   ]
  },
  {
   "cell_type": "code",
   "execution_count": 1,
   "id": "5488c9ad",
   "metadata": {},
   "outputs": [],
   "source": [
    "import pandas as pd\n",
    "from sklearn.model_selection import train_test_split\n",
    "import warnings\n",
    "warnings.filterwarnings('ignore')\n",
    "import numpy as np\n",
    "import matplotlib.pyplot as plt\n",
    "from sklearn.linear_model import LinearRegression\n",
    "from sklearn.metrics import mean_squared_error, r2_score\n",
    "\n",
    "PATH = r'C:\\Users\\Dominik\\Desktop\\Studia\\Programowanie dla analityki danych\\BostonHousing.csv'\n",
    "\n",
    "df = pd.read_csv(PATH)"
   ]
  },
  {
   "cell_type": "code",
   "execution_count": 2,
   "id": "e41dd80e",
   "metadata": {},
   "outputs": [
    {
     "data": {
      "text/html": [
       "<div>\n",
       "<style scoped>\n",
       "    .dataframe tbody tr th:only-of-type {\n",
       "        vertical-align: middle;\n",
       "    }\n",
       "\n",
       "    .dataframe tbody tr th {\n",
       "        vertical-align: top;\n",
       "    }\n",
       "\n",
       "    .dataframe thead th {\n",
       "        text-align: right;\n",
       "    }\n",
       "</style>\n",
       "<table border=\"1\" class=\"dataframe\">\n",
       "  <thead>\n",
       "    <tr style=\"text-align: right;\">\n",
       "      <th></th>\n",
       "      <th>crim</th>\n",
       "      <th>zn</th>\n",
       "      <th>indus</th>\n",
       "      <th>chas</th>\n",
       "      <th>nox</th>\n",
       "      <th>rm</th>\n",
       "      <th>age</th>\n",
       "      <th>dis</th>\n",
       "      <th>rad</th>\n",
       "      <th>tax</th>\n",
       "      <th>ptratio</th>\n",
       "      <th>b</th>\n",
       "      <th>lstat</th>\n",
       "      <th>medv</th>\n",
       "    </tr>\n",
       "  </thead>\n",
       "  <tbody>\n",
       "    <tr>\n",
       "      <th>0</th>\n",
       "      <td>0.00632</td>\n",
       "      <td>18.0</td>\n",
       "      <td>2.31</td>\n",
       "      <td>0</td>\n",
       "      <td>0.538</td>\n",
       "      <td>6.575</td>\n",
       "      <td>65.2</td>\n",
       "      <td>4.0900</td>\n",
       "      <td>1</td>\n",
       "      <td>296</td>\n",
       "      <td>15.3</td>\n",
       "      <td>396.90</td>\n",
       "      <td>4.98</td>\n",
       "      <td>24.0</td>\n",
       "    </tr>\n",
       "    <tr>\n",
       "      <th>1</th>\n",
       "      <td>0.02731</td>\n",
       "      <td>0.0</td>\n",
       "      <td>7.07</td>\n",
       "      <td>0</td>\n",
       "      <td>0.469</td>\n",
       "      <td>6.421</td>\n",
       "      <td>78.9</td>\n",
       "      <td>4.9671</td>\n",
       "      <td>2</td>\n",
       "      <td>242</td>\n",
       "      <td>17.8</td>\n",
       "      <td>396.90</td>\n",
       "      <td>9.14</td>\n",
       "      <td>21.6</td>\n",
       "    </tr>\n",
       "    <tr>\n",
       "      <th>2</th>\n",
       "      <td>0.02729</td>\n",
       "      <td>0.0</td>\n",
       "      <td>7.07</td>\n",
       "      <td>0</td>\n",
       "      <td>0.469</td>\n",
       "      <td>7.185</td>\n",
       "      <td>61.1</td>\n",
       "      <td>4.9671</td>\n",
       "      <td>2</td>\n",
       "      <td>242</td>\n",
       "      <td>17.8</td>\n",
       "      <td>392.83</td>\n",
       "      <td>4.03</td>\n",
       "      <td>34.7</td>\n",
       "    </tr>\n",
       "    <tr>\n",
       "      <th>3</th>\n",
       "      <td>0.03237</td>\n",
       "      <td>0.0</td>\n",
       "      <td>2.18</td>\n",
       "      <td>0</td>\n",
       "      <td>0.458</td>\n",
       "      <td>6.998</td>\n",
       "      <td>45.8</td>\n",
       "      <td>6.0622</td>\n",
       "      <td>3</td>\n",
       "      <td>222</td>\n",
       "      <td>18.7</td>\n",
       "      <td>394.63</td>\n",
       "      <td>2.94</td>\n",
       "      <td>33.4</td>\n",
       "    </tr>\n",
       "    <tr>\n",
       "      <th>4</th>\n",
       "      <td>0.06905</td>\n",
       "      <td>0.0</td>\n",
       "      <td>2.18</td>\n",
       "      <td>0</td>\n",
       "      <td>0.458</td>\n",
       "      <td>7.147</td>\n",
       "      <td>54.2</td>\n",
       "      <td>6.0622</td>\n",
       "      <td>3</td>\n",
       "      <td>222</td>\n",
       "      <td>18.7</td>\n",
       "      <td>396.90</td>\n",
       "      <td>5.33</td>\n",
       "      <td>36.2</td>\n",
       "    </tr>\n",
       "  </tbody>\n",
       "</table>\n",
       "</div>"
      ],
      "text/plain": [
       "      crim    zn  indus  chas    nox     rm   age     dis  rad  tax  ptratio  \\\n",
       "0  0.00632  18.0   2.31     0  0.538  6.575  65.2  4.0900    1  296     15.3   \n",
       "1  0.02731   0.0   7.07     0  0.469  6.421  78.9  4.9671    2  242     17.8   \n",
       "2  0.02729   0.0   7.07     0  0.469  7.185  61.1  4.9671    2  242     17.8   \n",
       "3  0.03237   0.0   2.18     0  0.458  6.998  45.8  6.0622    3  222     18.7   \n",
       "4  0.06905   0.0   2.18     0  0.458  7.147  54.2  6.0622    3  222     18.7   \n",
       "\n",
       "        b  lstat  medv  \n",
       "0  396.90   4.98  24.0  \n",
       "1  396.90   9.14  21.6  \n",
       "2  392.83   4.03  34.7  \n",
       "3  394.63   2.94  33.4  \n",
       "4  396.90   5.33  36.2  "
      ]
     },
     "execution_count": 2,
     "metadata": {},
     "output_type": "execute_result"
    }
   ],
   "source": [
    "df.head()"
   ]
  },
  {
   "cell_type": "code",
   "execution_count": 3,
   "id": "9e1a0459",
   "metadata": {},
   "outputs": [
    {
     "name": "stdout",
     "output_type": "stream",
     "text": [
      "<class 'pandas.core.frame.DataFrame'>\n",
      "RangeIndex: 506 entries, 0 to 505\n",
      "Data columns (total 14 columns):\n",
      " #   Column   Non-Null Count  Dtype  \n",
      "---  ------   --------------  -----  \n",
      " 0   crim     506 non-null    float64\n",
      " 1   zn       506 non-null    float64\n",
      " 2   indus    506 non-null    float64\n",
      " 3   chas     506 non-null    int64  \n",
      " 4   nox      506 non-null    float64\n",
      " 5   rm       506 non-null    float64\n",
      " 6   age      506 non-null    float64\n",
      " 7   dis      506 non-null    float64\n",
      " 8   rad      506 non-null    int64  \n",
      " 9   tax      506 non-null    int64  \n",
      " 10  ptratio  506 non-null    float64\n",
      " 11  b        506 non-null    float64\n",
      " 12  lstat    506 non-null    float64\n",
      " 13  medv     506 non-null    float64\n",
      "dtypes: float64(11), int64(3)\n",
      "memory usage: 55.5 KB\n"
     ]
    }
   ],
   "source": [
    "df.info()"
   ]
  },
  {
   "cell_type": "markdown",
   "id": "49976dc0",
   "metadata": {},
   "source": [
    "Nasz data set zawiera 506 wierszy, z czego wszystkie kolumny są typu numerycznego: float i intiger. Dodatkowo nie mamy żadnych pustych wartości, co oznacza, że możemy przejść do standaryzacji naszego zbioru."
   ]
  },
  {
   "cell_type": "markdown",
   "id": "cde79dfe",
   "metadata": {},
   "source": [
    "## Standaryzacja i przygotowanie zbioru do trenowania modelu\n",
    "\n",
    "Z racji tego, że będziemy korzystać z modelów regresji, niezbędne jest dokonanie standaryzacji na naszym zbiorze. Zapobiegnie to różnym, nieprzewidzianym zachowaniom podczas trenowania naszych modeli z powodu potencjalnych odstających wartości."
   ]
  },
  {
   "cell_type": "code",
   "execution_count": 4,
   "id": "edb07784",
   "metadata": {},
   "outputs": [
    {
     "data": {
      "text/html": [
       "<div>\n",
       "<style scoped>\n",
       "    .dataframe tbody tr th:only-of-type {\n",
       "        vertical-align: middle;\n",
       "    }\n",
       "\n",
       "    .dataframe tbody tr th {\n",
       "        vertical-align: top;\n",
       "    }\n",
       "\n",
       "    .dataframe thead th {\n",
       "        text-align: right;\n",
       "    }\n",
       "</style>\n",
       "<table border=\"1\" class=\"dataframe\">\n",
       "  <thead>\n",
       "    <tr style=\"text-align: right;\">\n",
       "      <th></th>\n",
       "      <th>crim</th>\n",
       "      <th>zn</th>\n",
       "      <th>indus</th>\n",
       "      <th>chas</th>\n",
       "      <th>nox</th>\n",
       "      <th>rm</th>\n",
       "      <th>age</th>\n",
       "      <th>dis</th>\n",
       "      <th>rad</th>\n",
       "      <th>tax</th>\n",
       "      <th>ptratio</th>\n",
       "      <th>b</th>\n",
       "      <th>lstat</th>\n",
       "      <th>medv</th>\n",
       "    </tr>\n",
       "  </thead>\n",
       "  <tbody>\n",
       "    <tr>\n",
       "      <th>0</th>\n",
       "      <td>0.000000</td>\n",
       "      <td>0.18</td>\n",
       "      <td>0.067815</td>\n",
       "      <td>0.0</td>\n",
       "      <td>0.314815</td>\n",
       "      <td>0.577505</td>\n",
       "      <td>0.641607</td>\n",
       "      <td>0.269203</td>\n",
       "      <td>0.000000</td>\n",
       "      <td>0.208015</td>\n",
       "      <td>0.287234</td>\n",
       "      <td>1.000000</td>\n",
       "      <td>0.089680</td>\n",
       "      <td>24.0</td>\n",
       "    </tr>\n",
       "    <tr>\n",
       "      <th>1</th>\n",
       "      <td>0.000236</td>\n",
       "      <td>0.00</td>\n",
       "      <td>0.242302</td>\n",
       "      <td>0.0</td>\n",
       "      <td>0.172840</td>\n",
       "      <td>0.547998</td>\n",
       "      <td>0.782698</td>\n",
       "      <td>0.348962</td>\n",
       "      <td>0.043478</td>\n",
       "      <td>0.104962</td>\n",
       "      <td>0.553191</td>\n",
       "      <td>1.000000</td>\n",
       "      <td>0.204470</td>\n",
       "      <td>21.6</td>\n",
       "    </tr>\n",
       "    <tr>\n",
       "      <th>2</th>\n",
       "      <td>0.000236</td>\n",
       "      <td>0.00</td>\n",
       "      <td>0.242302</td>\n",
       "      <td>0.0</td>\n",
       "      <td>0.172840</td>\n",
       "      <td>0.694386</td>\n",
       "      <td>0.599382</td>\n",
       "      <td>0.348962</td>\n",
       "      <td>0.043478</td>\n",
       "      <td>0.104962</td>\n",
       "      <td>0.553191</td>\n",
       "      <td>0.989737</td>\n",
       "      <td>0.063466</td>\n",
       "      <td>34.7</td>\n",
       "    </tr>\n",
       "    <tr>\n",
       "      <th>3</th>\n",
       "      <td>0.000293</td>\n",
       "      <td>0.00</td>\n",
       "      <td>0.063050</td>\n",
       "      <td>0.0</td>\n",
       "      <td>0.150206</td>\n",
       "      <td>0.658555</td>\n",
       "      <td>0.441813</td>\n",
       "      <td>0.448545</td>\n",
       "      <td>0.086957</td>\n",
       "      <td>0.066794</td>\n",
       "      <td>0.648936</td>\n",
       "      <td>0.994276</td>\n",
       "      <td>0.033389</td>\n",
       "      <td>33.4</td>\n",
       "    </tr>\n",
       "    <tr>\n",
       "      <th>4</th>\n",
       "      <td>0.000705</td>\n",
       "      <td>0.00</td>\n",
       "      <td>0.063050</td>\n",
       "      <td>0.0</td>\n",
       "      <td>0.150206</td>\n",
       "      <td>0.687105</td>\n",
       "      <td>0.528321</td>\n",
       "      <td>0.448545</td>\n",
       "      <td>0.086957</td>\n",
       "      <td>0.066794</td>\n",
       "      <td>0.648936</td>\n",
       "      <td>1.000000</td>\n",
       "      <td>0.099338</td>\n",
       "      <td>36.2</td>\n",
       "    </tr>\n",
       "  </tbody>\n",
       "</table>\n",
       "</div>"
      ],
      "text/plain": [
       "       crim    zn     indus  chas       nox        rm       age       dis  \\\n",
       "0  0.000000  0.18  0.067815   0.0  0.314815  0.577505  0.641607  0.269203   \n",
       "1  0.000236  0.00  0.242302   0.0  0.172840  0.547998  0.782698  0.348962   \n",
       "2  0.000236  0.00  0.242302   0.0  0.172840  0.694386  0.599382  0.348962   \n",
       "3  0.000293  0.00  0.063050   0.0  0.150206  0.658555  0.441813  0.448545   \n",
       "4  0.000705  0.00  0.063050   0.0  0.150206  0.687105  0.528321  0.448545   \n",
       "\n",
       "        rad       tax   ptratio         b     lstat  medv  \n",
       "0  0.000000  0.208015  0.287234  1.000000  0.089680  24.0  \n",
       "1  0.043478  0.104962  0.553191  1.000000  0.204470  21.6  \n",
       "2  0.043478  0.104962  0.553191  0.989737  0.063466  34.7  \n",
       "3  0.086957  0.066794  0.648936  0.994276  0.033389  33.4  \n",
       "4  0.086957  0.066794  0.648936  1.000000  0.099338  36.2  "
      ]
     },
     "execution_count": 4,
     "metadata": {},
     "output_type": "execute_result"
    }
   ],
   "source": [
    "#standardization of df \n",
    "df_to_stand = df.iloc[:,:-1].copy()\n",
    "df_to_stand = (df_to_stand - df_to_stand.min()) / (df_to_stand.max() - df_to_stand.min())\n",
    "df_to_stand['medv'] = df['medv']\n",
    "\n",
    "#chnage df name on previous format\n",
    "df = df_to_stand\n",
    "df.head()"
   ]
  },
  {
   "cell_type": "markdown",
   "id": "1ddf7100",
   "metadata": {},
   "source": [
    "## Train / test split\n",
    "\n",
    "Przed zbudowaniem modelu potrzebujemy podzielić nasz data set na zbiór treningowy oraz testowy. Na zbiorze treningowym, tak jak wskazuje nazwa, wytrenujemy nasz model. Gotowy model wykorzystamy do predykcji na zbiorze testowym. Zbiór podzielimy w proporcji 0.75 (treningowy) / 0.25 (testowy)"
   ]
  },
  {
   "cell_type": "code",
   "execution_count": 5,
   "id": "7b6e0eb2",
   "metadata": {},
   "outputs": [],
   "source": [
    "\n",
    "y = df['medv']\n",
    "X = df[df.columns.difference(['medv'])]\n",
    "#drop chas column\n",
    "X = X.drop(columns='chas', axis=1)\n",
    "\n",
    "X_train, X_test, y_train, y_test = train_test_split(X, y, test_size=0.25, random_state=0)"
   ]
  },
  {
   "cell_type": "markdown",
   "id": "1b6c6fd9",
   "metadata": {},
   "source": [
    "## Korelacja - heatmapa i dataframe\n",
    "\n",
    "Sprawdzenie korelacji jest zawsze ważnym i niezbędnym elementem podczas analizy danych i budowania modeli uczenia maszynowego. Sprawdzimy teraz które kolumny w naszym zbiorze są ze sobą skorelowane. Aby ułatwić nam analizę korelacji poszczególnych kolumn w naszym zbiorze, stworzymy heatmape. W tym celu skorzystamy z biblioteki matplotlib."
   ]
  },
  {
   "cell_type": "code",
   "execution_count": 6,
   "id": "e7bf7e8f",
   "metadata": {},
   "outputs": [
    {
     "data": {
      "image/png": "[encoded data removed]",
      "text/plain": [
       "<Figure size 864x864 with 2 Axes>"
      ]
     },
     "metadata": {
      "needs_background": "light"
     },
     "output_type": "display_data"
    }
   ],
   "source": [
    "#create df with proper columns to heatmap\n",
    "df_to_heatmap = df[df.columns.difference(['chas'])]\n",
    "corrMatrix = df_to_heatmap.corr()\n",
    "\n",
    "#create heatmap\n",
    "plt.figure(figsize=(12,12))\n",
    "plt.matshow(corrMatrix.corr(),fignum=1)\n",
    "plt.xticks(ticks = list(range(len(df_to_heatmap.columns))),labels = df_to_heatmap.keys())\n",
    "plt.yticks(ticks = list(range(len(df_to_heatmap.columns))),labels = df_to_heatmap.keys())\n",
    "plt.colorbar()\n",
    "plt.show()"
   ]
  },
  {
   "cell_type": "code",
   "execution_count": 7,
   "id": "08f6c39a",
   "metadata": {},
   "outputs": [
    {
     "data": {
      "text/html": [
       "<div>\n",
       "<style scoped>\n",
       "    .dataframe tbody tr th:only-of-type {\n",
       "        vertical-align: middle;\n",
       "    }\n",
       "\n",
       "    .dataframe tbody tr th {\n",
       "        vertical-align: top;\n",
       "    }\n",
       "\n",
       "    .dataframe thead th {\n",
       "        text-align: right;\n",
       "    }\n",
       "</style>\n",
       "<table border=\"1\" class=\"dataframe\">\n",
       "  <thead>\n",
       "    <tr style=\"text-align: right;\">\n",
       "      <th></th>\n",
       "      <th>age</th>\n",
       "      <th>b</th>\n",
       "      <th>crim</th>\n",
       "      <th>dis</th>\n",
       "      <th>indus</th>\n",
       "      <th>lstat</th>\n",
       "      <th>medv</th>\n",
       "      <th>nox</th>\n",
       "      <th>ptratio</th>\n",
       "      <th>rad</th>\n",
       "      <th>rm</th>\n",
       "      <th>tax</th>\n",
       "      <th>zn</th>\n",
       "    </tr>\n",
       "  </thead>\n",
       "  <tbody>\n",
       "    <tr>\n",
       "      <th>age</th>\n",
       "      <td>1.000000</td>\n",
       "      <td>-0.273534</td>\n",
       "      <td>0.352734</td>\n",
       "      <td>-0.747881</td>\n",
       "      <td>0.644779</td>\n",
       "      <td>0.602339</td>\n",
       "      <td>-0.376955</td>\n",
       "      <td>0.731470</td>\n",
       "      <td>0.261515</td>\n",
       "      <td>0.456022</td>\n",
       "      <td>-0.240265</td>\n",
       "      <td>0.506456</td>\n",
       "      <td>-0.569537</td>\n",
       "    </tr>\n",
       "    <tr>\n",
       "      <th>b</th>\n",
       "      <td>-0.273534</td>\n",
       "      <td>1.000000</td>\n",
       "      <td>-0.385064</td>\n",
       "      <td>0.291512</td>\n",
       "      <td>-0.356977</td>\n",
       "      <td>-0.366087</td>\n",
       "      <td>0.333461</td>\n",
       "      <td>-0.380051</td>\n",
       "      <td>-0.177383</td>\n",
       "      <td>-0.444413</td>\n",
       "      <td>0.128069</td>\n",
       "      <td>-0.441808</td>\n",
       "      <td>0.175520</td>\n",
       "    </tr>\n",
       "    <tr>\n",
       "      <th>crim</th>\n",
       "      <td>0.352734</td>\n",
       "      <td>-0.385064</td>\n",
       "      <td>1.000000</td>\n",
       "      <td>-0.379670</td>\n",
       "      <td>0.406583</td>\n",
       "      <td>0.455621</td>\n",
       "      <td>-0.388305</td>\n",
       "      <td>0.420972</td>\n",
       "      <td>0.289946</td>\n",
       "      <td>0.625505</td>\n",
       "      <td>-0.219247</td>\n",
       "      <td>0.582764</td>\n",
       "      <td>-0.200469</td>\n",
       "    </tr>\n",
       "    <tr>\n",
       "      <th>dis</th>\n",
       "      <td>-0.747881</td>\n",
       "      <td>0.291512</td>\n",
       "      <td>-0.379670</td>\n",
       "      <td>1.000000</td>\n",
       "      <td>-0.708027</td>\n",
       "      <td>-0.496996</td>\n",
       "      <td>0.249929</td>\n",
       "      <td>-0.769230</td>\n",
       "      <td>-0.232471</td>\n",
       "      <td>-0.494588</td>\n",
       "      <td>0.205246</td>\n",
       "      <td>-0.534432</td>\n",
       "      <td>0.664408</td>\n",
       "    </tr>\n",
       "    <tr>\n",
       "      <th>indus</th>\n",
       "      <td>0.644779</td>\n",
       "      <td>-0.356977</td>\n",
       "      <td>0.406583</td>\n",
       "      <td>-0.708027</td>\n",
       "      <td>1.000000</td>\n",
       "      <td>0.603800</td>\n",
       "      <td>-0.483725</td>\n",
       "      <td>0.763651</td>\n",
       "      <td>0.383248</td>\n",
       "      <td>0.595129</td>\n",
       "      <td>-0.391676</td>\n",
       "      <td>0.720760</td>\n",
       "      <td>-0.533828</td>\n",
       "    </tr>\n",
       "    <tr>\n",
       "      <th>lstat</th>\n",
       "      <td>0.602339</td>\n",
       "      <td>-0.366087</td>\n",
       "      <td>0.455621</td>\n",
       "      <td>-0.496996</td>\n",
       "      <td>0.603800</td>\n",
       "      <td>1.000000</td>\n",
       "      <td>-0.737663</td>\n",
       "      <td>0.590879</td>\n",
       "      <td>0.374044</td>\n",
       "      <td>0.488676</td>\n",
       "      <td>-0.613808</td>\n",
       "      <td>0.543993</td>\n",
       "      <td>-0.412995</td>\n",
       "    </tr>\n",
       "    <tr>\n",
       "      <th>medv</th>\n",
       "      <td>-0.376955</td>\n",
       "      <td>0.333461</td>\n",
       "      <td>-0.388305</td>\n",
       "      <td>0.249929</td>\n",
       "      <td>-0.483725</td>\n",
       "      <td>-0.737663</td>\n",
       "      <td>1.000000</td>\n",
       "      <td>-0.427321</td>\n",
       "      <td>-0.507787</td>\n",
       "      <td>-0.381626</td>\n",
       "      <td>0.695360</td>\n",
       "      <td>-0.468536</td>\n",
       "      <td>0.360445</td>\n",
       "    </tr>\n",
       "    <tr>\n",
       "      <th>nox</th>\n",
       "      <td>0.731470</td>\n",
       "      <td>-0.380051</td>\n",
       "      <td>0.420972</td>\n",
       "      <td>-0.769230</td>\n",
       "      <td>0.763651</td>\n",
       "      <td>0.590879</td>\n",
       "      <td>-0.427321</td>\n",
       "      <td>1.000000</td>\n",
       "      <td>0.188933</td>\n",
       "      <td>0.611441</td>\n",
       "      <td>-0.302188</td>\n",
       "      <td>0.668023</td>\n",
       "      <td>-0.516604</td>\n",
       "    </tr>\n",
       "    <tr>\n",
       "      <th>ptratio</th>\n",
       "      <td>0.261515</td>\n",
       "      <td>-0.177383</td>\n",
       "      <td>0.289946</td>\n",
       "      <td>-0.232471</td>\n",
       "      <td>0.383248</td>\n",
       "      <td>0.374044</td>\n",
       "      <td>-0.507787</td>\n",
       "      <td>0.188933</td>\n",
       "      <td>1.000000</td>\n",
       "      <td>0.464741</td>\n",
       "      <td>-0.355501</td>\n",
       "      <td>0.460853</td>\n",
       "      <td>-0.391679</td>\n",
       "    </tr>\n",
       "    <tr>\n",
       "      <th>rad</th>\n",
       "      <td>0.456022</td>\n",
       "      <td>-0.444413</td>\n",
       "      <td>0.625505</td>\n",
       "      <td>-0.494588</td>\n",
       "      <td>0.595129</td>\n",
       "      <td>0.488676</td>\n",
       "      <td>-0.381626</td>\n",
       "      <td>0.611441</td>\n",
       "      <td>0.464741</td>\n",
       "      <td>1.000000</td>\n",
       "      <td>-0.209847</td>\n",
       "      <td>0.910228</td>\n",
       "      <td>-0.311948</td>\n",
       "    </tr>\n",
       "    <tr>\n",
       "      <th>rm</th>\n",
       "      <td>-0.240265</td>\n",
       "      <td>0.128069</td>\n",
       "      <td>-0.219247</td>\n",
       "      <td>0.205246</td>\n",
       "      <td>-0.391676</td>\n",
       "      <td>-0.613808</td>\n",
       "      <td>0.695360</td>\n",
       "      <td>-0.302188</td>\n",
       "      <td>-0.355501</td>\n",
       "      <td>-0.209847</td>\n",
       "      <td>1.000000</td>\n",
       "      <td>-0.292048</td>\n",
       "      <td>0.311991</td>\n",
       "    </tr>\n",
       "    <tr>\n",
       "      <th>tax</th>\n",
       "      <td>0.506456</td>\n",
       "      <td>-0.441808</td>\n",
       "      <td>0.582764</td>\n",
       "      <td>-0.534432</td>\n",
       "      <td>0.720760</td>\n",
       "      <td>0.543993</td>\n",
       "      <td>-0.468536</td>\n",
       "      <td>0.668023</td>\n",
       "      <td>0.460853</td>\n",
       "      <td>0.910228</td>\n",
       "      <td>-0.292048</td>\n",
       "      <td>1.000000</td>\n",
       "      <td>-0.314563</td>\n",
       "    </tr>\n",
       "    <tr>\n",
       "      <th>zn</th>\n",
       "      <td>-0.569537</td>\n",
       "      <td>0.175520</td>\n",
       "      <td>-0.200469</td>\n",
       "      <td>0.664408</td>\n",
       "      <td>-0.533828</td>\n",
       "      <td>-0.412995</td>\n",
       "      <td>0.360445</td>\n",
       "      <td>-0.516604</td>\n",
       "      <td>-0.391679</td>\n",
       "      <td>-0.311948</td>\n",
       "      <td>0.311991</td>\n",
       "      <td>-0.314563</td>\n",
       "      <td>1.000000</td>\n",
       "    </tr>\n",
       "  </tbody>\n",
       "</table>\n",
       "</div>"
      ],
      "text/plain": [
       "              age         b      crim       dis     indus     lstat      medv  \\\n",
       "age      1.000000 -0.273534  0.352734 -0.747881  0.644779  0.602339 -0.376955   \n",
       "b       -0.273534  1.000000 -0.385064  0.291512 -0.356977 -0.366087  0.333461   \n",
       "crim     0.352734 -0.385064  1.000000 -0.379670  0.406583  0.455621 -0.388305   \n",
       "dis     -0.747881  0.291512 -0.379670  1.000000 -0.708027 -0.496996  0.249929   \n",
       "indus    0.644779 -0.356977  0.406583 -0.708027  1.000000  0.603800 -0.483725   \n",
       "lstat    0.602339 -0.366087  0.455621 -0.496996  0.603800  1.000000 -0.737663   \n",
       "medv    -0.376955  0.333461 -0.388305  0.249929 -0.483725 -0.737663  1.000000   \n",
       "nox      0.731470 -0.380051  0.420972 -0.769230  0.763651  0.590879 -0.427321   \n",
       "ptratio  0.261515 -0.177383  0.289946 -0.232471  0.383248  0.374044 -0.507787   \n",
       "rad      0.456022 -0.444413  0.625505 -0.494588  0.595129  0.488676 -0.381626   \n",
       "rm      -0.240265  0.128069 -0.219247  0.205246 -0.391676 -0.613808  0.695360   \n",
       "tax      0.506456 -0.441808  0.582764 -0.534432  0.720760  0.543993 -0.468536   \n",
       "zn      -0.569537  0.175520 -0.200469  0.664408 -0.533828 -0.412995  0.360445   \n",
       "\n",
       "              nox   ptratio       rad        rm       tax        zn  \n",
       "age      0.731470  0.261515  0.456022 -0.240265  0.506456 -0.569537  \n",
       "b       -0.380051 -0.177383 -0.444413  0.128069 -0.441808  0.175520  \n",
       "crim     0.420972  0.289946  0.625505 -0.219247  0.582764 -0.200469  \n",
       "dis     -0.769230 -0.232471 -0.494588  0.205246 -0.534432  0.664408  \n",
       "indus    0.763651  0.383248  0.595129 -0.391676  0.720760 -0.533828  \n",
       "lstat    0.590879  0.374044  0.488676 -0.613808  0.543993 -0.412995  \n",
       "medv    -0.427321 -0.507787 -0.381626  0.695360 -0.468536  0.360445  \n",
       "nox      1.000000  0.188933  0.611441 -0.302188  0.668023 -0.516604  \n",
       "ptratio  0.188933  1.000000  0.464741 -0.355501  0.460853 -0.391679  \n",
       "rad      0.611441  0.464741  1.000000 -0.209847  0.910228 -0.311948  \n",
       "rm      -0.302188 -0.355501 -0.209847  1.000000 -0.292048  0.311991  \n",
       "tax      0.668023  0.460853  0.910228 -0.292048  1.000000 -0.314563  \n",
       "zn      -0.516604 -0.391679 -0.311948  0.311991 -0.314563  1.000000  "
      ]
     },
     "execution_count": 7,
     "metadata": {},
     "output_type": "execute_result"
    }
   ],
   "source": [
    "corrMatrix"
   ]
  },
  {
   "cell_type": "code",
   "execution_count": 8,
   "id": "4e0504a4",
   "metadata": {},
   "outputs": [
    {
     "data": {
      "text/html": [
       "<div>\n",
       "<style scoped>\n",
       "    .dataframe tbody tr th:only-of-type {\n",
       "        vertical-align: middle;\n",
       "    }\n",
       "\n",
       "    .dataframe tbody tr th {\n",
       "        vertical-align: top;\n",
       "    }\n",
       "\n",
       "    .dataframe thead th {\n",
       "        text-align: right;\n",
       "    }\n",
       "</style>\n",
       "<table border=\"1\" class=\"dataframe\">\n",
       "  <thead>\n",
       "    <tr style=\"text-align: right;\">\n",
       "      <th></th>\n",
       "      <th>highest corr column</th>\n",
       "      <th>postive corr</th>\n",
       "    </tr>\n",
       "  </thead>\n",
       "  <tbody>\n",
       "    <tr>\n",
       "      <th>age</th>\n",
       "      <td>nox</td>\n",
       "      <td>0.731470</td>\n",
       "    </tr>\n",
       "    <tr>\n",
       "      <th>b</th>\n",
       "      <td>medv</td>\n",
       "      <td>0.333461</td>\n",
       "    </tr>\n",
       "    <tr>\n",
       "      <th>crim</th>\n",
       "      <td>rad</td>\n",
       "      <td>0.625505</td>\n",
       "    </tr>\n",
       "    <tr>\n",
       "      <th>dis</th>\n",
       "      <td>zn</td>\n",
       "      <td>0.664408</td>\n",
       "    </tr>\n",
       "    <tr>\n",
       "      <th>indus</th>\n",
       "      <td>nox</td>\n",
       "      <td>0.763651</td>\n",
       "    </tr>\n",
       "    <tr>\n",
       "      <th>lstat</th>\n",
       "      <td>indus</td>\n",
       "      <td>0.603800</td>\n",
       "    </tr>\n",
       "    <tr>\n",
       "      <th>medv</th>\n",
       "      <td>rm</td>\n",
       "      <td>0.695360</td>\n",
       "    </tr>\n",
       "    <tr>\n",
       "      <th>nox</th>\n",
       "      <td>indus</td>\n",
       "      <td>0.763651</td>\n",
       "    </tr>\n",
       "    <tr>\n",
       "      <th>ptratio</th>\n",
       "      <td>rad</td>\n",
       "      <td>0.464741</td>\n",
       "    </tr>\n",
       "    <tr>\n",
       "      <th>rad</th>\n",
       "      <td>tax</td>\n",
       "      <td>0.910228</td>\n",
       "    </tr>\n",
       "    <tr>\n",
       "      <th>rm</th>\n",
       "      <td>medv</td>\n",
       "      <td>0.695360</td>\n",
       "    </tr>\n",
       "    <tr>\n",
       "      <th>tax</th>\n",
       "      <td>rad</td>\n",
       "      <td>0.910228</td>\n",
       "    </tr>\n",
       "    <tr>\n",
       "      <th>zn</th>\n",
       "      <td>dis</td>\n",
       "      <td>0.664408</td>\n",
       "    </tr>\n",
       "  </tbody>\n",
       "</table>\n",
       "</div>"
      ],
      "text/plain": [
       "        highest corr column  postive corr\n",
       "age                     nox      0.731470\n",
       "b                      medv      0.333461\n",
       "crim                    rad      0.625505\n",
       "dis                      zn      0.664408\n",
       "indus                   nox      0.763651\n",
       "lstat                 indus      0.603800\n",
       "medv                     rm      0.695360\n",
       "nox                   indus      0.763651\n",
       "ptratio                 rad      0.464741\n",
       "rad                     tax      0.910228\n",
       "rm                     medv      0.695360\n",
       "tax                     rad      0.910228\n",
       "zn                      dis      0.664408"
      ]
     },
     "execution_count": 8,
     "metadata": {},
     "output_type": "execute_result"
    }
   ],
   "source": [
    "#find the highest corr for each column and print correlated column name\n",
    "highest_corr = corrMatrix[corrMatrix < 1]\n",
    "corr_index = highest_corr.idxmax()\n",
    "corr_index = corr_index.to_frame(name='highest corr column')\n",
    "corr_index['postive corr'] = highest_corr.max()\n",
    "corr_index"
   ]
  },
  {
   "cell_type": "code",
   "execution_count": 9,
   "id": "0d5e2479",
   "metadata": {},
   "outputs": [
    {
     "data": {
      "text/html": [
       "<div>\n",
       "<style scoped>\n",
       "    .dataframe tbody tr th:only-of-type {\n",
       "        vertical-align: middle;\n",
       "    }\n",
       "\n",
       "    .dataframe tbody tr th {\n",
       "        vertical-align: top;\n",
       "    }\n",
       "\n",
       "    .dataframe thead th {\n",
       "        text-align: right;\n",
       "    }\n",
       "</style>\n",
       "<table border=\"1\" class=\"dataframe\">\n",
       "  <thead>\n",
       "    <tr style=\"text-align: right;\">\n",
       "      <th></th>\n",
       "      <th>highest corr column</th>\n",
       "      <th>negative corr</th>\n",
       "    </tr>\n",
       "  </thead>\n",
       "  <tbody>\n",
       "    <tr>\n",
       "      <th>age</th>\n",
       "      <td>dis</td>\n",
       "      <td>-0.747881</td>\n",
       "    </tr>\n",
       "    <tr>\n",
       "      <th>b</th>\n",
       "      <td>rad</td>\n",
       "      <td>-0.444413</td>\n",
       "    </tr>\n",
       "    <tr>\n",
       "      <th>crim</th>\n",
       "      <td>medv</td>\n",
       "      <td>-0.388305</td>\n",
       "    </tr>\n",
       "    <tr>\n",
       "      <th>dis</th>\n",
       "      <td>nox</td>\n",
       "      <td>-0.769230</td>\n",
       "    </tr>\n",
       "    <tr>\n",
       "      <th>indus</th>\n",
       "      <td>dis</td>\n",
       "      <td>-0.708027</td>\n",
       "    </tr>\n",
       "    <tr>\n",
       "      <th>lstat</th>\n",
       "      <td>medv</td>\n",
       "      <td>-0.737663</td>\n",
       "    </tr>\n",
       "    <tr>\n",
       "      <th>medv</th>\n",
       "      <td>lstat</td>\n",
       "      <td>-0.737663</td>\n",
       "    </tr>\n",
       "    <tr>\n",
       "      <th>nox</th>\n",
       "      <td>dis</td>\n",
       "      <td>-0.769230</td>\n",
       "    </tr>\n",
       "    <tr>\n",
       "      <th>ptratio</th>\n",
       "      <td>medv</td>\n",
       "      <td>-0.507787</td>\n",
       "    </tr>\n",
       "    <tr>\n",
       "      <th>rad</th>\n",
       "      <td>dis</td>\n",
       "      <td>-0.494588</td>\n",
       "    </tr>\n",
       "    <tr>\n",
       "      <th>rm</th>\n",
       "      <td>lstat</td>\n",
       "      <td>-0.613808</td>\n",
       "    </tr>\n",
       "    <tr>\n",
       "      <th>tax</th>\n",
       "      <td>dis</td>\n",
       "      <td>-0.534432</td>\n",
       "    </tr>\n",
       "    <tr>\n",
       "      <th>zn</th>\n",
       "      <td>age</td>\n",
       "      <td>-0.569537</td>\n",
       "    </tr>\n",
       "  </tbody>\n",
       "</table>\n",
       "</div>"
      ],
      "text/plain": [
       "        highest corr column  negative corr\n",
       "age                     dis      -0.747881\n",
       "b                       rad      -0.444413\n",
       "crim                   medv      -0.388305\n",
       "dis                     nox      -0.769230\n",
       "indus                   dis      -0.708027\n",
       "lstat                  medv      -0.737663\n",
       "medv                  lstat      -0.737663\n",
       "nox                     dis      -0.769230\n",
       "ptratio                medv      -0.507787\n",
       "rad                     dis      -0.494588\n",
       "rm                    lstat      -0.613808\n",
       "tax                     dis      -0.534432\n",
       "zn                      age      -0.569537"
      ]
     },
     "execution_count": 9,
     "metadata": {},
     "output_type": "execute_result"
    }
   ],
   "source": [
    "#find the lowest corr for each column and print correlated column name\n",
    "highest_corr = corrMatrix[corrMatrix < 1]\n",
    "corr_index = highest_corr.idxmin()\n",
    "corr_index = corr_index.to_frame(name='highest corr column')\n",
    "corr_index['negative corr'] = highest_corr.min()\n",
    "corr_index"
   ]
  },
  {
   "cell_type": "markdown",
   "id": "d614acf0",
   "metadata": {},
   "source": [
    "Z powyższych danych możemy zaobserwować, że intnieje dość zauważalne zajwisko korelacji wsród naszych kolumn. Jeśli chodzi o korelację pozytywną, wartość w przybilżeniu 0.91 uzyskaliśmy między kolumnami `rad` i `tax`. Kolumna `tax` reprezentuje stawkę podatkową za daną nieruchomość w przeliczeniu na 10,000$, natomiast `rad` oznacza dostępności do infratruktury drogowej - głównie autostrad. Możemy powiedzieć, że im wyższa stawka podatkowa, tym wyższa punktacja w rankingu dostępności do autostrad. "
   ]
  },
  {
   "cell_type": "markdown",
   "id": "7b4d1a6b",
   "metadata": {},
   "source": [
    "## Model - regresja liniowa"
   ]
  },
  {
   "cell_type": "code",
   "execution_count": 10,
   "id": "f729c5ee",
   "metadata": {},
   "outputs": [
    {
     "name": "stdout",
     "output_type": "stream",
     "text": [
      "Linear function: y=a*x+b\n",
      "\n"
     ]
    },
    {
     "data": {
      "text/plain": [
       "rad        19.900\n",
       "ptratio     6.037\n",
       "tax         4.367\n",
       "b           3.606\n",
       "indus       0.284\n",
       "age        -0.554\n",
       "rm         -6.526\n",
       "medv       -7.609\n",
       "nox        -9.549\n",
       "crim      -10.995\n",
       "dis       -15.898\n",
       "lstat     -18.219\n",
       "dtype: float64"
      ]
     },
     "execution_count": 10,
     "metadata": {},
     "output_type": "execute_result"
    }
   ],
   "source": [
    "#building regresion model\n",
    "reg = LinearRegression()\n",
    "reg.fit(X_train, y_train)\n",
    "\n",
    "#print coefficients of each column (a parm in linear function)\n",
    "coefficients = [round(_,3) for _ in reg.coef_]\n",
    "named_coef = sorted(list(zip(corrMatrix.keys(),coefficients)), key= lambda x : x[1], reverse=True)\n",
    "idx = [x[0] for x in named_coef]\n",
    "vals = [x[1] for x in named_coef]\n",
    "\n",
    "named_coef = pd.Series(vals, index=idx)\n",
    "print('Linear function: y=a*x+b\\n')\n",
    "\n",
    "#prediction\n",
    "pred_linear = reg.predict(X_test)\n",
    "\n",
    "named_coef"
   ]
  },
  {
   "cell_type": "markdown",
   "id": "d1612bdd",
   "metadata": {},
   "source": [
    "## Regresja z użyciem sieci neuronowej\n",
    "\n",
    "Przeprowadzimy teraz regresję liniową, tym razem z wykorzystaniem sieci neuronowych. W naszym przypadku zbudujemy sieć skaładającą się z trzech warstw, w każdej warstwie wykorzystamy trzy neurony.\n",
    "\n",
    "Z racji, że mam do czynienia z funkcją liniową, dobieramy funkcję aktywacyjną `ReLU` - rectified linear unit. Dodatkowo będziemy monitorować zmienną MeanSquaredError (MSE) w celu przerwania budowania modelu w przypadku gdy wartość ta przestanie znacząco spadać."
   ]
  },
  {
   "cell_type": "code",
   "execution_count": 11,
   "id": "db660d1f",
   "metadata": {},
   "outputs": [
    {
     "name": "stdout",
     "output_type": "stream",
     "text": [
      "Epoch 1/100\n",
      "19/19 [==============================] - 2s 52ms/step - loss: 604.9653 - mse: 604.9653 - val_loss: 555.1868 - val_mse: 555.1868\n",
      "Epoch 2/100\n",
      "19/19 [==============================] - 0s 25ms/step - loss: 602.0071 - mse: 602.0071 - val_loss: 551.9064 - val_mse: 551.9064\n",
      "Epoch 3/100\n",
      "19/19 [==============================] - 1s 29ms/step - loss: 598.0828 - mse: 598.0828 - val_loss: 547.6085 - val_mse: 547.6085\n",
      "Epoch 4/100\n",
      "19/19 [==============================] - 1s 34ms/step - loss: 592.9508 - mse: 592.9508 - val_loss: 541.8429 - val_mse: 541.8429\n",
      "Epoch 5/100\n",
      "19/19 [==============================] - 0s 18ms/step - loss: 586.2439 - mse: 586.2439 - val_loss: 534.5959 - val_mse: 534.5959\n",
      "Epoch 6/100\n",
      "19/19 [==============================] - 0s 6ms/step - loss: 578.1926 - mse: 578.1926 - val_loss: 526.3584 - val_mse: 526.3584\n",
      "Epoch 7/100\n",
      "19/19 [==============================] - 0s 7ms/step - loss: 569.0482 - mse: 569.0482 - val_loss: 516.9935 - val_mse: 516.9935\n",
      "Epoch 8/100\n",
      "19/19 [==============================] - 0s 11ms/step - loss: 558.7247 - mse: 558.7247 - val_loss: 506.4667 - val_mse: 506.4667\n",
      "Epoch 9/100\n",
      "19/19 [==============================] - 0s 11ms/step - loss: 547.2427 - mse: 547.2427 - val_loss: 495.0144 - val_mse: 495.0144\n",
      "Epoch 10/100\n",
      "19/19 [==============================] - 0s 11ms/step - loss: 534.9037 - mse: 534.9037 - val_loss: 482.7610 - val_mse: 482.7610\n",
      "Epoch 11/100\n",
      "19/19 [==============================] - 0s 11ms/step - loss: 521.7573 - mse: 521.7573 - val_loss: 469.7888 - val_mse: 469.7888\n",
      "Epoch 12/100\n",
      "19/19 [==============================] - 0s 11ms/step - loss: 507.9048 - mse: 507.9048 - val_loss: 456.0546 - val_mse: 456.0546\n",
      "Epoch 13/100\n",
      "19/19 [==============================] - 0s 8ms/step - loss: 493.2576 - mse: 493.2576 - val_loss: 441.6852 - val_mse: 441.6852\n",
      "Epoch 14/100\n",
      "19/19 [==============================] - 0s 9ms/step - loss: 477.9802 - mse: 477.9802 - val_loss: 426.6792 - val_mse: 426.6792\n",
      "Epoch 15/100\n",
      "19/19 [==============================] - 0s 10ms/step - loss: 461.9652 - mse: 461.9652 - val_loss: 411.1994 - val_mse: 411.1994\n",
      "Epoch 16/100\n",
      "19/19 [==============================] - 0s 7ms/step - loss: 445.3505 - mse: 445.3505 - val_loss: 395.3436 - val_mse: 395.3436\n",
      "Epoch 17/100\n",
      "19/19 [==============================] - 0s 7ms/step - loss: 428.5257 - mse: 428.5257 - val_loss: 378.7566 - val_mse: 378.7566\n",
      "Epoch 18/100\n",
      "19/19 [==============================] - 0s 9ms/step - loss: 411.0642 - mse: 411.0642 - val_loss: 362.0110 - val_mse: 362.0110\n",
      "Epoch 19/100\n",
      "19/19 [==============================] - 0s 7ms/step - loss: 393.2924 - mse: 393.2924 - val_loss: 345.2661 - val_mse: 345.2661\n",
      "Epoch 20/100\n",
      "19/19 [==============================] - 0s 12ms/step - loss: 375.4638 - mse: 375.4638 - val_loss: 328.3829 - val_mse: 328.3829\n",
      "Epoch 21/100\n",
      "19/19 [==============================] - 0s 9ms/step - loss: 357.7798 - mse: 357.7798 - val_loss: 311.3392 - val_mse: 311.3392\n",
      "Epoch 22/100\n",
      "19/19 [==============================] - 0s 8ms/step - loss: 339.5840 - mse: 339.5840 - val_loss: 295.1958 - val_mse: 295.1958\n",
      "Epoch 23/100\n",
      "19/19 [==============================] - 0s 11ms/step - loss: 322.2048 - mse: 322.2048 - val_loss: 278.9962 - val_mse: 278.9962\n",
      "Epoch 24/100\n",
      "19/19 [==============================] - 0s 10ms/step - loss: 304.9491 - mse: 304.9491 - val_loss: 263.2814 - val_mse: 263.2814\n",
      "Epoch 25/100\n",
      "19/19 [==============================] - 0s 10ms/step - loss: 288.3697 - mse: 288.3697 - val_loss: 247.9091 - val_mse: 247.9091\n",
      "Epoch 26/100\n",
      "19/19 [==============================] - 0s 11ms/step - loss: 271.9590 - mse: 271.9590 - val_loss: 233.7343 - val_mse: 233.7343\n",
      "Epoch 27/100\n",
      "19/19 [==============================] - 0s 7ms/step - loss: 256.7138 - mse: 256.7138 - val_loss: 220.0441 - val_mse: 220.0441\n",
      "Epoch 28/100\n",
      "19/19 [==============================] - 0s 6ms/step - loss: 242.1309 - mse: 242.1309 - val_loss: 207.2451 - val_mse: 207.2451\n",
      "Epoch 29/100\n",
      "19/19 [==============================] - 0s 8ms/step - loss: 228.3054 - mse: 228.3054 - val_loss: 195.6187 - val_mse: 195.6187\n",
      "Epoch 30/100\n",
      "19/19 [==============================] - 0s 9ms/step - loss: 215.6018 - mse: 215.6018 - val_loss: 184.9281 - val_mse: 184.9281\n",
      "Epoch 31/100\n",
      "19/19 [==============================] - 0s 14ms/step - loss: 204.2978 - mse: 204.2978 - val_loss: 174.8156 - val_mse: 174.8156\n",
      "Epoch 32/100\n",
      "19/19 [==============================] - 0s 10ms/step - loss: 193.2612 - mse: 193.2612 - val_loss: 166.3811 - val_mse: 166.3811\n",
      "Epoch 33/100\n",
      "19/19 [==============================] - 0s 11ms/step - loss: 183.7496 - mse: 183.7496 - val_loss: 158.7968 - val_mse: 158.7968\n",
      "Epoch 34/100\n",
      "19/19 [==============================] - 0s 11ms/step - loss: 175.2793 - mse: 175.2793 - val_loss: 152.0910 - val_mse: 152.0910\n",
      "Epoch 35/100\n",
      "19/19 [==============================] - 0s 10ms/step - loss: 167.4361 - mse: 167.4361 - val_loss: 146.6228 - val_mse: 146.6228\n",
      "Epoch 36/100\n",
      "19/19 [==============================] - 0s 10ms/step - loss: 161.0224 - mse: 161.0224 - val_loss: 141.5363 - val_mse: 141.5363\n",
      "Epoch 37/100\n",
      "19/19 [==============================] - 0s 6ms/step - loss: 155.1294 - mse: 155.1294 - val_loss: 137.3161 - val_mse: 137.3161\n",
      "Epoch 38/100\n",
      "19/19 [==============================] - 0s 7ms/step - loss: 150.0456 - mse: 150.0456 - val_loss: 133.7985 - val_mse: 133.7985\n",
      "Epoch 39/100\n",
      "19/19 [==============================] - 0s 6ms/step - loss: 145.8199 - mse: 145.8199 - val_loss: 130.6789 - val_mse: 130.6789\n",
      "Epoch 40/100\n",
      "19/19 [==============================] - 0s 6ms/step - loss: 141.8535 - mse: 141.8535 - val_loss: 128.2375 - val_mse: 128.2375\n",
      "Epoch 41/100\n",
      "19/19 [==============================] - 0s 6ms/step - loss: 138.7784 - mse: 138.7784 - val_loss: 125.9939 - val_mse: 125.9939\n",
      "Epoch 42/100\n",
      "19/19 [==============================] - 0s 12ms/step - loss: 135.6774 - mse: 135.6774 - val_loss: 124.3062 - val_mse: 124.3062\n",
      "Epoch 43/100\n",
      "19/19 [==============================] - 0s 6ms/step - loss: 133.2890 - mse: 133.2890 - val_loss: 122.5457 - val_mse: 122.5457\n",
      "Epoch 44/100\n",
      "19/19 [==============================] - 0s 6ms/step - loss: 130.9653 - mse: 130.9653 - val_loss: 121.1101 - val_mse: 121.1101\n",
      "Epoch 45/100\n",
      "19/19 [==============================] - 0s 7ms/step - loss: 128.9765 - mse: 128.9765 - val_loss: 119.7998 - val_mse: 119.7998\n",
      "Epoch 46/100\n",
      "19/19 [==============================] - 0s 6ms/step - loss: 127.1837 - mse: 127.1837 - val_loss: 118.4753 - val_mse: 118.4753\n",
      "Epoch 47/100\n",
      "19/19 [==============================] - 0s 7ms/step - loss: 125.4521 - mse: 125.4521 - val_loss: 117.2387 - val_mse: 117.2387\n",
      "Epoch 48/100\n",
      "19/19 [==============================] - 0s 6ms/step - loss: 123.8262 - mse: 123.8262 - val_loss: 116.1357 - val_mse: 116.1357\n",
      "Epoch 49/100\n",
      "19/19 [==============================] - 0s 6ms/step - loss: 122.3401 - mse: 122.3401 - val_loss: 114.9837 - val_mse: 114.9837\n",
      "Epoch 50/100\n",
      "19/19 [==============================] - 0s 8ms/step - loss: 121.0122 - mse: 121.0122 - val_loss: 113.8711 - val_mse: 113.8711\n",
      "Epoch 51/100\n",
      "19/19 [==============================] - 0s 6ms/step - loss: 119.5478 - mse: 119.5478 - val_loss: 112.7209 - val_mse: 112.7209\n",
      "Epoch 52/100\n",
      "19/19 [==============================] - 0s 15ms/step - loss: 118.2087 - mse: 118.2087 - val_loss: 111.6051 - val_mse: 111.6051\n",
      "Epoch 53/100\n",
      "19/19 [==============================] - 0s 11ms/step - loss: 116.8918 - mse: 116.8918 - val_loss: 110.5475 - val_mse: 110.5475\n",
      "Epoch 54/100\n",
      "19/19 [==============================] - 0s 9ms/step - loss: 115.6334 - mse: 115.6334 - val_loss: 109.4864 - val_mse: 109.4864\n",
      "Epoch 55/100\n",
      "19/19 [==============================] - 0s 11ms/step - loss: 114.4135 - mse: 114.4135 - val_loss: 108.2634 - val_mse: 108.2634\n",
      "Epoch 56/100\n",
      "19/19 [==============================] - 0s 7ms/step - loss: 113.2095 - mse: 113.2095 - val_loss: 107.2207 - val_mse: 107.2207\n",
      "Epoch 57/100\n",
      "19/19 [==============================] - 0s 6ms/step - loss: 111.9540 - mse: 111.9540 - val_loss: 106.1522 - val_mse: 106.1522\n",
      "Epoch 58/100\n",
      "19/19 [==============================] - 0s 7ms/step - loss: 110.8007 - mse: 110.8007 - val_loss: 105.0151 - val_mse: 105.0151\n",
      "Epoch 59/100\n",
      "19/19 [==============================] - 0s 6ms/step - loss: 109.6135 - mse: 109.6135 - val_loss: 103.9021 - val_mse: 103.9021\n",
      "Epoch 60/100\n",
      "19/19 [==============================] - 0s 6ms/step - loss: 108.4854 - mse: 108.4854 - val_loss: 102.8572 - val_mse: 102.8572\n",
      "Epoch 61/100\n",
      "19/19 [==============================] - 0s 6ms/step - loss: 107.3764 - mse: 107.3764 - val_loss: 101.6306 - val_mse: 101.6306\n",
      "Epoch 62/100\n",
      "19/19 [==============================] - 0s 7ms/step - loss: 106.2621 - mse: 106.2621 - val_loss: 100.5490 - val_mse: 100.5490\n",
      "Epoch 63/100\n",
      "19/19 [==============================] - 0s 10ms/step - loss: 105.0812 - mse: 105.0812 - val_loss: 99.6520 - val_mse: 99.6520\n",
      "Epoch 64/100\n",
      "19/19 [==============================] - 0s 12ms/step - loss: 104.0228 - mse: 104.0228 - val_loss: 98.5992 - val_mse: 98.5992\n",
      "Epoch 65/100\n",
      "19/19 [==============================] - 0s 8ms/step - loss: 102.9652 - mse: 102.9652 - val_loss: 97.5469 - val_mse: 97.5469\n",
      "Epoch 66/100\n",
      "19/19 [==============================] - 0s 6ms/step - loss: 101.8523 - mse: 101.8523 - val_loss: 96.4581 - val_mse: 96.4581\n",
      "Epoch 67/100\n",
      "19/19 [==============================] - 0s 8ms/step - loss: 100.8216 - mse: 100.8216 - val_loss: 95.3746 - val_mse: 95.3746\n",
      "Epoch 68/100\n",
      "19/19 [==============================] - 0s 7ms/step - loss: 99.7745 - mse: 99.7745 - val_loss: 94.4231 - val_mse: 94.4231\n",
      "Epoch 69/100\n",
      "19/19 [==============================] - 0s 7ms/step - loss: 98.7626 - mse: 98.7626 - val_loss: 93.2853 - val_mse: 93.2853\n",
      "Epoch 70/100\n",
      "19/19 [==============================] - 0s 6ms/step - loss: 97.7181 - mse: 97.7181 - val_loss: 92.3795 - val_mse: 92.3795\n",
      "Epoch 71/100\n",
      "19/19 [==============================] - 0s 6ms/step - loss: 96.7267 - mse: 96.7267 - val_loss: 91.3207 - val_mse: 91.3207\n",
      "Epoch 72/100\n",
      "19/19 [==============================] - 0s 6ms/step - loss: 95.7351 - mse: 95.7351 - val_loss: 90.3335 - val_mse: 90.3335\n",
      "Epoch 73/100\n",
      "19/19 [==============================] - 0s 7ms/step - loss: 94.7862 - mse: 94.7862 - val_loss: 89.2658 - val_mse: 89.2658\n",
      "Epoch 74/100\n",
      "19/19 [==============================] - 0s 6ms/step - loss: 93.7772 - mse: 93.7772 - val_loss: 88.3988 - val_mse: 88.3988\n",
      "Epoch 75/100\n",
      "19/19 [==============================] - 0s 6ms/step - loss: 92.8020 - mse: 92.8020 - val_loss: 87.4379 - val_mse: 87.4379\n",
      "Epoch 76/100\n",
      "19/19 [==============================] - 0s 6ms/step - loss: 91.9126 - mse: 91.9126 - val_loss: 86.5719 - val_mse: 86.5719\n",
      "Epoch 77/100\n",
      "19/19 [==============================] - 0s 6ms/step - loss: 90.9672 - mse: 90.9672 - val_loss: 85.5696 - val_mse: 85.5696\n",
      "Epoch 78/100\n",
      "19/19 [==============================] - 0s 8ms/step - loss: 90.0772 - mse: 90.0772 - val_loss: 84.7344 - val_mse: 84.7344\n",
      "Epoch 79/100\n",
      "19/19 [==============================] - 0s 6ms/step - loss: 89.1194 - mse: 89.1194 - val_loss: 83.8009 - val_mse: 83.8009\n",
      "Epoch 80/100\n",
      "19/19 [==============================] - 0s 6ms/step - loss: 88.2590 - mse: 88.2590 - val_loss: 82.8691 - val_mse: 82.8691\n",
      "Epoch 81/100\n",
      "19/19 [==============================] - 0s 7ms/step - loss: 87.4009 - mse: 87.4009 - val_loss: 82.0795 - val_mse: 82.0795\n",
      "Epoch 82/100\n",
      "19/19 [==============================] - 0s 11ms/step - loss: 86.5557 - mse: 86.5557 - val_loss: 81.0790 - val_mse: 81.0790\n",
      "Epoch 83/100\n",
      "19/19 [==============================] - 0s 7ms/step - loss: 85.6887 - mse: 85.6887 - val_loss: 80.2426 - val_mse: 80.2426\n",
      "Epoch 84/100\n",
      "19/19 [==============================] - 0s 6ms/step - loss: 84.8508 - mse: 84.8508 - val_loss: 79.4109 - val_mse: 79.4109\n",
      "Epoch 85/100\n",
      "19/19 [==============================] - 0s 7ms/step - loss: 84.0461 - mse: 84.0461 - val_loss: 78.6390 - val_mse: 78.6390\n",
      "Epoch 86/100\n",
      "19/19 [==============================] - 0s 6ms/step - loss: 83.2544 - mse: 83.2544 - val_loss: 77.7832 - val_mse: 77.7832\n",
      "Epoch 87/100\n",
      "19/19 [==============================] - 0s 6ms/step - loss: 82.4353 - mse: 82.4353 - val_loss: 76.9227 - val_mse: 76.9227\n",
      "Epoch 88/100\n",
      "19/19 [==============================] - 0s 6ms/step - loss: 81.6707 - mse: 81.6707 - val_loss: 76.1468 - val_mse: 76.1468\n",
      "Epoch 89/100\n",
      "19/19 [==============================] - 0s 7ms/step - loss: 80.8801 - mse: 80.8801 - val_loss: 75.4299 - val_mse: 75.4299\n",
      "Epoch 90/100\n",
      "19/19 [==============================] - 0s 6ms/step - loss: 80.1684 - mse: 80.1684 - val_loss: 74.6180 - val_mse: 74.6180\n",
      "Epoch 91/100\n",
      "19/19 [==============================] - 0s 6ms/step - loss: 79.4265 - mse: 79.4265 - val_loss: 74.0026 - val_mse: 74.0026\n",
      "Epoch 92/100\n",
      "19/19 [==============================] - 0s 6ms/step - loss: 78.6653 - mse: 78.6653 - val_loss: 73.1719 - val_mse: 73.1719\n",
      "Epoch 93/100\n",
      "19/19 [==============================] - 0s 6ms/step - loss: 77.9748 - mse: 77.9748 - val_loss: 72.3422 - val_mse: 72.3422\n",
      "Epoch 94/100\n",
      "19/19 [==============================] - 0s 8ms/step - loss: 77.2553 - mse: 77.2553 - val_loss: 71.6604 - val_mse: 71.6604\n",
      "Epoch 95/100\n",
      "19/19 [==============================] - 0s 6ms/step - loss: 76.6002 - mse: 76.6002 - val_loss: 70.9959 - val_mse: 70.9959\n",
      "Epoch 96/100\n",
      "19/19 [==============================] - 0s 6ms/step - loss: 75.8881 - mse: 75.8881 - val_loss: 70.3136 - val_mse: 70.3136\n",
      "Epoch 97/100\n",
      "19/19 [==============================] - 0s 6ms/step - loss: 75.2424 - mse: 75.2424 - val_loss: 69.5655 - val_mse: 69.5655\n",
      "Epoch 98/100\n",
      "19/19 [==============================] - 0s 7ms/step - loss: 74.6264 - mse: 74.6264 - val_loss: 68.9106 - val_mse: 68.9106\n",
      "Epoch 99/100\n",
      "19/19 [==============================] - 0s 13ms/step - loss: 73.9621 - mse: 73.9621 - val_loss: 68.2781 - val_mse: 68.2781\n",
      "Epoch 100/100\n",
      "19/19 [==============================] - 0s 6ms/step - loss: 73.3703 - mse: 73.3703 - val_loss: 67.5923 - val_mse: 67.5923\n",
      "Model: \"sequential\"\n",
      "_________________________________________________________________\n",
      " Layer (type)                Output Shape              Param #   \n",
      "=================================================================\n",
      " dense (Dense)               (None, 3)                 39        \n",
      "                                                                 \n",
      " dense_1 (Dense)             (None, 3)                 12        \n",
      "                                                                 \n",
      " dense_2 (Dense)             (None, 1)                 4         \n",
      "                                                                 \n",
      "=================================================================\n",
      "Total params: 55\n",
      "Trainable params: 55\n",
      "Non-trainable params: 0\n",
      "_________________________________________________________________\n"
     ]
    }
   ],
   "source": [
    "from keras.models import Sequential\n",
    "from keras.layers import Dense\n",
    "from keras.losses import MeanSquaredError\n",
    "from keras.callbacks import EarlyStopping, ModelCheckpoint\n",
    "\n",
    "callbacks = [EarlyStopping(monitor='val_loss', patience=4),\n",
    "         ModelCheckpoint(filepath='best_model.h5', monitor='val_loss', save_best_only=True)]\n",
    "         \n",
    "model = Sequential()\n",
    "model.add(Dense(3, input_dim=12, activation='relu'))\n",
    "model.add(Dense(3, activation='relu', input_dim=3))\n",
    "model.add(Dense(1, activation='linear', input_dim=3))\n",
    "\n",
    "model.compile(optimizer='Adam', loss=MeanSquaredError(),metrics=['mse'])\n",
    "model.fit(X_train, y_train, epochs=100, batch_size=16 ,validation_split=0.2, callbacks=callbacks)\n",
    "\n",
    "#prediction\n",
    "pred_sequential = model.predict(X_test)\n",
    "\n",
    "model.summary()\n",
    "\n"
   ]
  },
  {
   "cell_type": "code",
   "execution_count": 12,
   "id": "da90a24a",
   "metadata": {},
   "outputs": [
    {
     "name": "stdout",
     "output_type": "stream",
     "text": [
      "R2 score for linear regression is:  0.63\n",
      "R2 score for linear regression with using neural networks is:  0.11\n"
     ]
    }
   ],
   "source": [
    "r2_linear = r2_score(y_test, pred_linear)\n",
    "print(\"R2 score for linear regression is: \", round(r2_linear, 2)) \n",
    "\n",
    "r2_sequential= r2_score(y_test, pred_sequential)\n",
    "print(\"R2 score for linear regression with using neural networks is: \", round(r2_sequential, 2)) "
   ]
  },
  {
   "cell_type": "code",
   "execution_count": 13,
   "id": "f7034c80",
   "metadata": {},
   "outputs": [
    {
     "data": {
      "image/png": "[encoded data removed]",
      "text/plain": [
       "<Figure size 960x960 with 1 Axes>"
      ]
     },
     "metadata": {
      "needs_background": "light"
     },
     "output_type": "display_data"
    }
   ],
   "source": [
    "plt.figure(figsize=(12, 12), dpi=80)\n",
    "plt.scatter(y_test, pred_linear, color='green')\n",
    "plt.scatter(y_test, pred_sequential, color='blue')\n",
    "plt.plot(y_test, y_test, \"r--\")\n",
    "plt.xlabel('Wartości rzeczywiste')\n",
    "plt.ylabel('Wartości przewidziane')\n",
    "plt.title('Wartości testowe vs przewidzianie przez model reg liniowej (blue)\\n i sieci neuronowe (green) dla MEDV')\n",
    "plt.show()"
   ]
  },
  {
   "cell_type": "markdown",
   "id": "9df51069",
   "metadata": {},
   "source": [
    "Wygląda na to, że model z wykorzystaniem sieci neuronowych osiągnał zdecydowanie lepszy R2 score niż model zbudowany z wykorzystaniem zwykłej regresji liniowej, gdyż wartość ta w 1. przypadku jest niemal sześciokrotnie mniejsza niż w drugim, co wysyuwa stwierdzenie, że model oparty na sieciach neurnowych jest bardziej precyzyjny. Potwierdzeniem tego może być wykres powyżej, gdzie dość dobrze widać, że wartości `na zielono` zauważalnie częsciej znajdują się bliżej czerwonej lini. Czerwona linia w tym przypadku odzwierciedla wartości rzeczywiste, pochodzące ze zbioru testowego. "
   ]
  },
  {
   "cell_type": "markdown",
   "id": "53792b07",
   "metadata": {},
   "source": [
    "## Wizualizacje \n",
    "\n",
    "W pierwszej kolejności zaprezentujemy wizualizacje rozrzutu relacji pomiędzy kolumnami `medv` i `crim` z naszego zbioru. Dodatkowo na wykres nałożymy linię trendu."
   ]
  },
  {
   "cell_type": "code",
   "execution_count": 14,
   "id": "b2b3fda2",
   "metadata": {},
   "outputs": [
    {
     "data": {
      "image/png": "[encoded data removed]",
      "text/plain": [
       "<Figure size 640x640 with 1 Axes>"
      ]
     },
     "metadata": {
      "needs_background": "light"
     },
     "output_type": "display_data"
    }
   ],
   "source": [
    "x = df['medv'] \n",
    "y = df['crim']\n",
    "\n",
    "z = np.polyfit(x, y, 1)\n",
    "p = np.poly1d(z)\n",
    "plt.figure(figsize=(8, 8), dpi=80)\n",
    "plt.scatter(x, y)\n",
    "plt.plot(x,p(x),\"r--\")\n",
    "plt.xlabel('medv')\n",
    "plt.ylabel('crim')\n",
    "plt.title(\"Wykres rozrzutu reprezentujący relację pomiędzy kolumnami medv i crim.\")\n",
    "plt.show()"
   ]
  },
  {
   "cell_type": "markdown",
   "id": "9a14af95",
   "metadata": {},
   "source": [
    "Wygląda na to, że występuje pewna zależności między tymi dwoma kolumnami. Spoglądając wyżej na dokładną korelację, wynik ten wyniósł ~ -0.38, co świadczy o dość niskiej korelacji, jednak jest ona negatywna i mimo wszytsko można zauwazyć wpływ jedenj zmiennej na drugą. Możemy wysunąć dość śmaiło wniosek, że im wyższa wartość w kolumnie `medv`, tym mniejsza wartość w kolumnie `crim`, co oznacza, że większa wartość nieruchomości zajmowanych przez właściceli przycznia się do spadku przestępczości."
   ]
  },
  {
   "cell_type": "code",
   "execution_count": 15,
   "id": "71647bb4",
   "metadata": {},
   "outputs": [
    {
     "data": {
      "application/vnd.plotly.v1+json": {
       "config": {
        "plotlyServerURL": "https://plot.ly"
       },
       "data": [
        {
         "alignmentgroup": "True",
         "bingroup": "x",
         "hovertemplate": "variable=medv<br>Median value of owner-occupied homes in $1000s.=%{x}<br>count=%{y}<extra></extra>",
         "legendgroup": "medv",
         "marker": {
          "color": "#636efa",
          "pattern": {
           "shape": ""
          }
         },
         "name": "medv",
         "offsetgroup": "medv",
         "orientation": "v",
         "showlegend": true,
         "type": "histogram",
         "x": [
          24,
          21.6,
          34.7,
          33.4,
          36.2,
          28.7,
          22.9,
          27.1,
          16.5,
          18.9,
          15,
          18.9,
          21.7,
          20.4,
          18.2,
          19.9,
          23.1,
          17.5,
          20.2,
          18.2,
          13.6,
          19.6,
          15.2,
          14.5,
          15.6,
          13.9,
          16.6,
          14.8,
          18.4,
          21,
          12.7,
          14.5,
          13.2,
          13.1,
          13.5,
          18.9,
          20,
          21,
          24.7,
          30.8,
          34.9,
          26.6,
          25.3,
          24.7,
          21.2,
          19.3,
          20,
          16.6,
          14.4,
          19.4,
          19.7,
          20.5,
          25,
          23.4,
          18.9,
          35.4,
          24.7,
          31.6,
          23.3,
          19.6,
          18.7,
          16,
          22.2,
          25,
          33,
          23.5,
          19.4,
          22,
          17.4,
          20.9,
          24.2,
          21.7,
          22.8,
          23.4,
          24.1,
          21.4,
          20,
          20.8,
          21.2,
          20.3,
          28,
          23.9,
          24.8,
          22.9,
          23.9,
          26.6,
          22.5,
          22.2,
          23.6,
          28.7,
          22.6,
          22,
          22.9,
          25,
          20.6,
          28.4,
          21.4,
          38.7,
          43.8,
          33.2,
          27.5,
          26.5,
          18.6,
          19.3,
          20.1,
          19.5,
          19.5,
          20.4,
          19.8,
          19.4,
          21.7,
          22.8,
          18.8,
          18.7,
          18.5,
          18.3,
          21.2,
          19.2,
          20.4,
          19.3,
          22,
          20.3,
          20.5,
          17.3,
          18.8,
          21.4,
          15.7,
          16.2,
          18,
          14.3,
          19.2,
          19.6,
          23,
          18.4,
          15.6,
          18.1,
          17.4,
          17.1,
          13.3,
          17.8,
          14,
          14.4,
          13.4,
          15.6,
          11.8,
          13.8,
          15.6,
          14.6,
          17.8,
          15.4,
          21.5,
          19.6,
          15.3,
          19.4,
          17,
          15.6,
          13.1,
          41.3,
          24.3,
          23.3,
          27,
          50,
          50,
          50,
          22.7,
          25,
          50,
          23.8,
          23.8,
          22.3,
          17.4,
          19.1,
          23.1,
          23.6,
          22.6,
          29.4,
          23.2,
          24.6,
          29.9,
          37.2,
          39.8,
          36.2,
          37.9,
          32.5,
          26.4,
          29.6,
          50,
          32,
          29.8,
          34.9,
          37,
          30.5,
          36.4,
          31.1,
          29.1,
          50,
          33.3,
          30.3,
          34.6,
          34.9,
          32.9,
          24.1,
          42.3,
          48.5,
          50,
          22.6,
          24.4,
          22.5,
          24.4,
          20,
          21.7,
          19.3,
          22.4,
          28.1,
          23.7,
          25,
          23.3,
          28.7,
          21.5,
          23,
          26.7,
          21.7,
          27.5,
          30.1,
          44.8,
          50,
          37.6,
          31.6,
          46.7,
          31.5,
          24.3,
          31.7,
          41.7,
          48.3,
          29,
          24,
          25.1,
          31.5,
          23.7,
          23.3,
          22,
          20.1,
          22.2,
          23.7,
          17.6,
          18.5,
          24.3,
          20.5,
          24.5,
          26.2,
          24.4,
          24.8,
          29.6,
          42.8,
          21.9,
          20.9,
          44,
          50,
          36,
          30.1,
          33.8,
          43.1,
          48.8,
          31,
          36.5,
          22.8,
          30.7,
          50,
          43.5,
          20.7,
          21.1,
          25.2,
          24.4,
          35.2,
          32.4,
          32,
          33.2,
          33.1,
          29.1,
          35.1,
          45.4,
          35.4,
          46,
          50,
          32.2,
          22,
          20.1,
          23.2,
          22.3,
          24.8,
          28.5,
          37.3,
          27.9,
          23.9,
          21.7,
          28.6,
          27.1,
          20.3,
          22.5,
          29,
          24.8,
          22,
          26.4,
          33.1,
          36.1,
          28.4,
          33.4,
          28.2,
          22.8,
          20.3,
          16.1,
          22.1,
          19.4,
          21.6,
          23.8,
          16.2,
          17.8,
          19.8,
          23.1,
          21,
          23.8,
          23.1,
          20.4,
          18.5,
          25,
          24.6,
          23,
          22.2,
          19.3,
          22.6,
          19.8,
          17.1,
          19.4,
          22.2,
          20.7,
          21.1,
          19.5,
          18.5,
          20.6,
          19,
          18.7,
          32.7,
          16.5,
          23.9,
          31.2,
          17.5,
          17.2,
          23.1,
          24.5,
          26.6,
          22.9,
          24.1,
          18.6,
          30.1,
          18.2,
          20.6,
          17.8,
          21.7,
          22.7,
          22.6,
          25,
          19.9,
          20.8,
          16.8,
          21.9,
          27.5,
          21.9,
          23.1,
          50,
          50,
          50,
          50,
          50,
          13.8,
          13.8,
          15,
          13.9,
          13.3,
          13.1,
          10.2,
          10.4,
          10.9,
          11.3,
          12.3,
          8.8,
          7.2,
          10.5,
          7.4,
          10.2,
          11.5,
          15.1,
          23.2,
          9.7,
          13.8,
          12.7,
          13.1,
          12.5,
          8.5,
          5,
          6.3,
          5.6,
          7.2,
          12.1,
          8.3,
          8.5,
          5,
          11.9,
          27.9,
          17.2,
          27.5,
          15,
          17.2,
          17.9,
          16.3,
          7,
          7.2,
          7.5,
          10.4,
          8.8,
          8.4,
          16.7,
          14.2,
          20.8,
          13.4,
          11.7,
          8.3,
          10.2,
          10.9,
          11,
          9.5,
          14.5,
          14.1,
          16.1,
          14.3,
          11.7,
          13.4,
          9.6,
          8.7,
          8.4,
          12.8,
          10.5,
          17.1,
          18.4,
          15.4,
          10.8,
          11.8,
          14.9,
          12.6,
          14.1,
          13,
          13.4,
          15.2,
          16.1,
          17.8,
          14.9,
          14.1,
          12.7,
          13.5,
          14.9,
          20,
          16.4,
          17.7,
          19.5,
          20.2,
          21.4,
          19.9,
          19,
          19.1,
          19.1,
          20.1,
          19.9,
          19.6,
          23.2,
          29.8,
          13.8,
          13.3,
          16.7,
          12,
          14.6,
          21.4,
          23,
          23.7,
          25,
          21.8,
          20.6,
          21.2,
          19.1,
          20.6,
          15.2,
          7,
          8.1,
          13.6,
          20.1,
          21.8,
          24.5,
          23.1,
          19.7,
          18.3,
          21.2,
          17.5,
          16.8,
          22.4,
          20.6,
          23.9,
          22,
          11.9
         ],
         "xaxis": "x",
         "yaxis": "y"
        }
       ],
       "layout": {
        "barmode": "relative",
        "legend": {
         "title": {
          "text": "variable"
         },
         "tracegroupgap": 0
        },
        "showlegend": false,
        "template": {
         "data": {
          "bar": [
           {
            "error_x": {
             "color": "#2a3f5f"
            },
            "error_y": {
             "color": "#2a3f5f"
            },
            "marker": {
             "line": {
              "color": "#E5ECF6",
              "width": 0.5
             },
             "pattern": {
              "fillmode": "overlay",
              "size": 10,
              "solidity": 0.2
             }
            },
            "type": "bar"
           }
          ],
          "barpolar": [
           {
            "marker": {
             "line": {
              "color": "#E5ECF6",
              "width": 0.5
             },
             "pattern": {
              "fillmode": "overlay",
              "size": 10,
              "solidity": 0.2
             }
            },
            "type": "barpolar"
           }
          ],
          "carpet": [
           {
            "aaxis": {
             "endlinecolor": "#2a3f5f",
             "gridcolor": "white",
             "linecolor": "white",
             "minorgridcolor": "white",
             "startlinecolor": "#2a3f5f"
            },
            "baxis": {
             "endlinecolor": "#2a3f5f",
             "gridcolor": "white",
             "linecolor": "white",
             "minorgridcolor": "white",
             "startlinecolor": "#2a3f5f"
            },
            "type": "carpet"
           }
          ],
          "choropleth": [
           {
            "colorbar": {
             "outlinewidth": 0,
             "ticks": ""
            },
            "type": "choropleth"
           }
          ],
          "contour": [
           {
            "colorbar": {
             "outlinewidth": 0,
             "ticks": ""
            },
            "colorscale": [
             [
              0,
              "#0d0887"
             ],
             [
              0.1111111111111111,
              "#46039f"
             ],
             [
              0.2222222222222222,
              "#7201a8"
             ],
             [
              0.3333333333333333,
              "#9c179e"
             ],
             [
              0.4444444444444444,
              "#bd3786"
             ],
             [
              0.5555555555555556,
              "#d8576b"
             ],
             [
              0.6666666666666666,
              "#ed7953"
             ],
             [
              0.7777777777777778,
              "#fb9f3a"
             ],
             [
              0.8888888888888888,
              "#fdca26"
             ],
             [
              1,
              "#f0f921"
             ]
            ],
            "type": "contour"
           }
          ],
          "contourcarpet": [
           {
            "colorbar": {
             "outlinewidth": 0,
             "ticks": ""
            },
            "type": "contourcarpet"
           }
          ],
          "heatmap": [
           {
            "colorbar": {
             "outlinewidth": 0,
             "ticks": ""
            },
            "colorscale": [
             [
              0,
              "#0d0887"
             ],
             [
              0.1111111111111111,
              "#46039f"
             ],
             [
              0.2222222222222222,
              "#7201a8"
             ],
             [
              0.3333333333333333,
              "#9c179e"
             ],
             [
              0.4444444444444444,
              "#bd3786"
             ],
             [
              0.5555555555555556,
              "#d8576b"
             ],
             [
              0.6666666666666666,
              "#ed7953"
             ],
             [
              0.7777777777777778,
              "#fb9f3a"
             ],
             [
              0.8888888888888888,
              "#fdca26"
             ],
             [
              1,
              "#f0f921"
             ]
            ],
            "type": "heatmap"
           }
          ],
          "heatmapgl": [
           {
            "colorbar": {
             "outlinewidth": 0,
             "ticks": ""
            },
            "colorscale": [
             [
              0,
              "#0d0887"
             ],
             [
              0.1111111111111111,
              "#46039f"
             ],
             [
              0.2222222222222222,
              "#7201a8"
             ],
             [
              0.3333333333333333,
              "#9c179e"
             ],
             [
              0.4444444444444444,
              "#bd3786"
             ],
             [
              0.5555555555555556,
              "#d8576b"
             ],
             [
              0.6666666666666666,
              "#ed7953"
             ],
             [
              0.7777777777777778,
              "#fb9f3a"
             ],
             [
              0.8888888888888888,
              "#fdca26"
             ],
             [
              1,
              "#f0f921"
             ]
            ],
            "type": "heatmapgl"
           }
          ],
          "histogram": [
           {
            "marker": {
             "pattern": {
              "fillmode": "overlay",
              "size": 10,
              "solidity": 0.2
             }
            },
            "type": "histogram"
           }
          ],
          "histogram2d": [
           {
            "colorbar": {
             "outlinewidth": 0,
             "ticks": ""
            },
            "colorscale": [
             [
              0,
              "#0d0887"
             ],
             [
              0.1111111111111111,
              "#46039f"
             ],
             [
              0.2222222222222222,
              "#7201a8"
             ],
             [
              0.3333333333333333,
              "#9c179e"
             ],
             [
              0.4444444444444444,
              "#bd3786"
             ],
             [
              0.5555555555555556,
              "#d8576b"
             ],
             [
              0.6666666666666666,
              "#ed7953"
             ],
             [
              0.7777777777777778,
              "#fb9f3a"
             ],
             [
              0.8888888888888888,
              "#fdca26"
             ],
             [
              1,
              "#f0f921"
             ]
            ],
            "type": "histogram2d"
           }
          ],
          "histogram2dcontour": [
           {
            "colorbar": {
             "outlinewidth": 0,
             "ticks": ""
            },
            "colorscale": [
             [
              0,
              "#0d0887"
             ],
             [
              0.1111111111111111,
              "#46039f"
             ],
             [
              0.2222222222222222,
              "#7201a8"
             ],
             [
              0.3333333333333333,
              "#9c179e"
             ],
             [
              0.4444444444444444,
              "#bd3786"
             ],
             [
              0.5555555555555556,
              "#d8576b"
             ],
             [
              0.6666666666666666,
              "#ed7953"
             ],
             [
              0.7777777777777778,
              "#fb9f3a"
             ],
             [
              0.8888888888888888,
              "#fdca26"
             ],
             [
              1,
              "#f0f921"
             ]
            ],
            "type": "histogram2dcontour"
           }
          ],
          "mesh3d": [
           {
            "colorbar": {
             "outlinewidth": 0,
             "ticks": ""
            },
            "type": "mesh3d"
           }
          ],
          "parcoords": [
           {
            "line": {
             "colorbar": {
              "outlinewidth": 0,
              "ticks": ""
             }
            },
            "type": "parcoords"
           }
          ],
          "pie": [
           {
            "automargin": true,
            "type": "pie"
           }
          ],
          "scatter": [
           {
            "marker": {
             "colorbar": {
              "outlinewidth": 0,
              "ticks": ""
             }
            },
            "type": "scatter"
           }
          ],
          "scatter3d": [
           {
            "line": {
             "colorbar": {
              "outlinewidth": 0,
              "ticks": ""
             }
            },
            "marker": {
             "colorbar": {
              "outlinewidth": 0,
              "ticks": ""
             }
            },
            "type": "scatter3d"
           }
          ],
          "scattercarpet": [
           {
            "marker": {
             "colorbar": {
              "outlinewidth": 0,
              "ticks": ""
             }
            },
            "type": "scattercarpet"
           }
          ],
          "scattergeo": [
           {
            "marker": {
             "colorbar": {
              "outlinewidth": 0,
              "ticks": ""
             }
            },
            "type": "scattergeo"
           }
          ],
          "scattergl": [
           {
            "marker": {
             "colorbar": {
              "outlinewidth": 0,
              "ticks": ""
             }
            },
            "type": "scattergl"
           }
          ],
          "scattermapbox": [
           {
            "marker": {
             "colorbar": {
              "outlinewidth": 0,
              "ticks": ""
             }
            },
            "type": "scattermapbox"
           }
          ],
          "scatterpolar": [
           {
            "marker": {
             "colorbar": {
              "outlinewidth": 0,
              "ticks": ""
             }
            },
            "type": "scatterpolar"
           }
          ],
          "scatterpolargl": [
           {
            "marker": {
             "colorbar": {
              "outlinewidth": 0,
              "ticks": ""
             }
            },
            "type": "scatterpolargl"
           }
          ],
          "scatterternary": [
           {
            "marker": {
             "colorbar": {
              "outlinewidth": 0,
              "ticks": ""
             }
            },
            "type": "scatterternary"
           }
          ],
          "surface": [
           {
            "colorbar": {
             "outlinewidth": 0,
             "ticks": ""
            },
            "colorscale": [
             [
              0,
              "#0d0887"
             ],
             [
              0.1111111111111111,
              "#46039f"
             ],
             [
              0.2222222222222222,
              "#7201a8"
             ],
             [
              0.3333333333333333,
              "#9c179e"
             ],
             [
              0.4444444444444444,
              "#bd3786"
             ],
             [
              0.5555555555555556,
              "#d8576b"
             ],
             [
              0.6666666666666666,
              "#ed7953"
             ],
             [
              0.7777777777777778,
              "#fb9f3a"
             ],
             [
              0.8888888888888888,
              "#fdca26"
             ],
             [
              1,
              "#f0f921"
             ]
            ],
            "type": "surface"
           }
          ],
          "table": [
           {
            "cells": {
             "fill": {
              "color": "#EBF0F8"
             },
             "line": {
              "color": "white"
             }
            },
            "header": {
             "fill": {
              "color": "#C8D4E3"
             },
             "line": {
              "color": "white"
             }
            },
            "type": "table"
           }
          ]
         },
         "layout": {
          "annotationdefaults": {
           "arrowcolor": "#2a3f5f",
           "arrowhead": 0,
           "arrowwidth": 1
          },
          "autotypenumbers": "strict",
          "coloraxis": {
           "colorbar": {
            "outlinewidth": 0,
            "ticks": ""
           }
          },
          "colorscale": {
           "diverging": [
            [
             0,
             "#8e0152"
            ],
            [
             0.1,
             "#c51b7d"
            ],
            [
             0.2,
             "#de77ae"
            ],
            [
             0.3,
             "#f1b6da"
            ],
            [
             0.4,
             "#fde0ef"
            ],
            [
             0.5,
             "#f7f7f7"
            ],
            [
             0.6,
             "#e6f5d0"
            ],
            [
             0.7,
             "#b8e186"
            ],
            [
             0.8,
             "#7fbc41"
            ],
            [
             0.9,
             "#4d9221"
            ],
            [
             1,
             "#276419"
            ]
           ],
           "sequential": [
            [
             0,
             "#0d0887"
            ],
            [
             0.1111111111111111,
             "#46039f"
            ],
            [
             0.2222222222222222,
             "#7201a8"
            ],
            [
             0.3333333333333333,
             "#9c179e"
            ],
            [
             0.4444444444444444,
             "#bd3786"
            ],
            [
             0.5555555555555556,
             "#d8576b"
            ],
            [
             0.6666666666666666,
             "#ed7953"
            ],
            [
             0.7777777777777778,
             "#fb9f3a"
            ],
            [
             0.8888888888888888,
             "#fdca26"
            ],
            [
             1,
             "#f0f921"
            ]
           ],
           "sequentialminus": [
            [
             0,
             "#0d0887"
            ],
            [
             0.1111111111111111,
             "#46039f"
            ],
            [
             0.2222222222222222,
             "#7201a8"
            ],
            [
             0.3333333333333333,
             "#9c179e"
            ],
            [
             0.4444444444444444,
             "#bd3786"
            ],
            [
             0.5555555555555556,
             "#d8576b"
            ],
            [
             0.6666666666666666,
             "#ed7953"
            ],
            [
             0.7777777777777778,
             "#fb9f3a"
            ],
            [
             0.8888888888888888,
             "#fdca26"
            ],
            [
             1,
             "#f0f921"
            ]
           ]
          },
          "colorway": [
           "#636efa",
           "#EF553B",
           "#00cc96",
           "#ab63fa",
           "#FFA15A",
           "#19d3f3",
           "#FF6692",
           "#B6E880",
           "#FF97FF",
           "#FECB52"
          ],
          "font": {
           "color": "#2a3f5f"
          },
          "geo": {
           "bgcolor": "white",
           "lakecolor": "white",
           "landcolor": "#E5ECF6",
           "showlakes": true,
           "showland": true,
           "subunitcolor": "white"
          },
          "hoverlabel": {
           "align": "left"
          },
          "hovermode": "closest",
          "mapbox": {
           "style": "light"
          },
          "paper_bgcolor": "white",
          "plot_bgcolor": "#E5ECF6",
          "polar": {
           "angularaxis": {
            "gridcolor": "white",
            "linecolor": "white",
            "ticks": ""
           },
           "bgcolor": "#E5ECF6",
           "radialaxis": {
            "gridcolor": "white",
            "linecolor": "white",
            "ticks": ""
           }
          },
          "scene": {
           "xaxis": {
            "backgroundcolor": "#E5ECF6",
            "gridcolor": "white",
            "gridwidth": 2,
            "linecolor": "white",
            "showbackground": true,
            "ticks": "",
            "zerolinecolor": "white"
           },
           "yaxis": {
            "backgroundcolor": "#E5ECF6",
            "gridcolor": "white",
            "gridwidth": 2,
            "linecolor": "white",
            "showbackground": true,
            "ticks": "",
            "zerolinecolor": "white"
           },
           "zaxis": {
            "backgroundcolor": "#E5ECF6",
            "gridcolor": "white",
            "gridwidth": 2,
            "linecolor": "white",
            "showbackground": true,
            "ticks": "",
            "zerolinecolor": "white"
           }
          },
          "shapedefaults": {
           "line": {
            "color": "#2a3f5f"
           }
          },
          "ternary": {
           "aaxis": {
            "gridcolor": "white",
            "linecolor": "white",
            "ticks": ""
           },
           "baxis": {
            "gridcolor": "white",
            "linecolor": "white",
            "ticks": ""
           },
           "bgcolor": "#E5ECF6",
           "caxis": {
            "gridcolor": "white",
            "linecolor": "white",
            "ticks": ""
           }
          },
          "title": {
           "x": 0.05
          },
          "xaxis": {
           "automargin": true,
           "gridcolor": "white",
           "linecolor": "white",
           "ticks": "",
           "title": {
            "standoff": 15
           },
           "zerolinecolor": "white",
           "zerolinewidth": 2
          },
          "yaxis": {
           "automargin": true,
           "gridcolor": "white",
           "linecolor": "white",
           "ticks": "",
           "title": {
            "standoff": 15
           },
           "zerolinecolor": "white",
           "zerolinewidth": 2
          }
         }
        },
        "title": {
         "text": "MEDV HISTOGRAM"
        },
        "xaxis": {
         "anchor": "y",
         "domain": [
          0,
          1
         ],
         "title": {
          "text": "Median value of owner-occupied homes in $1000s."
         }
        },
        "yaxis": {
         "anchor": "x",
         "domain": [
          0,
          1
         ],
         "title": {
          "text": "count"
         }
        }
       }
      }
     },
     "metadata": {},
     "output_type": "display_data"
    }
   ],
   "source": [
    "import plotly.express as px\n",
    "\n",
    "his = px.histogram(x, labels= {'value' : 'Median value of owner-occupied homes in $1000s.'},\n",
    "                   title='MEDV HISTOGRAM')\n",
    "his.update_layout(showlegend=False)\n",
    "his.show()\n"
   ]
  },
  {
   "cell_type": "code",
   "execution_count": 16,
   "id": "89fcdb16",
   "metadata": {},
   "outputs": [
    {
     "name": "stdout",
     "output_type": "stream",
     "text": [
      "Average medv is: 22.53\n",
      "Medain for  medv is: 21.2\n"
     ]
    }
   ],
   "source": [
    "mean_medv = df['medv'].mean()\n",
    "medain_medv = df['medv'].median()\n",
    "\n",
    "print(f'Average medv is: {round(mean_medv, 2)}')\n",
    "print(f'Medain for  medv is: {medain_medv}')"
   ]
  },
  {
   "cell_type": "markdown",
   "id": "927c1f31",
   "metadata": {},
   "source": [
    "Na stworzonym histogramie kolumny `medv` możemy łatwo podjerzeć wartości które występują najczęściej. Są to warotści od 20 do 25 (w 1000$). Idąc dalej w prawą stronę obserwujemy zauważalny spadek częstotliwości występowań wartości powyżej 25. Więcej z nich znjaduję sie po lewej stornie wykresu, od 5 do 25. Na tej podstawie możemy powiedzieć, że w naszym zbiorze dominowały głównie mniejsze bądż równe średniej wartości domów w Bostonie."
   ]
  },
  {
   "cell_type": "code",
   "execution_count": 17,
   "id": "7154258c",
   "metadata": {},
   "outputs": [
    {
     "data": {
      "application/vnd.plotly.v1+json": {
       "config": {
        "plotlyServerURL": "https://plot.ly"
       },
       "data": [
        {
         "hovertemplate": "tax=%{x}<br>rad=%{y}<extra></extra>",
         "legendgroup": "",
         "marker": {
          "color": "#636efa",
          "symbol": "circle"
         },
         "mode": "markers",
         "name": "",
         "orientation": "v",
         "showlegend": false,
         "type": "scatter",
         "x": [
          0.20801526717557253,
          0.1049618320610687,
          0.1049618320610687,
          0.06679389312977099,
          0.06679389312977099,
          0.06679389312977099,
          0.2366412213740458,
          0.2366412213740458,
          0.2366412213740458,
          0.2366412213740458,
          0.2366412213740458,
          0.2366412213740458,
          0.2366412213740458,
          0.22900763358778625,
          0.22900763358778625,
          0.22900763358778625,
          0.22900763358778625,
          0.22900763358778625,
          0.22900763358778625,
          0.22900763358778625,
          0.22900763358778625,
          0.22900763358778625,
          0.22900763358778625,
          0.22900763358778625,
          0.22900763358778625,
          0.22900763358778625,
          0.22900763358778625,
          0.22900763358778625,
          0.22900763358778625,
          0.22900763358778625,
          0.22900763358778625,
          0.22900763358778625,
          0.22900763358778625,
          0.22900763358778625,
          0.22900763358778625,
          0.17557251908396945,
          0.17557251908396945,
          0.17557251908396945,
          0.17557251908396945,
          0.12404580152671756,
          0.12404580152671756,
          0.08778625954198473,
          0.08778625954198473,
          0.08778625954198473,
          0.08778625954198473,
          0.08778625954198473,
          0.08778625954198473,
          0.08778625954198473,
          0.08778625954198473,
          0.08778625954198473,
          0.10687022900763359,
          0.10687022900763359,
          0.10687022900763359,
          0.10687022900763359,
          0.5381679389312977,
          0.07442748091603053,
          0.24045801526717558,
          0.1316793893129771,
          0.1851145038167939,
          0.1851145038167939,
          0.1851145038167939,
          0.1851145038167939,
          0.1851145038167939,
          0.1851145038167939,
          0.05534351145038168,
          0.2862595419847328,
          0.2862595419847328,
          0.3015267175572519,
          0.3015267175572519,
          0.3015267175572519,
          0.22519083969465647,
          0.22519083969465647,
          0.22519083969465647,
          0.22519083969465647,
          0.4026717557251908,
          0.4026717557251908,
          0.4026717557251908,
          0.4026717557251908,
          0.4026717557251908,
          0.4026717557251908,
          0.17938931297709923,
          0.17938931297709923,
          0.17938931297709923,
          0.17938931297709923,
          0.11450381679389313,
          0.11450381679389313,
          0.11450381679389313,
          0.11450381679389313,
          0.15839694656488548,
          0.15839694656488548,
          0.15839694656488548,
          0.15839694656488548,
          0.15839694656488548,
          0.15839694656488548,
          0.15839694656488548,
          0.16984732824427481,
          0.16984732824427481,
          0.16984732824427481,
          0.16984732824427481,
          0.16984732824427481,
          0.37595419847328243,
          0.37595419847328243,
          0.37595419847328243,
          0.37595419847328243,
          0.37595419847328243,
          0.37595419847328243,
          0.37595419847328243,
          0.37595419847328243,
          0.37595419847328243,
          0.37595419847328243,
          0.37595419847328243,
          0.4675572519083969,
          0.4675572519083969,
          0.4675572519083969,
          0.4675572519083969,
          0.4675572519083969,
          0.4675572519083969,
          0.4675572519083969,
          0.4675572519083969,
          0.4675572519083969,
          0.0019083969465648854,
          0.0019083969465648854,
          0.0019083969465648854,
          0.0019083969465648854,
          0.0019083969465648854,
          0.0019083969465648854,
          0.0019083969465648854,
          0.4770992366412214,
          0.4770992366412214,
          0.4770992366412214,
          0.4770992366412214,
          0.4770992366412214,
          0.4770992366412214,
          0.4770992366412214,
          0.4770992366412214,
          0.4770992366412214,
          0.4770992366412214,
          0.4770992366412214,
          0.4770992366412214,
          0.4770992366412214,
          0.4770992366412214,
          0.4770992366412214,
          0.4122137404580153,
          0.4122137404580153,
          0.4122137404580153,
          0.4122137404580153,
          0.4122137404580153,
          0.4122137404580153,
          0.4122137404580153,
          0.4122137404580153,
          0.4122137404580153,
          0.4122137404580153,
          0.4122137404580153,
          0.4122137404580153,
          0.4122137404580153,
          0.4122137404580153,
          0.4122137404580153,
          0.4122137404580153,
          0.4122137404580153,
          0.4122137404580153,
          0.4122137404580153,
          0.4122137404580153,
          0.4122137404580153,
          0.4122137404580153,
          0.4122137404580153,
          0.4122137404580153,
          0.4122137404580153,
          0.4122137404580153,
          0.4122137404580153,
          0.4122137404580153,
          0.4122137404580153,
          0.4122137404580153,
          0.20801526717557253,
          0.20801526717557253,
          0.20801526717557253,
          0.20801526717557253,
          0.20801526717557253,
          0.20801526717557253,
          0.20801526717557253,
          0.011450381679389313,
          0.011450381679389313,
          0.011450381679389313,
          0.011450381679389313,
          0.011450381679389313,
          0.011450381679389313,
          0.011450381679389313,
          0.011450381679389313,
          0.4026717557251908,
          0.4026717557251908,
          0.4026717557251908,
          0.4026717557251908,
          0.4026717557251908,
          0.4026717557251908,
          0.14885496183206107,
          0.14885496183206107,
          0.1297709923664122,
          0.27099236641221375,
          0.27099236641221375,
          0.27099236641221375,
          0.41030534351145037,
          0.41030534351145037,
          0.30725190839694655,
          0.30725190839694655,
          0.07061068702290077,
          0.07061068702290077,
          0.1717557251908397,
          0.1717557251908397,
          0.1717557251908397,
          0.1717557251908397,
          0.1717557251908397,
          0.1717557251908397,
          0.1717557251908397,
          0.1717557251908397,
          0.1717557251908397,
          0.1717557251908397,
          0.1717557251908397,
          0.16984732824427481,
          0.16984732824427481,
          0.16984732824427481,
          0.16984732824427481,
          0.22900763358778625,
          0.22900763358778625,
          0.22900763358778625,
          0.22900763358778625,
          0.22900763358778625,
          0.22900763358778625,
          0.22900763358778625,
          0.22900763358778625,
          0.22900763358778625,
          0.22900763358778625,
          0.22900763358778625,
          0.22900763358778625,
          0.22900763358778625,
          0.22900763358778625,
          0.22900763358778625,
          0.22900763358778625,
          0.22900763358778625,
          0.22900763358778625,
          0.21564885496183206,
          0.21564885496183206,
          0.21564885496183206,
          0.21564885496183206,
          0.21564885496183206,
          0.21564885496183206,
          0.2729007633587786,
          0.2729007633587786,
          0.2729007633587786,
          0.2729007633587786,
          0.2729007633587786,
          0.2729007633587786,
          0.2729007633587786,
          0.2729007633587786,
          0.2729007633587786,
          0.2729007633587786,
          0.24427480916030533,
          0.24427480916030533,
          0.10877862595419847,
          0.14694656488549618,
          0.14694656488549618,
          0.14694656488549618,
          0.14694656488549618,
          0.14694656488549618,
          0.14694656488549618,
          0.14694656488549618,
          0.14694656488549618,
          0.14694656488549618,
          0.14694656488549618,
          0.14694656488549618,
          0.14694656488549618,
          0.06870229007633588,
          0.06870229007633588,
          0.06870229007633588,
          0.06870229007633588,
          0.06870229007633588,
          0.12786259541984732,
          0.12786259541984732,
          0.12786259541984732,
          0.12786259541984732,
          0.12786259541984732,
          0.05534351145038168,
          0.05534351145038168,
          0.05534351145038168,
          0.05534351145038168,
          0.02099236641221374,
          0.18702290076335878,
          0.21564885496183206,
          0.10305343511450382,
          0.20229007633587787,
          0.20229007633587787,
          0.20229007633587787,
          0.11068702290076336,
          0.11068702290076336,
          0.11068702290076336,
          0.1946564885496183,
          0.1946564885496183,
          0.1946564885496183,
          0.1946564885496183,
          0.1946564885496183,
          0.32633587786259544,
          0.32633587786259544,
          0.32633587786259544,
          0.27099236641221375,
          0.27099236641221375,
          0.27099236641221375,
          0.06679389312977099,
          0.06679389312977099,
          0.06679389312977099,
          0.06679389312977099,
          0.22328244274809161,
          0.22328244274809161,
          0.22328244274809161,
          0.22328244274809161,
          0.22328244274809161,
          0.22328244274809161,
          0.22328244274809161,
          0.22328244274809161,
          0.22328244274809161,
          0.22328244274809161,
          0.22328244274809161,
          0.22328244274809161,
          0.19083969465648856,
          0.19083969465648856,
          0.19083969465648856,
          0.19083969465648856,
          0.19083969465648856,
          0.19083969465648856,
          0.19083969465648856,
          0.19083969465648856,
          0.4637404580152672,
          0.4637404580152672,
          0.4637404580152672,
          0.22328244274809161,
          0.22328244274809161,
          0.07061068702290077,
          0.07061068702290077,
          0.07061068702290077,
          0.07061068702290077,
          0.07061068702290077,
          0.07061068702290077,
          0.07061068702290077,
          0.07061068702290077,
          0.1851145038167939,
          0.4484732824427481,
          0.34923664122137404,
          0.34923664122137404,
          0.3148854961832061,
          0.3148854961832061,
          0.31297709923664124,
          0.17748091603053434,
          0.2824427480916031,
          0.2824427480916031,
          0.42748091603053434,
          0.42748091603053434,
          0,
          0.28053435114503816,
          0.28053435114503816,
          0.9141221374045801,
          0.9141221374045801,
          0.9141221374045801,
          0.9141221374045801,
          0.9141221374045801,
          0.9141221374045801,
          0.9141221374045801,
          0.9141221374045801,
          0.9141221374045801,
          0.9141221374045801,
          0.9141221374045801,
          0.9141221374045801,
          0.9141221374045801,
          0.9141221374045801,
          0.9141221374045801,
          0.9141221374045801,
          0.9141221374045801,
          0.9141221374045801,
          0.9141221374045801,
          0.9141221374045801,
          0.9141221374045801,
          0.9141221374045801,
          0.9141221374045801,
          0.9141221374045801,
          0.9141221374045801,
          0.9141221374045801,
          0.9141221374045801,
          0.9141221374045801,
          0.9141221374045801,
          0.9141221374045801,
          0.9141221374045801,
          0.9141221374045801,
          0.9141221374045801,
          0.9141221374045801,
          0.9141221374045801,
          0.9141221374045801,
          0.9141221374045801,
          0.9141221374045801,
          0.9141221374045801,
          0.9141221374045801,
          0.9141221374045801,
          0.9141221374045801,
          0.9141221374045801,
          0.9141221374045801,
          0.9141221374045801,
          0.9141221374045801,
          0.9141221374045801,
          0.9141221374045801,
          0.9141221374045801,
          0.9141221374045801,
          0.9141221374045801,
          0.9141221374045801,
          0.9141221374045801,
          0.9141221374045801,
          0.9141221374045801,
          0.9141221374045801,
          0.9141221374045801,
          0.9141221374045801,
          0.9141221374045801,
          0.9141221374045801,
          0.9141221374045801,
          0.9141221374045801,
          0.9141221374045801,
          0.9141221374045801,
          0.9141221374045801,
          0.9141221374045801,
          0.9141221374045801,
          0.9141221374045801,
          0.9141221374045801,
          0.9141221374045801,
          0.9141221374045801,
          0.9141221374045801,
          0.9141221374045801,
          0.9141221374045801,
          0.9141221374045801,
          0.9141221374045801,
          0.9141221374045801,
          0.9141221374045801,
          0.9141221374045801,
          0.9141221374045801,
          0.9141221374045801,
          0.9141221374045801,
          0.9141221374045801,
          0.9141221374045801,
          0.9141221374045801,
          0.9141221374045801,
          0.9141221374045801,
          0.9141221374045801,
          0.9141221374045801,
          0.9141221374045801,
          0.9141221374045801,
          0.9141221374045801,
          0.9141221374045801,
          0.9141221374045801,
          0.9141221374045801,
          0.9141221374045801,
          0.9141221374045801,
          0.9141221374045801,
          0.9141221374045801,
          0.9141221374045801,
          0.9141221374045801,
          0.9141221374045801,
          0.9141221374045801,
          0.9141221374045801,
          0.9141221374045801,
          0.9141221374045801,
          0.9141221374045801,
          0.9141221374045801,
          0.9141221374045801,
          0.9141221374045801,
          0.9141221374045801,
          0.9141221374045801,
          0.9141221374045801,
          0.9141221374045801,
          0.9141221374045801,
          0.9141221374045801,
          0.9141221374045801,
          0.9141221374045801,
          0.9141221374045801,
          0.9141221374045801,
          0.9141221374045801,
          0.9141221374045801,
          0.9141221374045801,
          0.9141221374045801,
          0.9141221374045801,
          0.9141221374045801,
          0.9141221374045801,
          0.9141221374045801,
          0.9141221374045801,
          0.9141221374045801,
          0.9141221374045801,
          0.9141221374045801,
          1,
          1,
          1,
          1,
          1,
          0.3893129770992366,
          0.3893129770992366,
          0.3893129770992366,
          0.3893129770992366,
          0.3893129770992366,
          0.3893129770992366,
          0.3893129770992366,
          0.3893129770992366,
          0.16412213740458015,
          0.16412213740458015,
          0.16412213740458015,
          0.16412213740458015,
          0.16412213740458015
         ],
         "xaxis": "x",
         "y": [
          0,
          0.043478260869565216,
          0.043478260869565216,
          0.08695652173913043,
          0.08695652173913043,
          0.08695652173913043,
          0.17391304347826086,
          0.17391304347826086,
          0.17391304347826086,
          0.17391304347826086,
          0.17391304347826086,
          0.17391304347826086,
          0.17391304347826086,
          0.13043478260869565,
          0.13043478260869565,
          0.13043478260869565,
          0.13043478260869565,
          0.13043478260869565,
          0.13043478260869565,
          0.13043478260869565,
          0.13043478260869565,
          0.13043478260869565,
          0.13043478260869565,
          0.13043478260869565,
          0.13043478260869565,
          0.13043478260869565,
          0.13043478260869565,
          0.13043478260869565,
          0.13043478260869565,
          0.13043478260869565,
          0.13043478260869565,
          0.13043478260869565,
          0.13043478260869565,
          0.13043478260869565,
          0.13043478260869565,
          0.17391304347826086,
          0.17391304347826086,
          0.17391304347826086,
          0.17391304347826086,
          0.08695652173913043,
          0.08695652173913043,
          0.08695652173913043,
          0.08695652173913043,
          0.08695652173913043,
          0.08695652173913043,
          0.08695652173913043,
          0.08695652173913043,
          0.08695652173913043,
          0.08695652173913043,
          0.08695652173913043,
          0.13043478260869565,
          0.13043478260869565,
          0.13043478260869565,
          0.13043478260869565,
          0.08695652173913043,
          0.17391304347826086,
          0.043478260869565216,
          0.17391304347826086,
          0.30434782608695654,
          0.30434782608695654,
          0.30434782608695654,
          0.30434782608695654,
          0.30434782608695654,
          0.30434782608695654,
          0.08695652173913043,
          0.13043478260869565,
          0.13043478260869565,
          0.13043478260869565,
          0.13043478260869565,
          0.13043478260869565,
          0.13043478260869565,
          0.13043478260869565,
          0.13043478260869565,
          0.13043478260869565,
          0.17391304347826086,
          0.17391304347826086,
          0.17391304347826086,
          0.17391304347826086,
          0.17391304347826086,
          0.17391304347826086,
          0.13043478260869565,
          0.13043478260869565,
          0.13043478260869565,
          0.13043478260869565,
          0.08695652173913043,
          0.08695652173913043,
          0.08695652173913043,
          0.08695652173913043,
          0.043478260869565216,
          0.043478260869565216,
          0.043478260869565216,
          0.043478260869565216,
          0.13043478260869565,
          0.13043478260869565,
          0.13043478260869565,
          0.043478260869565216,
          0.043478260869565216,
          0.043478260869565216,
          0.043478260869565216,
          0.043478260869565216,
          0.17391304347826086,
          0.17391304347826086,
          0.17391304347826086,
          0.17391304347826086,
          0.17391304347826086,
          0.17391304347826086,
          0.17391304347826086,
          0.17391304347826086,
          0.17391304347826086,
          0.17391304347826086,
          0.17391304347826086,
          0.21739130434782608,
          0.21739130434782608,
          0.21739130434782608,
          0.21739130434782608,
          0.21739130434782608,
          0.21739130434782608,
          0.21739130434782608,
          0.21739130434782608,
          0.21739130434782608,
          0.043478260869565216,
          0.043478260869565216,
          0.043478260869565216,
          0.043478260869565216,
          0.043478260869565216,
          0.043478260869565216,
          0.043478260869565216,
          0.13043478260869565,
          0.13043478260869565,
          0.13043478260869565,
          0.13043478260869565,
          0.13043478260869565,
          0.13043478260869565,
          0.13043478260869565,
          0.13043478260869565,
          0.13043478260869565,
          0.13043478260869565,
          0.13043478260869565,
          0.13043478260869565,
          0.13043478260869565,
          0.13043478260869565,
          0.13043478260869565,
          0.17391304347826086,
          0.17391304347826086,
          0.17391304347826086,
          0.17391304347826086,
          0.17391304347826086,
          0.17391304347826086,
          0.17391304347826086,
          0.17391304347826086,
          0.17391304347826086,
          0.17391304347826086,
          0.17391304347826086,
          0.17391304347826086,
          0.17391304347826086,
          0.17391304347826086,
          0.17391304347826086,
          0.17391304347826086,
          0.17391304347826086,
          0.17391304347826086,
          0.17391304347826086,
          0.17391304347826086,
          0.17391304347826086,
          0.17391304347826086,
          0.17391304347826086,
          0.17391304347826086,
          0.17391304347826086,
          0.17391304347826086,
          0.17391304347826086,
          0.17391304347826086,
          0.17391304347826086,
          0.17391304347826086,
          0.17391304347826086,
          0.17391304347826086,
          0.17391304347826086,
          0.17391304347826086,
          0.17391304347826086,
          0.17391304347826086,
          0.17391304347826086,
          0.08695652173913043,
          0.08695652173913043,
          0.08695652173913043,
          0.08695652173913043,
          0.08695652173913043,
          0.08695652173913043,
          0.08695652173913043,
          0.08695652173913043,
          0.17391304347826086,
          0.17391304347826086,
          0.17391304347826086,
          0.17391304347826086,
          0.17391304347826086,
          0.17391304347826086,
          0,
          0,
          0.13043478260869565,
          0.043478260869565216,
          0.043478260869565216,
          0.043478260869565216,
          0.08695652173913043,
          0.08695652173913043,
          0.043478260869565216,
          0.043478260869565216,
          0.13043478260869565,
          0.13043478260869565,
          0.13043478260869565,
          0.13043478260869565,
          0.13043478260869565,
          0.13043478260869565,
          0.13043478260869565,
          0.13043478260869565,
          0.13043478260869565,
          0.13043478260869565,
          0.13043478260869565,
          0.13043478260869565,
          0.13043478260869565,
          0.17391304347826086,
          0.17391304347826086,
          0.17391304347826086,
          0.17391304347826086,
          0.30434782608695654,
          0.30434782608695654,
          0.30434782608695654,
          0.30434782608695654,
          0.30434782608695654,
          0.30434782608695654,
          0.30434782608695654,
          0.30434782608695654,
          0.30434782608695654,
          0.30434782608695654,
          0.30434782608695654,
          0.30434782608695654,
          0.30434782608695654,
          0.30434782608695654,
          0.30434782608695654,
          0.30434782608695654,
          0.30434782608695654,
          0.30434782608695654,
          0.21739130434782608,
          0.21739130434782608,
          0.21739130434782608,
          0.21739130434782608,
          0.21739130434782608,
          0.21739130434782608,
          0.2608695652173913,
          0.2608695652173913,
          0.2608695652173913,
          0.2608695652173913,
          0.2608695652173913,
          0.2608695652173913,
          0.2608695652173913,
          0.2608695652173913,
          0.2608695652173913,
          0.2608695652173913,
          0,
          0,
          0.08695652173913043,
          0.17391304347826086,
          0.17391304347826086,
          0.17391304347826086,
          0.17391304347826086,
          0.17391304347826086,
          0.17391304347826086,
          0.17391304347826086,
          0.17391304347826086,
          0.17391304347826086,
          0.17391304347826086,
          0.17391304347826086,
          0.17391304347826086,
          0.08695652173913043,
          0.08695652173913043,
          0.08695652173913043,
          0.08695652173913043,
          0.08695652173913043,
          0.13043478260869565,
          0.13043478260869565,
          0.13043478260869565,
          0.13043478260869565,
          0.13043478260869565,
          0.17391304347826086,
          0.17391304347826086,
          0.17391304347826086,
          0.17391304347826086,
          0,
          0,
          0,
          0,
          0.21739130434782608,
          0.21739130434782608,
          0.21739130434782608,
          0.13043478260869565,
          0.13043478260869565,
          0.13043478260869565,
          0.13043478260869565,
          0.13043478260869565,
          0.13043478260869565,
          0.13043478260869565,
          0.13043478260869565,
          0.17391304347826086,
          0.17391304347826086,
          0.17391304347826086,
          0.2608695652173913,
          0.2608695652173913,
          0.2608695652173913,
          0.2608695652173913,
          0.2608695652173913,
          0.2608695652173913,
          0.2608695652173913,
          0.13043478260869565,
          0.13043478260869565,
          0.13043478260869565,
          0.13043478260869565,
          0.13043478260869565,
          0.13043478260869565,
          0.13043478260869565,
          0.13043478260869565,
          0.13043478260869565,
          0.13043478260869565,
          0.13043478260869565,
          0.13043478260869565,
          0.17391304347826086,
          0.17391304347826086,
          0.17391304347826086,
          0.17391304347826086,
          0.17391304347826086,
          0.17391304347826086,
          0.17391304347826086,
          0.17391304347826086,
          0.13043478260869565,
          0.13043478260869565,
          0.13043478260869565,
          0,
          0,
          0.17391304347826086,
          0.17391304347826086,
          0.17391304347826086,
          0.17391304347826086,
          0.17391304347826086,
          0.17391304347826086,
          0.17391304347826086,
          0.17391304347826086,
          0,
          0,
          0.17391304347826086,
          0.17391304347826086,
          0.08695652173913043,
          0.08695652173913043,
          0.13043478260869565,
          0.13043478260869565,
          0,
          0,
          0.13043478260869565,
          0.13043478260869565,
          0.17391304347826086,
          0.13043478260869565,
          0.13043478260869565,
          1,
          1,
          1,
          1,
          1,
          1,
          1,
          1,
          1,
          1,
          1,
          1,
          1,
          1,
          1,
          1,
          1,
          1,
          1,
          1,
          1,
          1,
          1,
          1,
          1,
          1,
          1,
          1,
          1,
          1,
          1,
          1,
          1,
          1,
          1,
          1,
          1,
          1,
          1,
          1,
          1,
          1,
          1,
          1,
          1,
          1,
          1,
          1,
          1,
          1,
          1,
          1,
          1,
          1,
          1,
          1,
          1,
          1,
          1,
          1,
          1,
          1,
          1,
          1,
          1,
          1,
          1,
          1,
          1,
          1,
          1,
          1,
          1,
          1,
          1,
          1,
          1,
          1,
          1,
          1,
          1,
          1,
          1,
          1,
          1,
          1,
          1,
          1,
          1,
          1,
          1,
          1,
          1,
          1,
          1,
          1,
          1,
          1,
          1,
          1,
          1,
          1,
          1,
          1,
          1,
          1,
          1,
          1,
          1,
          1,
          1,
          1,
          1,
          1,
          1,
          1,
          1,
          1,
          1,
          1,
          1,
          1,
          1,
          1,
          1,
          1,
          1,
          1,
          1,
          1,
          1,
          1,
          0.13043478260869565,
          0.13043478260869565,
          0.13043478260869565,
          0.13043478260869565,
          0.13043478260869565,
          0.21739130434782608,
          0.21739130434782608,
          0.21739130434782608,
          0.21739130434782608,
          0.21739130434782608,
          0.21739130434782608,
          0.21739130434782608,
          0.21739130434782608,
          0,
          0,
          0,
          0,
          0
         ],
         "yaxis": "y"
        }
       ],
       "layout": {
        "legend": {
         "tracegroupgap": 0
        },
        "template": {
         "data": {
          "bar": [
           {
            "error_x": {
             "color": "#2a3f5f"
            },
            "error_y": {
             "color": "#2a3f5f"
            },
            "marker": {
             "line": {
              "color": "#E5ECF6",
              "width": 0.5
             },
             "pattern": {
              "fillmode": "overlay",
              "size": 10,
              "solidity": 0.2
             }
            },
            "type": "bar"
           }
          ],
          "barpolar": [
           {
            "marker": {
             "line": {
              "color": "#E5ECF6",
              "width": 0.5
             },
             "pattern": {
              "fillmode": "overlay",
              "size": 10,
              "solidity": 0.2
             }
            },
            "type": "barpolar"
           }
          ],
          "carpet": [
           {
            "aaxis": {
             "endlinecolor": "#2a3f5f",
             "gridcolor": "white",
             "linecolor": "white",
             "minorgridcolor": "white",
             "startlinecolor": "#2a3f5f"
            },
            "baxis": {
             "endlinecolor": "#2a3f5f",
             "gridcolor": "white",
             "linecolor": "white",
             "minorgridcolor": "white",
             "startlinecolor": "#2a3f5f"
            },
            "type": "carpet"
           }
          ],
          "choropleth": [
           {
            "colorbar": {
             "outlinewidth": 0,
             "ticks": ""
            },
            "type": "choropleth"
           }
          ],
          "contour": [
           {
            "colorbar": {
             "outlinewidth": 0,
             "ticks": ""
            },
            "colorscale": [
             [
              0,
              "#0d0887"
             ],
             [
              0.1111111111111111,
              "#46039f"
             ],
             [
              0.2222222222222222,
              "#7201a8"
             ],
             [
              0.3333333333333333,
              "#9c179e"
             ],
             [
              0.4444444444444444,
              "#bd3786"
             ],
             [
              0.5555555555555556,
              "#d8576b"
             ],
             [
              0.6666666666666666,
              "#ed7953"
             ],
             [
              0.7777777777777778,
              "#fb9f3a"
             ],
             [
              0.8888888888888888,
              "#fdca26"
             ],
             [
              1,
              "#f0f921"
             ]
            ],
            "type": "contour"
           }
          ],
          "contourcarpet": [
           {
            "colorbar": {
             "outlinewidth": 0,
             "ticks": ""
            },
            "type": "contourcarpet"
           }
          ],
          "heatmap": [
           {
            "colorbar": {
             "outlinewidth": 0,
             "ticks": ""
            },
            "colorscale": [
             [
              0,
              "#0d0887"
             ],
             [
              0.1111111111111111,
              "#46039f"
             ],
             [
              0.2222222222222222,
              "#7201a8"
             ],
             [
              0.3333333333333333,
              "#9c179e"
             ],
             [
              0.4444444444444444,
              "#bd3786"
             ],
             [
              0.5555555555555556,
              "#d8576b"
             ],
             [
              0.6666666666666666,
              "#ed7953"
             ],
             [
              0.7777777777777778,
              "#fb9f3a"
             ],
             [
              0.8888888888888888,
              "#fdca26"
             ],
             [
              1,
              "#f0f921"
             ]
            ],
            "type": "heatmap"
           }
          ],
          "heatmapgl": [
           {
            "colorbar": {
             "outlinewidth": 0,
             "ticks": ""
            },
            "colorscale": [
             [
              0,
              "#0d0887"
             ],
             [
              0.1111111111111111,
              "#46039f"
             ],
             [
              0.2222222222222222,
              "#7201a8"
             ],
             [
              0.3333333333333333,
              "#9c179e"
             ],
             [
              0.4444444444444444,
              "#bd3786"
             ],
             [
              0.5555555555555556,
              "#d8576b"
             ],
             [
              0.6666666666666666,
              "#ed7953"
             ],
             [
              0.7777777777777778,
              "#fb9f3a"
             ],
             [
              0.8888888888888888,
              "#fdca26"
             ],
             [
              1,
              "#f0f921"
             ]
            ],
            "type": "heatmapgl"
           }
          ],
          "histogram": [
           {
            "marker": {
             "pattern": {
              "fillmode": "overlay",
              "size": 10,
              "solidity": 0.2
             }
            },
            "type": "histogram"
           }
          ],
          "histogram2d": [
           {
            "colorbar": {
             "outlinewidth": 0,
             "ticks": ""
            },
            "colorscale": [
             [
              0,
              "#0d0887"
             ],
             [
              0.1111111111111111,
              "#46039f"
             ],
             [
              0.2222222222222222,
              "#7201a8"
             ],
             [
              0.3333333333333333,
              "#9c179e"
             ],
             [
              0.4444444444444444,
              "#bd3786"
             ],
             [
              0.5555555555555556,
              "#d8576b"
             ],
             [
              0.6666666666666666,
              "#ed7953"
             ],
             [
              0.7777777777777778,
              "#fb9f3a"
             ],
             [
              0.8888888888888888,
              "#fdca26"
             ],
             [
              1,
              "#f0f921"
             ]
            ],
            "type": "histogram2d"
           }
          ],
          "histogram2dcontour": [
           {
            "colorbar": {
             "outlinewidth": 0,
             "ticks": ""
            },
            "colorscale": [
             [
              0,
              "#0d0887"
             ],
             [
              0.1111111111111111,
              "#46039f"
             ],
             [
              0.2222222222222222,
              "#7201a8"
             ],
             [
              0.3333333333333333,
              "#9c179e"
             ],
             [
              0.4444444444444444,
              "#bd3786"
             ],
             [
              0.5555555555555556,
              "#d8576b"
             ],
             [
              0.6666666666666666,
              "#ed7953"
             ],
             [
              0.7777777777777778,
              "#fb9f3a"
             ],
             [
              0.8888888888888888,
              "#fdca26"
             ],
             [
              1,
              "#f0f921"
             ]
            ],
            "type": "histogram2dcontour"
           }
          ],
          "mesh3d": [
           {
            "colorbar": {
             "outlinewidth": 0,
             "ticks": ""
            },
            "type": "mesh3d"
           }
          ],
          "parcoords": [
           {
            "line": {
             "colorbar": {
              "outlinewidth": 0,
              "ticks": ""
             }
            },
            "type": "parcoords"
           }
          ],
          "pie": [
           {
            "automargin": true,
            "type": "pie"
           }
          ],
          "scatter": [
           {
            "marker": {
             "colorbar": {
              "outlinewidth": 0,
              "ticks": ""
             }
            },
            "type": "scatter"
           }
          ],
          "scatter3d": [
           {
            "line": {
             "colorbar": {
              "outlinewidth": 0,
              "ticks": ""
             }
            },
            "marker": {
             "colorbar": {
              "outlinewidth": 0,
              "ticks": ""
             }
            },
            "type": "scatter3d"
           }
          ],
          "scattercarpet": [
           {
            "marker": {
             "colorbar": {
              "outlinewidth": 0,
              "ticks": ""
             }
            },
            "type": "scattercarpet"
           }
          ],
          "scattergeo": [
           {
            "marker": {
             "colorbar": {
              "outlinewidth": 0,
              "ticks": ""
             }
            },
            "type": "scattergeo"
           }
          ],
          "scattergl": [
           {
            "marker": {
             "colorbar": {
              "outlinewidth": 0,
              "ticks": ""
             }
            },
            "type": "scattergl"
           }
          ],
          "scattermapbox": [
           {
            "marker": {
             "colorbar": {
              "outlinewidth": 0,
              "ticks": ""
             }
            },
            "type": "scattermapbox"
           }
          ],
          "scatterpolar": [
           {
            "marker": {
             "colorbar": {
              "outlinewidth": 0,
              "ticks": ""
             }
            },
            "type": "scatterpolar"
           }
          ],
          "scatterpolargl": [
           {
            "marker": {
             "colorbar": {
              "outlinewidth": 0,
              "ticks": ""
             }
            },
            "type": "scatterpolargl"
           }
          ],
          "scatterternary": [
           {
            "marker": {
             "colorbar": {
              "outlinewidth": 0,
              "ticks": ""
             }
            },
            "type": "scatterternary"
           }
          ],
          "surface": [
           {
            "colorbar": {
             "outlinewidth": 0,
             "ticks": ""
            },
            "colorscale": [
             [
              0,
              "#0d0887"
             ],
             [
              0.1111111111111111,
              "#46039f"
             ],
             [
              0.2222222222222222,
              "#7201a8"
             ],
             [
              0.3333333333333333,
              "#9c179e"
             ],
             [
              0.4444444444444444,
              "#bd3786"
             ],
             [
              0.5555555555555556,
              "#d8576b"
             ],
             [
              0.6666666666666666,
              "#ed7953"
             ],
             [
              0.7777777777777778,
              "#fb9f3a"
             ],
             [
              0.8888888888888888,
              "#fdca26"
             ],
             [
              1,
              "#f0f921"
             ]
            ],
            "type": "surface"
           }
          ],
          "table": [
           {
            "cells": {
             "fill": {
              "color": "#EBF0F8"
             },
             "line": {
              "color": "white"
             }
            },
            "header": {
             "fill": {
              "color": "#C8D4E3"
             },
             "line": {
              "color": "white"
             }
            },
            "type": "table"
           }
          ]
         },
         "layout": {
          "annotationdefaults": {
           "arrowcolor": "#2a3f5f",
           "arrowhead": 0,
           "arrowwidth": 1
          },
          "autotypenumbers": "strict",
          "coloraxis": {
           "colorbar": {
            "outlinewidth": 0,
            "ticks": ""
           }
          },
          "colorscale": {
           "diverging": [
            [
             0,
             "#8e0152"
            ],
            [
             0.1,
             "#c51b7d"
            ],
            [
             0.2,
             "#de77ae"
            ],
            [
             0.3,
             "#f1b6da"
            ],
            [
             0.4,
             "#fde0ef"
            ],
            [
             0.5,
             "#f7f7f7"
            ],
            [
             0.6,
             "#e6f5d0"
            ],
            [
             0.7,
             "#b8e186"
            ],
            [
             0.8,
             "#7fbc41"
            ],
            [
             0.9,
             "#4d9221"
            ],
            [
             1,
             "#276419"
            ]
           ],
           "sequential": [
            [
             0,
             "#0d0887"
            ],
            [
             0.1111111111111111,
             "#46039f"
            ],
            [
             0.2222222222222222,
             "#7201a8"
            ],
            [
             0.3333333333333333,
             "#9c179e"
            ],
            [
             0.4444444444444444,
             "#bd3786"
            ],
            [
             0.5555555555555556,
             "#d8576b"
            ],
            [
             0.6666666666666666,
             "#ed7953"
            ],
            [
             0.7777777777777778,
             "#fb9f3a"
            ],
            [
             0.8888888888888888,
             "#fdca26"
            ],
            [
             1,
             "#f0f921"
            ]
           ],
           "sequentialminus": [
            [
             0,
             "#0d0887"
            ],
            [
             0.1111111111111111,
             "#46039f"
            ],
            [
             0.2222222222222222,
             "#7201a8"
            ],
            [
             0.3333333333333333,
             "#9c179e"
            ],
            [
             0.4444444444444444,
             "#bd3786"
            ],
            [
             0.5555555555555556,
             "#d8576b"
            ],
            [
             0.6666666666666666,
             "#ed7953"
            ],
            [
             0.7777777777777778,
             "#fb9f3a"
            ],
            [
             0.8888888888888888,
             "#fdca26"
            ],
            [
             1,
             "#f0f921"
            ]
           ]
          },
          "colorway": [
           "#636efa",
           "#EF553B",
           "#00cc96",
           "#ab63fa",
           "#FFA15A",
           "#19d3f3",
           "#FF6692",
           "#B6E880",
           "#FF97FF",
           "#FECB52"
          ],
          "font": {
           "color": "#2a3f5f"
          },
          "geo": {
           "bgcolor": "white",
           "lakecolor": "white",
           "landcolor": "#E5ECF6",
           "showlakes": true,
           "showland": true,
           "subunitcolor": "white"
          },
          "hoverlabel": {
           "align": "left"
          },
          "hovermode": "closest",
          "mapbox": {
           "style": "light"
          },
          "paper_bgcolor": "white",
          "plot_bgcolor": "#E5ECF6",
          "polar": {
           "angularaxis": {
            "gridcolor": "white",
            "linecolor": "white",
            "ticks": ""
           },
           "bgcolor": "#E5ECF6",
           "radialaxis": {
            "gridcolor": "white",
            "linecolor": "white",
            "ticks": ""
           }
          },
          "scene": {
           "xaxis": {
            "backgroundcolor": "#E5ECF6",
            "gridcolor": "white",
            "gridwidth": 2,
            "linecolor": "white",
            "showbackground": true,
            "ticks": "",
            "zerolinecolor": "white"
           },
           "yaxis": {
            "backgroundcolor": "#E5ECF6",
            "gridcolor": "white",
            "gridwidth": 2,
            "linecolor": "white",
            "showbackground": true,
            "ticks": "",
            "zerolinecolor": "white"
           },
           "zaxis": {
            "backgroundcolor": "#E5ECF6",
            "gridcolor": "white",
            "gridwidth": 2,
            "linecolor": "white",
            "showbackground": true,
            "ticks": "",
            "zerolinecolor": "white"
           }
          },
          "shapedefaults": {
           "line": {
            "color": "#2a3f5f"
           }
          },
          "ternary": {
           "aaxis": {
            "gridcolor": "white",
            "linecolor": "white",
            "ticks": ""
           },
           "baxis": {
            "gridcolor": "white",
            "linecolor": "white",
            "ticks": ""
           },
           "bgcolor": "#E5ECF6",
           "caxis": {
            "gridcolor": "white",
            "linecolor": "white",
            "ticks": ""
           }
          },
          "title": {
           "x": 0.05
          },
          "xaxis": {
           "automargin": true,
           "gridcolor": "white",
           "linecolor": "white",
           "ticks": "",
           "title": {
            "standoff": 15
           },
           "zerolinecolor": "white",
           "zerolinewidth": 2
          },
          "yaxis": {
           "automargin": true,
           "gridcolor": "white",
           "linecolor": "white",
           "ticks": "",
           "title": {
            "standoff": 15
           },
           "zerolinecolor": "white",
           "zerolinewidth": 2
          }
         }
        },
        "title": {
         "text": "TAX vs RAD SCATTER PLOT"
        },
        "xaxis": {
         "anchor": "y",
         "domain": [
          0,
          1
         ],
         "title": {
          "text": "tax"
         }
        },
        "yaxis": {
         "anchor": "x",
         "domain": [
          0,
          1
         ],
         "title": {
          "text": "rad"
         }
        }
       }
      }
     },
     "metadata": {},
     "output_type": "display_data"
    }
   ],
   "source": [
    "scat = px.scatter(x= df.tax, y=df.rad, labels= {'x' : 'tax', 'y' : 'rad'}, \n",
    "                  title='TAX vs RAD SCATTER PLOT')\n",
    "scat.show()"
   ]
  },
  {
   "cell_type": "code",
   "execution_count": 18,
   "id": "2f14ed61",
   "metadata": {},
   "outputs": [
    {
     "data": {
      "application/vnd.plotly.v1+json": {
       "config": {
        "plotlyServerURL": "https://plot.ly"
       },
       "data": [
        {
         "alignmentgroup": "True",
         "hovertemplate": "variable=0<br>column=%{x}<br>coefficient=%{y}<extra></extra>",
         "legendgroup": "0",
         "marker": {
          "color": "#636efa",
          "pattern": {
           "shape": ""
          }
         },
         "name": "0",
         "offsetgroup": "0",
         "orientation": "v",
         "showlegend": true,
         "textposition": "auto",
         "type": "bar",
         "x": [
          "rad",
          "ptratio",
          "tax",
          "b",
          "indus",
          "age",
          "rm",
          "medv",
          "nox",
          "crim",
          "dis",
          "lstat"
         ],
         "xaxis": "x",
         "y": [
          19.9,
          6.037,
          4.367,
          3.606,
          0.284,
          -0.554,
          -6.526,
          -7.609,
          -9.549,
          -10.995,
          -15.898,
          -18.219
         ],
         "yaxis": "y"
        }
       ],
       "layout": {
        "barmode": "relative",
        "legend": {
         "title": {
          "text": "variable"
         },
         "tracegroupgap": 0
        },
        "showlegend": false,
        "template": {
         "data": {
          "bar": [
           {
            "error_x": {
             "color": "#2a3f5f"
            },
            "error_y": {
             "color": "#2a3f5f"
            },
            "marker": {
             "line": {
              "color": "#E5ECF6",
              "width": 0.5
             },
             "pattern": {
              "fillmode": "overlay",
              "size": 10,
              "solidity": 0.2
             }
            },
            "type": "bar"
           }
          ],
          "barpolar": [
           {
            "marker": {
             "line": {
              "color": "#E5ECF6",
              "width": 0.5
             },
             "pattern": {
              "fillmode": "overlay",
              "size": 10,
              "solidity": 0.2
             }
            },
            "type": "barpolar"
           }
          ],
          "carpet": [
           {
            "aaxis": {
             "endlinecolor": "#2a3f5f",
             "gridcolor": "white",
             "linecolor": "white",
             "minorgridcolor": "white",
             "startlinecolor": "#2a3f5f"
            },
            "baxis": {
             "endlinecolor": "#2a3f5f",
             "gridcolor": "white",
             "linecolor": "white",
             "minorgridcolor": "white",
             "startlinecolor": "#2a3f5f"
            },
            "type": "carpet"
           }
          ],
          "choropleth": [
           {
            "colorbar": {
             "outlinewidth": 0,
             "ticks": ""
            },
            "type": "choropleth"
           }
          ],
          "contour": [
           {
            "colorbar": {
             "outlinewidth": 0,
             "ticks": ""
            },
            "colorscale": [
             [
              0,
              "#0d0887"
             ],
             [
              0.1111111111111111,
              "#46039f"
             ],
             [
              0.2222222222222222,
              "#7201a8"
             ],
             [
              0.3333333333333333,
              "#9c179e"
             ],
             [
              0.4444444444444444,
              "#bd3786"
             ],
             [
              0.5555555555555556,
              "#d8576b"
             ],
             [
              0.6666666666666666,
              "#ed7953"
             ],
             [
              0.7777777777777778,
              "#fb9f3a"
             ],
             [
              0.8888888888888888,
              "#fdca26"
             ],
             [
              1,
              "#f0f921"
             ]
            ],
            "type": "contour"
           }
          ],
          "contourcarpet": [
           {
            "colorbar": {
             "outlinewidth": 0,
             "ticks": ""
            },
            "type": "contourcarpet"
           }
          ],
          "heatmap": [
           {
            "colorbar": {
             "outlinewidth": 0,
             "ticks": ""
            },
            "colorscale": [
             [
              0,
              "#0d0887"
             ],
             [
              0.1111111111111111,
              "#46039f"
             ],
             [
              0.2222222222222222,
              "#7201a8"
             ],
             [
              0.3333333333333333,
              "#9c179e"
             ],
             [
              0.4444444444444444,
              "#bd3786"
             ],
             [
              0.5555555555555556,
              "#d8576b"
             ],
             [
              0.6666666666666666,
              "#ed7953"
             ],
             [
              0.7777777777777778,
              "#fb9f3a"
             ],
             [
              0.8888888888888888,
              "#fdca26"
             ],
             [
              1,
              "#f0f921"
             ]
            ],
            "type": "heatmap"
           }
          ],
          "heatmapgl": [
           {
            "colorbar": {
             "outlinewidth": 0,
             "ticks": ""
            },
            "colorscale": [
             [
              0,
              "#0d0887"
             ],
             [
              0.1111111111111111,
              "#46039f"
             ],
             [
              0.2222222222222222,
              "#7201a8"
             ],
             [
              0.3333333333333333,
              "#9c179e"
             ],
             [
              0.4444444444444444,
              "#bd3786"
             ],
             [
              0.5555555555555556,
              "#d8576b"
             ],
             [
              0.6666666666666666,
              "#ed7953"
             ],
             [
              0.7777777777777778,
              "#fb9f3a"
             ],
             [
              0.8888888888888888,
              "#fdca26"
             ],
             [
              1,
              "#f0f921"
             ]
            ],
            "type": "heatmapgl"
           }
          ],
          "histogram": [
           {
            "marker": {
             "pattern": {
              "fillmode": "overlay",
              "size": 10,
              "solidity": 0.2
             }
            },
            "type": "histogram"
           }
          ],
          "histogram2d": [
           {
            "colorbar": {
             "outlinewidth": 0,
             "ticks": ""
            },
            "colorscale": [
             [
              0,
              "#0d0887"
             ],
             [
              0.1111111111111111,
              "#46039f"
             ],
             [
              0.2222222222222222,
              "#7201a8"
             ],
             [
              0.3333333333333333,
              "#9c179e"
             ],
             [
              0.4444444444444444,
              "#bd3786"
             ],
             [
              0.5555555555555556,
              "#d8576b"
             ],
             [
              0.6666666666666666,
              "#ed7953"
             ],
             [
              0.7777777777777778,
              "#fb9f3a"
             ],
             [
              0.8888888888888888,
              "#fdca26"
             ],
             [
              1,
              "#f0f921"
             ]
            ],
            "type": "histogram2d"
           }
          ],
          "histogram2dcontour": [
           {
            "colorbar": {
             "outlinewidth": 0,
             "ticks": ""
            },
            "colorscale": [
             [
              0,
              "#0d0887"
             ],
             [
              0.1111111111111111,
              "#46039f"
             ],
             [
              0.2222222222222222,
              "#7201a8"
             ],
             [
              0.3333333333333333,
              "#9c179e"
             ],
             [
              0.4444444444444444,
              "#bd3786"
             ],
             [
              0.5555555555555556,
              "#d8576b"
             ],
             [
              0.6666666666666666,
              "#ed7953"
             ],
             [
              0.7777777777777778,
              "#fb9f3a"
             ],
             [
              0.8888888888888888,
              "#fdca26"
             ],
             [
              1,
              "#f0f921"
             ]
            ],
            "type": "histogram2dcontour"
           }
          ],
          "mesh3d": [
           {
            "colorbar": {
             "outlinewidth": 0,
             "ticks": ""
            },
            "type": "mesh3d"
           }
          ],
          "parcoords": [
           {
            "line": {
             "colorbar": {
              "outlinewidth": 0,
              "ticks": ""
             }
            },
            "type": "parcoords"
           }
          ],
          "pie": [
           {
            "automargin": true,
            "type": "pie"
           }
          ],
          "scatter": [
           {
            "marker": {
             "colorbar": {
              "outlinewidth": 0,
              "ticks": ""
             }
            },
            "type": "scatter"
           }
          ],
          "scatter3d": [
           {
            "line": {
             "colorbar": {
              "outlinewidth": 0,
              "ticks": ""
             }
            },
            "marker": {
             "colorbar": {
              "outlinewidth": 0,
              "ticks": ""
             }
            },
            "type": "scatter3d"
           }
          ],
          "scattercarpet": [
           {
            "marker": {
             "colorbar": {
              "outlinewidth": 0,
              "ticks": ""
             }
            },
            "type": "scattercarpet"
           }
          ],
          "scattergeo": [
           {
            "marker": {
             "colorbar": {
              "outlinewidth": 0,
              "ticks": ""
             }
            },
            "type": "scattergeo"
           }
          ],
          "scattergl": [
           {
            "marker": {
             "colorbar": {
              "outlinewidth": 0,
              "ticks": ""
             }
            },
            "type": "scattergl"
           }
          ],
          "scattermapbox": [
           {
            "marker": {
             "colorbar": {
              "outlinewidth": 0,
              "ticks": ""
             }
            },
            "type": "scattermapbox"
           }
          ],
          "scatterpolar": [
           {
            "marker": {
             "colorbar": {
              "outlinewidth": 0,
              "ticks": ""
             }
            },
            "type": "scatterpolar"
           }
          ],
          "scatterpolargl": [
           {
            "marker": {
             "colorbar": {
              "outlinewidth": 0,
              "ticks": ""
             }
            },
            "type": "scatterpolargl"
           }
          ],
          "scatterternary": [
           {
            "marker": {
             "colorbar": {
              "outlinewidth": 0,
              "ticks": ""
             }
            },
            "type": "scatterternary"
           }
          ],
          "surface": [
           {
            "colorbar": {
             "outlinewidth": 0,
             "ticks": ""
            },
            "colorscale": [
             [
              0,
              "#0d0887"
             ],
             [
              0.1111111111111111,
              "#46039f"
             ],
             [
              0.2222222222222222,
              "#7201a8"
             ],
             [
              0.3333333333333333,
              "#9c179e"
             ],
             [
              0.4444444444444444,
              "#bd3786"
             ],
             [
              0.5555555555555556,
              "#d8576b"
             ],
             [
              0.6666666666666666,
              "#ed7953"
             ],
             [
              0.7777777777777778,
              "#fb9f3a"
             ],
             [
              0.8888888888888888,
              "#fdca26"
             ],
             [
              1,
              "#f0f921"
             ]
            ],
            "type": "surface"
           }
          ],
          "table": [
           {
            "cells": {
             "fill": {
              "color": "#EBF0F8"
             },
             "line": {
              "color": "white"
             }
            },
            "header": {
             "fill": {
              "color": "#C8D4E3"
             },
             "line": {
              "color": "white"
             }
            },
            "type": "table"
           }
          ]
         },
         "layout": {
          "annotationdefaults": {
           "arrowcolor": "#2a3f5f",
           "arrowhead": 0,
           "arrowwidth": 1
          },
          "autotypenumbers": "strict",
          "coloraxis": {
           "colorbar": {
            "outlinewidth": 0,
            "ticks": ""
           }
          },
          "colorscale": {
           "diverging": [
            [
             0,
             "#8e0152"
            ],
            [
             0.1,
             "#c51b7d"
            ],
            [
             0.2,
             "#de77ae"
            ],
            [
             0.3,
             "#f1b6da"
            ],
            [
             0.4,
             "#fde0ef"
            ],
            [
             0.5,
             "#f7f7f7"
            ],
            [
             0.6,
             "#e6f5d0"
            ],
            [
             0.7,
             "#b8e186"
            ],
            [
             0.8,
             "#7fbc41"
            ],
            [
             0.9,
             "#4d9221"
            ],
            [
             1,
             "#276419"
            ]
           ],
           "sequential": [
            [
             0,
             "#0d0887"
            ],
            [
             0.1111111111111111,
             "#46039f"
            ],
            [
             0.2222222222222222,
             "#7201a8"
            ],
            [
             0.3333333333333333,
             "#9c179e"
            ],
            [
             0.4444444444444444,
             "#bd3786"
            ],
            [
             0.5555555555555556,
             "#d8576b"
            ],
            [
             0.6666666666666666,
             "#ed7953"
            ],
            [
             0.7777777777777778,
             "#fb9f3a"
            ],
            [
             0.8888888888888888,
             "#fdca26"
            ],
            [
             1,
             "#f0f921"
            ]
           ],
           "sequentialminus": [
            [
             0,
             "#0d0887"
            ],
            [
             0.1111111111111111,
             "#46039f"
            ],
            [
             0.2222222222222222,
             "#7201a8"
            ],
            [
             0.3333333333333333,
             "#9c179e"
            ],
            [
             0.4444444444444444,
             "#bd3786"
            ],
            [
             0.5555555555555556,
             "#d8576b"
            ],
            [
             0.6666666666666666,
             "#ed7953"
            ],
            [
             0.7777777777777778,
             "#fb9f3a"
            ],
            [
             0.8888888888888888,
             "#fdca26"
            ],
            [
             1,
             "#f0f921"
            ]
           ]
          },
          "colorway": [
           "#636efa",
           "#EF553B",
           "#00cc96",
           "#ab63fa",
           "#FFA15A",
           "#19d3f3",
           "#FF6692",
           "#B6E880",
           "#FF97FF",
           "#FECB52"
          ],
          "font": {
           "color": "#2a3f5f"
          },
          "geo": {
           "bgcolor": "white",
           "lakecolor": "white",
           "landcolor": "#E5ECF6",
           "showlakes": true,
           "showland": true,
           "subunitcolor": "white"
          },
          "hoverlabel": {
           "align": "left"
          },
          "hovermode": "closest",
          "mapbox": {
           "style": "light"
          },
          "paper_bgcolor": "white",
          "plot_bgcolor": "#E5ECF6",
          "polar": {
           "angularaxis": {
            "gridcolor": "white",
            "linecolor": "white",
            "ticks": ""
           },
           "bgcolor": "#E5ECF6",
           "radialaxis": {
            "gridcolor": "white",
            "linecolor": "white",
            "ticks": ""
           }
          },
          "scene": {
           "xaxis": {
            "backgroundcolor": "#E5ECF6",
            "gridcolor": "white",
            "gridwidth": 2,
            "linecolor": "white",
            "showbackground": true,
            "ticks": "",
            "zerolinecolor": "white"
           },
           "yaxis": {
            "backgroundcolor": "#E5ECF6",
            "gridcolor": "white",
            "gridwidth": 2,
            "linecolor": "white",
            "showbackground": true,
            "ticks": "",
            "zerolinecolor": "white"
           },
           "zaxis": {
            "backgroundcolor": "#E5ECF6",
            "gridcolor": "white",
            "gridwidth": 2,
            "linecolor": "white",
            "showbackground": true,
            "ticks": "",
            "zerolinecolor": "white"
           }
          },
          "shapedefaults": {
           "line": {
            "color": "#2a3f5f"
           }
          },
          "ternary": {
           "aaxis": {
            "gridcolor": "white",
            "linecolor": "white",
            "ticks": ""
           },
           "baxis": {
            "gridcolor": "white",
            "linecolor": "white",
            "ticks": ""
           },
           "bgcolor": "#E5ECF6",
           "caxis": {
            "gridcolor": "white",
            "linecolor": "white",
            "ticks": ""
           }
          },
          "title": {
           "x": 0.05
          },
          "xaxis": {
           "automargin": true,
           "gridcolor": "white",
           "linecolor": "white",
           "ticks": "",
           "title": {
            "standoff": 15
           },
           "zerolinecolor": "white",
           "zerolinewidth": 2
          },
          "yaxis": {
           "automargin": true,
           "gridcolor": "white",
           "linecolor": "white",
           "ticks": "",
           "title": {
            "standoff": 15
           },
           "zerolinecolor": "white",
           "zerolinewidth": 2
          }
         }
        },
        "title": {
         "text": "Wartości parametru coefficient dla każdej z kolumn"
        },
        "xaxis": {
         "anchor": "y",
         "domain": [
          0,
          1
         ],
         "title": {
          "text": "column"
         }
        },
        "yaxis": {
         "anchor": "x",
         "domain": [
          0,
          1
         ],
         "title": {
          "text": "coefficient"
         }
        }
       }
      }
     },
     "metadata": {},
     "output_type": "display_data"
    }
   ],
   "source": [
    "bar = px.bar(named_coef, labels={'index' : 'column', 'value' : 'coefficient'},\n",
    "             title='Wartości parametru coefficient dla każdej z kolumn')\n",
    "bar.update_layout(showlegend=False)\n",
    "bar.show()\n"
   ]
  },
  {
   "cell_type": "markdown",
   "id": "6dbe8af0",
   "metadata": {},
   "source": [
    "## Podsumowanie\n",
    "\n",
    "Udało nam się przeprowadzić predykcję wartości nieruchomości (`medv`) za pomocą dwóch modeli. Dodatkowo zauważyliśmy kilka zależności pomiędzy kolumnami w naszym zbiorze. \n",
    "\n",
    "### Wnioski:\n",
    "\n",
    "* model regresji liniowej z wykorzystaniem sieci neuronowych okazał się zdecydowanie bardziej precyzyjny niż model oparty na samej regresji liniowej. R2 score dla 1. wyniósł 0.11 a dla drugiego 0.63.\n",
    "* udało się zaobserwować kilka mocno skrolowanych kolumn, przykładowo silną korelację pozytwyną zauważono między kolumnami `tax` i `rad`: 0.91, negatywną: -0.76 dla kolumn `dis` i `nox`. \n",
    "* więkoszość nieruchomości posiadała wartość która mieściła się w przedziale 5,000 - 25,000 $, zdeycydowanie mniej było droższych nieruchomości."
   ]
  }
 ],
 "metadata": {
  "kernelspec": {
   "display_name": "Python 3",
   "language": "python",
   "name": "python3"
  },
  "language_info": {
   "codemirror_mode": {
    "name": "ipython",
    "version": 3
   },
   "file_extension": ".py",
   "mimetype": "text/x-python",
   "name": "python",
   "nbconvert_exporter": "python",
   "pygments_lexer": "ipython3",
   "version": "3.8.8"
  }
 },
 "nbformat": 4,
 "nbformat_minor": 5
}
