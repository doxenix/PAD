{
 "cells": [
  {
   "cell_type": "markdown",
   "id": "3e665e2e",
   "metadata": {},
   "source": [
    "**Przedmiot:** programowanie dla analityki danych\n",
    "\n",
    "Dominik Zalewski, s24216"
   ]
  },
  {
   "cell_type": "code",
   "execution_count": 1,
   "id": "dd97d05d",
   "metadata": {},
   "outputs": [],
   "source": [
    "#Zadanie 1 a)\n",
    "\n",
    "# Create main class - Animal\n",
    "class Animal():\n",
    "    isAlive = True  #all created animal is alive, so we set True (not possible to create dead animal) \n",
    "    \n",
    "    # animal's attributes:\n",
    "    \n",
    "    def __init__(self, gender=None):\n",
    "        \n",
    "        if gender is None:\n",
    "            gender = \"Female\" #set defalut \"Famle\" gender on gender attribute\n",
    "        else:\n",
    "            gender = \"Male\" #typed anything else set gender on \"Male\"\n",
    "        self.gender = gender\n",
    "        \n",
    "    def breed(self, partner):        \n",
    "        # This method return new instacne of object if all 3 statments are True\n",
    "        \n",
    "        if self.gender == \"Female\" and partner.gender == \"Male\" and self.genus == partner.genus:\n",
    "            if self.genus == 'Felis':\n",
    "                return Cat()  #return new instance of Cat object if animal and partner's gender is Felis\n",
    "            else:\n",
    "                return Dog() #return new instance of Dog object         \n",
    "        else:\n",
    "            print(\"attribute not found\")\n",
    "        \n",
    "class Cat(Animal):\n",
    "    genus = 'Felis'       \n",
    "       \n",
    "    def puur(self):\n",
    "        return \"puur\"\n",
    "    \n",
    "class Dog(Animal):\n",
    "    genus = \"Canis\"\n",
    "    \n",
    "    def woof(self):\n",
    "        return \"woof woof\"\n",
    "\n",
    "#create 2 Cat objects (male and female)\n",
    "cat01 = Cat(gender=\"m\")\n",
    "cat02 = Cat()\n",
    "\n",
    "#create 2 Dog objects (male and female)\n",
    "dog01 = Dog(gender=\"m\")\n",
    "dog02 = Dog()"
   ]
  },
  {
   "cell_type": "code",
   "execution_count": 2,
   "id": "0cc7bba8",
   "metadata": {
    "scrolled": false
   },
   "outputs": [
    {
     "data": {
      "text/plain": [
       "<__main__.Cat at 0x1f6c1999310>"
      ]
     },
     "execution_count": 2,
     "metadata": {},
     "output_type": "execute_result"
    }
   ],
   "source": [
    "#checking breed method works correct:\n",
    "\n",
    "cat03 = cat02.breed(cat01)\n",
    "cat03"
   ]
  },
  {
   "cell_type": "markdown",
   "id": "c9a9a028",
   "metadata": {},
   "source": [
    "New cat has been created"
   ]
  },
  {
   "cell_type": "code",
   "execution_count": 3,
   "id": "20468a3b",
   "metadata": {},
   "outputs": [
    {
     "name": "stdout",
     "output_type": "stream",
     "text": [
      "attribute not found\n"
     ]
    }
   ],
   "source": [
    "#Zadanie 1 b)\n",
    "\n",
    "#trying create new instance\n",
    "newanimal = cat01.breed(dog02)"
   ]
  },
  {
   "cell_type": "markdown",
   "id": "356513f0",
   "metadata": {},
   "source": [
    "We got \"attribute not found\" becasue breed method dosent't work on 2 diffrent genus."
   ]
  },
  {
   "cell_type": "code",
   "execution_count": 4,
   "id": "296f18e3",
   "metadata": {},
   "outputs": [],
   "source": [
    "#Zadanie 2\n",
    "\n",
    "#create Worker class\n",
    "class Worker():\n",
    "    \n",
    "    def __init__(self, number, name, age, salary):\n",
    "        self.number = number\n",
    "        self.name = name\n",
    "        self.age = age\n",
    "        self.salary = salary"
   ]
  },
  {
   "cell_type": "code",
   "execution_count": 5,
   "id": "aaf1984b",
   "metadata": {},
   "outputs": [],
   "source": [
    "#creating 7 instances of Worker class\n",
    "worker01 = Worker(1, \"Adam\", 1983, 1500)\n",
    "worker02 = Worker(2,\"Anna\",1981,1700)\n",
    "worker03 = Worker(3,\"Błażej\",1990,1800)\n",
    "worker04 = Worker(4,\"Beata\",1992,1600)\n",
    "worker05 = Worker(5,\"Czesław\",1980,2000)\n",
    "worker06 = Worker(6,\"Cecylia\",1983,2100)\n",
    "worker07 = Worker(7,\"Daniel\",1976,1900)"
   ]
  },
  {
   "cell_type": "code",
   "execution_count": 6,
   "id": "32bc83b6",
   "metadata": {},
   "outputs": [],
   "source": [
    "#creating list to store all workers\n",
    "workresList = []\n",
    "workresList.extend(value for name, value in locals().items() if name.startswith('worker0'))"
   ]
  },
  {
   "cell_type": "code",
   "execution_count": 7,
   "id": "3a9876ca",
   "metadata": {},
   "outputs": [
    {
     "name": "stdout",
     "output_type": "stream",
     "text": [
      "Average salary is:\n",
      "1800.0\n"
     ]
    }
   ],
   "source": [
    "#calculate average salary:\n",
    "salarySum = 0\n",
    "for w in workresList:\n",
    "    salarySum += w.salary\n",
    "\n",
    "print('Average salary is:')    \n",
    "print(salarySum / len(workresList))"
   ]
  },
  {
   "cell_type": "code",
   "execution_count": 8,
   "id": "46223650",
   "metadata": {},
   "outputs": [
    {
     "name": "stdout",
     "output_type": "stream",
     "text": [
      "Average salary in under 30 group is:\n",
      "1600.0\n",
      "Average salary in equal or over 30 group is:\n",
      "1833.33\n"
     ]
    }
   ],
   "source": [
    "#calcalating avg salary in under 30 age group and equal or over 30 group:\n",
    "salarySum30 = 0\n",
    "count30 = 0\n",
    "salarySumOthers = 0\n",
    "countOthers =0\n",
    "\n",
    "for w in workresList:\n",
    "    if 2021 - w.age < 30: #count the age of worker and check if is less than 30\n",
    "        salarySum30 += w.salary\n",
    "        count30 += 1\n",
    "    else:\n",
    "        salarySumOthers += w.salary\n",
    "        countOthers += 1\n",
    "        \n",
    "print('Average salary in under 30 group is:')            \n",
    "print(salarySum30 / count30)   \n",
    "print('Average salary in equal or over 30 group is:')            \n",
    "print(round(salarySumOthers / countOthers, 2))"
   ]
  }
 ],
 "metadata": {
  "kernelspec": {
   "display_name": "Python 3",
   "language": "python",
   "name": "python3"
  },
  "language_info": {
   "codemirror_mode": {
    "name": "ipython",
    "version": 3
   },
   "file_extension": ".py",
   "mimetype": "text/x-python",
   "name": "python",
   "nbconvert_exporter": "python",
   "pygments_lexer": "ipython3",
   "version": "3.8.8"
  }
 },
 "nbformat": 4,
 "nbformat_minor": 5
}
