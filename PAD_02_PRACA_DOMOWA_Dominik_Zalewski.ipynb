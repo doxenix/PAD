{
 "cells": [
  {
   "cell_type": "markdown",
   "id": "3060056a",
   "metadata": {},
   "source": [
    "Dominik Zalewski \n",
    "\n",
    "s24216"
   ]
  },
  {
   "cell_type": "code",
   "execution_count": 1,
   "id": "b03a3f20",
   "metadata": {},
   "outputs": [],
   "source": [
    "import pandas as pd\n",
    "\n",
    "path = 'C:/Users/Dominik/Desktop/PAD_02_PD.csv'\n",
    "\n",
    "#opeing file\n",
    "df = pd.read_csv(path, delimiter = ';')"
   ]
  },
  {
   "cell_type": "code",
   "execution_count": 2,
   "id": "a4759e2e",
   "metadata": {
    "scrolled": true
   },
   "outputs": [
    {
     "data": {
      "text/plain": [
       "A    328\n",
       "B    201\n",
       "C    186\n",
       "D     78\n",
       "Name: Country, dtype: int64"
      ]
     },
     "execution_count": 2,
     "metadata": {},
     "output_type": "execute_result"
    }
   ],
   "source": [
    "#count all values in country column\n",
    "df['Country'].value_counts(dropna=True)"
   ]
  },
  {
   "cell_type": "code",
   "execution_count": 3,
   "id": "e4d1c699",
   "metadata": {},
   "outputs": [],
   "source": [
    "#count the number of goods in each row\n",
    "df['owns_items_total'] = df['owns_car'] + df['owns_TV'] + df['owns_house'] + df['owns_Phone']"
   ]
  },
  {
   "cell_type": "code",
   "execution_count": 4,
   "id": "10e5e8fd",
   "metadata": {},
   "outputs": [
    {
     "data": {
      "text/html": [
       "<div>\n",
       "<style scoped>\n",
       "    .dataframe tbody tr th:only-of-type {\n",
       "        vertical-align: middle;\n",
       "    }\n",
       "\n",
       "    .dataframe tbody tr th {\n",
       "        vertical-align: top;\n",
       "    }\n",
       "\n",
       "    .dataframe thead th {\n",
       "        text-align: right;\n",
       "    }\n",
       "</style>\n",
       "<table border=\"1\" class=\"dataframe\">\n",
       "  <thead>\n",
       "    <tr style=\"text-align: right;\">\n",
       "      <th></th>\n",
       "      <th>ID</th>\n",
       "      <th>Country</th>\n",
       "      <th>owns_car</th>\n",
       "      <th>owns_TV</th>\n",
       "      <th>owns_house</th>\n",
       "      <th>owns_Phone</th>\n",
       "      <th>gender</th>\n",
       "      <th>Age</th>\n",
       "      <th>owns_items_total</th>\n",
       "    </tr>\n",
       "  </thead>\n",
       "  <tbody>\n",
       "    <tr>\n",
       "      <th>0</th>\n",
       "      <td>1</td>\n",
       "      <td>A</td>\n",
       "      <td>0.0</td>\n",
       "      <td>0.0</td>\n",
       "      <td>0.0</td>\n",
       "      <td>1</td>\n",
       "      <td>M</td>\n",
       "      <td>61</td>\n",
       "      <td>1.0</td>\n",
       "    </tr>\n",
       "    <tr>\n",
       "      <th>1</th>\n",
       "      <td>2</td>\n",
       "      <td>B</td>\n",
       "      <td>0.0</td>\n",
       "      <td>0.0</td>\n",
       "      <td>0.0</td>\n",
       "      <td>1</td>\n",
       "      <td>M</td>\n",
       "      <td>44</td>\n",
       "      <td>1.0</td>\n",
       "    </tr>\n",
       "    <tr>\n",
       "      <th>2</th>\n",
       "      <td>3</td>\n",
       "      <td>A</td>\n",
       "      <td>0.0</td>\n",
       "      <td>0.0</td>\n",
       "      <td>0.0</td>\n",
       "      <td>1</td>\n",
       "      <td>M</td>\n",
       "      <td>56</td>\n",
       "      <td>1.0</td>\n",
       "    </tr>\n",
       "    <tr>\n",
       "      <th>3</th>\n",
       "      <td>4</td>\n",
       "      <td>A</td>\n",
       "      <td>0.0</td>\n",
       "      <td>0.0</td>\n",
       "      <td>0.0</td>\n",
       "      <td>1</td>\n",
       "      <td>M</td>\n",
       "      <td>53</td>\n",
       "      <td>1.0</td>\n",
       "    </tr>\n",
       "    <tr>\n",
       "      <th>4</th>\n",
       "      <td>5</td>\n",
       "      <td>C</td>\n",
       "      <td>1.0</td>\n",
       "      <td>1.0</td>\n",
       "      <td>0.0</td>\n",
       "      <td>1</td>\n",
       "      <td>K</td>\n",
       "      <td>60</td>\n",
       "      <td>3.0</td>\n",
       "    </tr>\n",
       "  </tbody>\n",
       "</table>\n",
       "</div>"
      ],
      "text/plain": [
       "   ID Country  owns_car  owns_TV  owns_house  owns_Phone gender  Age  \\\n",
       "0   1       A       0.0      0.0         0.0           1      M   61   \n",
       "1   2       B       0.0      0.0         0.0           1      M   44   \n",
       "2   3       A       0.0      0.0         0.0           1      M   56   \n",
       "3   4       A       0.0      0.0         0.0           1      M   53   \n",
       "4   5       C       1.0      1.0         0.0           1      K   60   \n",
       "\n",
       "   owns_items_total  \n",
       "0               1.0  \n",
       "1               1.0  \n",
       "2               1.0  \n",
       "3               1.0  \n",
       "4               3.0  "
      ]
     },
     "execution_count": 4,
     "metadata": {},
     "output_type": "execute_result"
    }
   ],
   "source": [
    "df.head()"
   ]
  },
  {
   "cell_type": "code",
   "execution_count": 5,
   "id": "3bdb8bd3",
   "metadata": {},
   "outputs": [
    {
     "name": "stdout",
     "output_type": "stream",
     "text": [
      "The average of items owned by men:  0.8875\n",
      "The average of items owned by women:  2.7974025974025976\n"
     ]
    }
   ],
   "source": [
    "#count average number of itmes owned by men and women\n",
    "men_mean = df['owns_items_total'][df['gender'] == 'M'].mean()\n",
    "women_mean = df['owns_items_total'][df['gender'] == 'K'].mean()\n",
    "\n",
    "print('The average of items owned by men: ', men_mean)\n",
    "print('The average of items owned by women: ', women_mean)"
   ]
  },
  {
   "cell_type": "code",
   "execution_count": 6,
   "id": "fc8d31f4",
   "metadata": {},
   "outputs": [],
   "source": [
    "#count min age in each country\n",
    "min_age = pd.pivot_table(df, index='Country', aggfunc={'Age': min})\n",
    "\n",
    "#count average number of owned goods in each country \n",
    "avg_owned_items = df.groupby(by=['Country']).mean()"
   ]
  },
  {
   "cell_type": "code",
   "execution_count": 7,
   "id": "c80910b4",
   "metadata": {},
   "outputs": [],
   "source": [
    "#count number of women (we'll place 1 in each row if there is a woman)\n",
    "def women(x):\n",
    "    if x == 'K':\n",
    "        return 1\n",
    "    else:\n",
    "        return 0\n",
    "    \n",
    "df['W'] = df['gender'].apply(women)\n",
    "\n",
    "#sum all women, then divide by total number of rows in each country\n",
    "w = df.groupby(['Country']).agg({'W': 'sum'})\n",
    "w['total'] = df.groupby(['Country']).size()\n",
    "w['women_perc'] = w['W'] / w['total'] * 100\n",
    "\n",
    "#deleting 2 columns\n",
    "del w['total']\n",
    "del w['W']"
   ]
  },
  {
   "cell_type": "code",
   "execution_count": 8,
   "id": "82d7fcf2",
   "metadata": {},
   "outputs": [
    {
     "data": {
      "text/html": [
       "<div>\n",
       "<style scoped>\n",
       "    .dataframe tbody tr th:only-of-type {\n",
       "        vertical-align: middle;\n",
       "    }\n",
       "\n",
       "    .dataframe tbody tr th {\n",
       "        vertical-align: top;\n",
       "    }\n",
       "\n",
       "    .dataframe thead th {\n",
       "        text-align: right;\n",
       "    }\n",
       "</style>\n",
       "<table border=\"1\" class=\"dataframe\">\n",
       "  <thead>\n",
       "    <tr style=\"text-align: right;\">\n",
       "      <th></th>\n",
       "      <th>women_perc</th>\n",
       "      <th>minimum_age</th>\n",
       "      <th>avg_owned_items</th>\n",
       "    </tr>\n",
       "    <tr>\n",
       "      <th>Country</th>\n",
       "      <th></th>\n",
       "      <th></th>\n",
       "      <th></th>\n",
       "    </tr>\n",
       "  </thead>\n",
       "  <tbody>\n",
       "    <tr>\n",
       "      <th>A</th>\n",
       "      <td>0.000000</td>\n",
       "      <td>18</td>\n",
       "      <td>0.861538</td>\n",
       "    </tr>\n",
       "    <tr>\n",
       "      <th>B</th>\n",
       "      <td>62.189055</td>\n",
       "      <td>18</td>\n",
       "      <td>1.461929</td>\n",
       "    </tr>\n",
       "    <tr>\n",
       "      <th>C</th>\n",
       "      <td>98.924731</td>\n",
       "      <td>18</td>\n",
       "      <td>3.032787</td>\n",
       "    </tr>\n",
       "    <tr>\n",
       "      <th>D</th>\n",
       "      <td>100.000000</td>\n",
       "      <td>18</td>\n",
       "      <td>4.000000</td>\n",
       "    </tr>\n",
       "  </tbody>\n",
       "</table>\n",
       "</div>"
      ],
      "text/plain": [
       "         women_perc  minimum_age  avg_owned_items\n",
       "Country                                          \n",
       "A          0.000000           18         0.861538\n",
       "B         62.189055           18         1.461929\n",
       "C         98.924731           18         3.032787\n",
       "D        100.000000           18         4.000000"
      ]
     },
     "execution_count": 8,
     "metadata": {},
     "output_type": "execute_result"
    }
   ],
   "source": [
    "w['minimum_age'] = min_age['Age']\n",
    "w['avg_owned_items'] = avg_owned_items['owns_items_total']\n",
    "w"
   ]
  }
 ],
 "metadata": {
  "kernelspec": {
   "display_name": "Python 3",
   "language": "python",
   "name": "python3"
  },
  "language_info": {
   "codemirror_mode": {
    "name": "ipython",
    "version": 3
   },
   "file_extension": ".py",
   "mimetype": "text/x-python",
   "name": "python",
   "nbconvert_exporter": "python",
   "pygments_lexer": "ipython3",
   "version": "3.8.8"
  }
 },
 "nbformat": 4,
 "nbformat_minor": 5
}
