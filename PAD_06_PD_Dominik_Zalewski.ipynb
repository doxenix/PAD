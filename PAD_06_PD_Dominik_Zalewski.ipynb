{
 "cells": [
  {
   "cell_type": "markdown",
   "id": "2beca37b",
   "metadata": {},
   "source": [
    "# Clustering Trump's tweets using Kmeans and DBscan\n",
    "\n"
   ]
  },
  {
   "cell_type": "code",
   "execution_count": 1,
   "id": "156cf3c5",
   "metadata": {},
   "outputs": [
    {
     "data": {
      "text/html": [
       "<div>\n",
       "<style scoped>\n",
       "    .dataframe tbody tr th:only-of-type {\n",
       "        vertical-align: middle;\n",
       "    }\n",
       "\n",
       "    .dataframe tbody tr th {\n",
       "        vertical-align: top;\n",
       "    }\n",
       "\n",
       "    .dataframe thead th {\n",
       "        text-align: right;\n",
       "    }\n",
       "</style>\n",
       "<table border=\"1\" class=\"dataframe\">\n",
       "  <thead>\n",
       "    <tr style=\"text-align: right;\">\n",
       "      <th></th>\n",
       "      <th>A</th>\n",
       "      <th>B</th>\n",
       "      <th>WC</th>\n",
       "      <th>Analytic</th>\n",
       "      <th>Clout</th>\n",
       "      <th>Authentic</th>\n",
       "      <th>Tone</th>\n",
       "      <th>WPS</th>\n",
       "      <th>Sixltr</th>\n",
       "      <th>Dic</th>\n",
       "      <th>...</th>\n",
       "      <th>Comma</th>\n",
       "      <th>Colon</th>\n",
       "      <th>SemiC</th>\n",
       "      <th>QMark</th>\n",
       "      <th>Exclam</th>\n",
       "      <th>Dash</th>\n",
       "      <th>Quote</th>\n",
       "      <th>Apostro</th>\n",
       "      <th>Parenth</th>\n",
       "      <th>OtherP</th>\n",
       "    </tr>\n",
       "  </thead>\n",
       "  <tbody>\n",
       "    <tr>\n",
       "      <th>0</th>\n",
       "      <td>Be sure to tune in and watch Donald Trump on L...</td>\n",
       "      <td>NaN</td>\n",
       "      <td>23</td>\n",
       "      <td>98,23</td>\n",
       "      <td>66,81</td>\n",
       "      <td>54,89</td>\n",
       "      <td>93,61</td>\n",
       "      <td>23,00</td>\n",
       "      <td>13,04</td>\n",
       "      <td>73,91</td>\n",
       "      <td>...</td>\n",
       "      <td>0,00</td>\n",
       "      <td>0,00</td>\n",
       "      <td>0,00</td>\n",
       "      <td>0,00</td>\n",
       "      <td>4,35</td>\n",
       "      <td>0,00</td>\n",
       "      <td>0,00</td>\n",
       "      <td>0,00</td>\n",
       "      <td>0,00</td>\n",
       "      <td>0,00</td>\n",
       "    </tr>\n",
       "    <tr>\n",
       "      <th>1</th>\n",
       "      <td>Donald Trump will be appearing on The View tom...</td>\n",
       "      <td>NaN</td>\n",
       "      <td>22</td>\n",
       "      <td>96,54</td>\n",
       "      <td>81,84</td>\n",
       "      <td>31,94</td>\n",
       "      <td>94,75</td>\n",
       "      <td>22,00</td>\n",
       "      <td>31,82</td>\n",
       "      <td>90,91</td>\n",
       "      <td>...</td>\n",
       "      <td>0,00</td>\n",
       "      <td>0,00</td>\n",
       "      <td>0,00</td>\n",
       "      <td>0,00</td>\n",
       "      <td>4,55</td>\n",
       "      <td>0,00</td>\n",
       "      <td>0,00</td>\n",
       "      <td>0,00</td>\n",
       "      <td>0,00</td>\n",
       "      <td>0,00</td>\n",
       "    </tr>\n",
       "    <tr>\n",
       "      <th>2</th>\n",
       "      <td>Donald Trump reads Top Ten Financial Tips on L...</td>\n",
       "      <td>NaN</td>\n",
       "      <td>20</td>\n",
       "      <td>96,79</td>\n",
       "      <td>50,00</td>\n",
       "      <td>15,86</td>\n",
       "      <td>96,76</td>\n",
       "      <td>20,00</td>\n",
       "      <td>15,00</td>\n",
       "      <td>50,00</td>\n",
       "      <td>...</td>\n",
       "      <td>0,00</td>\n",
       "      <td>5,00</td>\n",
       "      <td>0,00</td>\n",
       "      <td>0,00</td>\n",
       "      <td>5,00</td>\n",
       "      <td>5,00</td>\n",
       "      <td>0,00</td>\n",
       "      <td>0,00</td>\n",
       "      <td>0,00</td>\n",
       "      <td>10,00</td>\n",
       "    </tr>\n",
       "    <tr>\n",
       "      <th>3</th>\n",
       "      <td>New Blog Post: Celebrity Apprentice Finale and...</td>\n",
       "      <td>NaN</td>\n",
       "      <td>17</td>\n",
       "      <td>97,21</td>\n",
       "      <td>50,00</td>\n",
       "      <td>99,00</td>\n",
       "      <td>25,77</td>\n",
       "      <td>17,00</td>\n",
       "      <td>29,41</td>\n",
       "      <td>76,47</td>\n",
       "      <td>...</td>\n",
       "      <td>0,00</td>\n",
       "      <td>11,76</td>\n",
       "      <td>0,00</td>\n",
       "      <td>0,00</td>\n",
       "      <td>0,00</td>\n",
       "      <td>0,00</td>\n",
       "      <td>0,00</td>\n",
       "      <td>0,00</td>\n",
       "      <td>0,00</td>\n",
       "      <td>11,76</td>\n",
       "    </tr>\n",
       "    <tr>\n",
       "      <th>4</th>\n",
       "      <td>\"My persona will never be that of a wallflower...</td>\n",
       "      <td>NaN</td>\n",
       "      <td>20</td>\n",
       "      <td>25,89</td>\n",
       "      <td>2,31</td>\n",
       "      <td>74,76</td>\n",
       "      <td>25,77</td>\n",
       "      <td>10,00</td>\n",
       "      <td>10,00</td>\n",
       "      <td>65,00</td>\n",
       "      <td>...</td>\n",
       "      <td>0,00</td>\n",
       "      <td>0,00</td>\n",
       "      <td>0,00</td>\n",
       "      <td>0,00</td>\n",
       "      <td>0,00</td>\n",
       "      <td>15,00</td>\n",
       "      <td>10,00</td>\n",
       "      <td>5,00</td>\n",
       "      <td>0,00</td>\n",
       "      <td>0,00</td>\n",
       "    </tr>\n",
       "  </tbody>\n",
       "</table>\n",
       "<p>5 rows × 95 columns</p>\n",
       "</div>"
      ],
      "text/plain": [
       "                                                   A   B  WC Analytic  Clout  \\\n",
       "0  Be sure to tune in and watch Donald Trump on L... NaN  23    98,23  66,81   \n",
       "1  Donald Trump will be appearing on The View tom... NaN  22    96,54  81,84   \n",
       "2  Donald Trump reads Top Ten Financial Tips on L... NaN  20    96,79  50,00   \n",
       "3  New Blog Post: Celebrity Apprentice Finale and... NaN  17    97,21  50,00   \n",
       "4  \"My persona will never be that of a wallflower... NaN  20    25,89   2,31   \n",
       "\n",
       "  Authentic   Tone    WPS Sixltr    Dic  ... Comma  Colon SemiC QMark Exclam  \\\n",
       "0     54,89  93,61  23,00  13,04  73,91  ...  0,00   0,00  0,00  0,00   4,35   \n",
       "1     31,94  94,75  22,00  31,82  90,91  ...  0,00   0,00  0,00  0,00   4,55   \n",
       "2     15,86  96,76  20,00  15,00  50,00  ...  0,00   5,00  0,00  0,00   5,00   \n",
       "3     99,00  25,77  17,00  29,41  76,47  ...  0,00  11,76  0,00  0,00   0,00   \n",
       "4     74,76  25,77  10,00  10,00  65,00  ...  0,00   0,00  0,00  0,00   0,00   \n",
       "\n",
       "    Dash  Quote Apostro Parenth OtherP  \n",
       "0   0,00   0,00    0,00    0,00   0,00  \n",
       "1   0,00   0,00    0,00    0,00   0,00  \n",
       "2   5,00   0,00    0,00    0,00  10,00  \n",
       "3   0,00   0,00    0,00    0,00  11,76  \n",
       "4  15,00  10,00    5,00    0,00   0,00  \n",
       "\n",
       "[5 rows x 95 columns]"
      ]
     },
     "execution_count": 1,
     "metadata": {},
     "output_type": "execute_result"
    }
   ],
   "source": [
    "from sklearn.cluster import KMeans, DBSCAN\n",
    "import pandas as pd\n",
    "import matplotlib.pyplot as plt\n",
    "\n",
    "path = r'C:\\Users\\Dominik\\Desktop\\Studia\\Programowanie dla analityki danych\\trumptweets_data.csv'\n",
    "\n",
    "#reading data set\n",
    "df = pd.read_csv(path, delimiter=';')\n",
    "\n",
    "df.head()"
   ]
  },
  {
   "cell_type": "code",
   "execution_count": 2,
   "id": "194c68c1",
   "metadata": {},
   "outputs": [
    {
     "data": {
      "text/plain": [
       "(41121, 95)"
      ]
     },
     "execution_count": 2,
     "metadata": {},
     "output_type": "execute_result"
    }
   ],
   "source": [
    "df.shape"
   ]
  },
  {
   "cell_type": "code",
   "execution_count": 3,
   "id": "d1f52a33",
   "metadata": {},
   "outputs": [
    {
     "data": {
      "text/plain": [
       "0,00    41121\n",
       "Name: SemiC, dtype: int64"
      ]
     },
     "execution_count": 3,
     "metadata": {},
     "output_type": "execute_result"
    }
   ],
   "source": [
    "df.SemiC.value_counts()\n",
    "\n",
    "#SemiC column contain only 0s values. We can remove this column"
   ]
  },
  {
   "cell_type": "code",
   "execution_count": 4,
   "id": "59241272",
   "metadata": {},
   "outputs": [],
   "source": [
    "df.drop(['A','B','SemiC'], inplace=True, axis=1)"
   ]
  },
  {
   "cell_type": "code",
   "execution_count": 5,
   "id": "93e8c232",
   "metadata": {
    "scrolled": true
   },
   "outputs": [
    {
     "name": "stdout",
     "output_type": "stream",
     "text": [
      "<class 'pandas.core.frame.DataFrame'>\n",
      "RangeIndex: 41121 entries, 0 to 41120\n",
      "Data columns (total 92 columns):\n",
      " #   Column        Non-Null Count  Dtype \n",
      "---  ------        --------------  ----- \n",
      " 0   WC            41121 non-null  int64 \n",
      " 1   Analytic      41121 non-null  object\n",
      " 2   Clout         41121 non-null  object\n",
      " 3   Authentic     41121 non-null  object\n",
      " 4   Tone          41121 non-null  object\n",
      " 5   WPS           41121 non-null  object\n",
      " 6   Sixltr        41121 non-null  object\n",
      " 7   Dic           41121 non-null  object\n",
      " 8   function      41121 non-null  object\n",
      " 9   pronoun       41121 non-null  object\n",
      " 10  ppron         41121 non-null  object\n",
      " 11  i             41121 non-null  object\n",
      " 12  we            41121 non-null  object\n",
      " 13  you           41121 non-null  object\n",
      " 14  shehe         41121 non-null  object\n",
      " 15  they          41121 non-null  object\n",
      " 16  ipron         41121 non-null  object\n",
      " 17  article       41121 non-null  object\n",
      " 18  prep          41121 non-null  object\n",
      " 19  auxverb       41121 non-null  object\n",
      " 20  adverb        41121 non-null  object\n",
      " 21  conj          41121 non-null  object\n",
      " 22  negate        41121 non-null  object\n",
      " 23  verb          41121 non-null  object\n",
      " 24  adj           41121 non-null  object\n",
      " 25  compare       41121 non-null  object\n",
      " 26  interrog      41121 non-null  object\n",
      " 27  number        41121 non-null  object\n",
      " 28  quant         41121 non-null  object\n",
      " 29  affect        41121 non-null  object\n",
      " 30  posemo        41121 non-null  object\n",
      " 31  negemo        41121 non-null  object\n",
      " 32  anx           41121 non-null  object\n",
      " 33  anger         41121 non-null  object\n",
      " 34  sad           41121 non-null  object\n",
      " 35  social        41121 non-null  object\n",
      " 36  family        41121 non-null  object\n",
      " 37  friend        41121 non-null  object\n",
      " 38  female        41121 non-null  object\n",
      " 39  male          41121 non-null  object\n",
      " 40  cogproc       41121 non-null  object\n",
      " 41  insight       41121 non-null  object\n",
      " 42  cause         41121 non-null  object\n",
      " 43  discrep       41121 non-null  object\n",
      " 44  tentat        41121 non-null  object\n",
      " 45  certain       41121 non-null  object\n",
      " 46  differ        41121 non-null  object\n",
      " 47  percept       41121 non-null  object\n",
      " 48  see           41121 non-null  object\n",
      " 49  hear          41121 non-null  object\n",
      " 50  feel          41121 non-null  object\n",
      " 51  bio           41121 non-null  object\n",
      " 52  body          41121 non-null  object\n",
      " 53  health        41121 non-null  object\n",
      " 54  sexual        41121 non-null  object\n",
      " 55  ingest        41121 non-null  object\n",
      " 56  drives        41121 non-null  object\n",
      " 57  affiliation   41121 non-null  object\n",
      " 58  achieve       41121 non-null  object\n",
      " 59  power         41121 non-null  object\n",
      " 60  reward        41121 non-null  object\n",
      " 61  risk          41121 non-null  object\n",
      " 62  focuspast     41121 non-null  object\n",
      " 63  focuspresent  41121 non-null  object\n",
      " 64  focusfuture   41121 non-null  object\n",
      " 65  relativ       41121 non-null  object\n",
      " 66  motion        41121 non-null  object\n",
      " 67  space         41121 non-null  object\n",
      " 68  time          41121 non-null  object\n",
      " 69  work          41121 non-null  object\n",
      " 70  leisure       41121 non-null  object\n",
      " 71  home          41121 non-null  object\n",
      " 72  money         41121 non-null  object\n",
      " 73  relig         41121 non-null  object\n",
      " 74  death         41121 non-null  object\n",
      " 75  informal      41121 non-null  object\n",
      " 76  swear         41121 non-null  object\n",
      " 77  netspeak      41121 non-null  object\n",
      " 78  assent        41121 non-null  object\n",
      " 79  nonflu        41121 non-null  object\n",
      " 80  filler        41121 non-null  object\n",
      " 81  AllPunc       41121 non-null  object\n",
      " 82  Period        41121 non-null  object\n",
      " 83  Comma         41121 non-null  object\n",
      " 84  Colon         41121 non-null  object\n",
      " 85  QMark         41121 non-null  object\n",
      " 86  Exclam        41121 non-null  object\n",
      " 87  Dash          41121 non-null  object\n",
      " 88  Quote         41121 non-null  object\n",
      " 89  Apostro       41121 non-null  object\n",
      " 90  Parenth       41121 non-null  object\n",
      " 91  OtherP        41121 non-null  object\n",
      "dtypes: int64(1), object(91)\n",
      "memory usage: 28.9+ MB\n"
     ]
    }
   ],
   "source": [
    "df.info()"
   ]
  },
  {
   "cell_type": "markdown",
   "id": "3ab39cf4",
   "metadata": {},
   "source": [
    "Apart form WC column, all are string types. Let's convert them to float type."
   ]
  },
  {
   "cell_type": "code",
   "execution_count": 6,
   "id": "0ae78b2b",
   "metadata": {},
   "outputs": [
    {
     "data": {
      "text/plain": [
       "False"
      ]
     },
     "execution_count": 6,
     "metadata": {},
     "output_type": "execute_result"
    }
   ],
   "source": [
    "#convert string columns to float\n",
    "columns_to_float = df.iloc[:,1:].columns\n",
    "for col in columns_to_float:\n",
    "     df[col] = df[col].str.replace(\",\", \".\").astype(float)\n",
    "\n",
    "#checking if there is any negative value in our data set        \n",
    "(df.values < 0).any() \n",
    "\n",
    "#standardization of df \n",
    "df = (df - df.min()) / (df.max() - df.min())"
   ]
  },
  {
   "cell_type": "code",
   "execution_count": 8,
   "id": "0bdf017d",
   "metadata": {},
   "outputs": [
    {
     "data": {
      "text/plain": [
       "KMeans()"
      ]
     },
     "execution_count": 8,
     "metadata": {},
     "output_type": "execute_result"
    }
   ],
   "source": [
    "km = KMeans()\n",
    "km.fit(df)"
   ]
  },
  {
   "cell_type": "code",
   "execution_count": 9,
   "id": "f7ac41bf",
   "metadata": {},
   "outputs": [
    {
     "data": {
      "text/html": [
       "<div>\n",
       "<style scoped>\n",
       "    .dataframe tbody tr th:only-of-type {\n",
       "        vertical-align: middle;\n",
       "    }\n",
       "\n",
       "    .dataframe tbody tr th {\n",
       "        vertical-align: top;\n",
       "    }\n",
       "\n",
       "    .dataframe thead th {\n",
       "        text-align: right;\n",
       "    }\n",
       "</style>\n",
       "<table border=\"1\" class=\"dataframe\">\n",
       "  <thead>\n",
       "    <tr style=\"text-align: right;\">\n",
       "      <th></th>\n",
       "      <th>cluster_Kmeans</th>\n",
       "      <th>mean</th>\n",
       "      <th>max</th>\n",
       "      <th>min</th>\n",
       "      <th>std</th>\n",
       "    </tr>\n",
       "  </thead>\n",
       "  <tbody>\n",
       "    <tr>\n",
       "      <th>0</th>\n",
       "      <td>8401</td>\n",
       "      <td>0.076983</td>\n",
       "      <td>0.893817</td>\n",
       "      <td>2.497203e-04</td>\n",
       "      <td>0.140963</td>\n",
       "    </tr>\n",
       "    <tr>\n",
       "      <th>1</th>\n",
       "      <td>4919</td>\n",
       "      <td>0.089889</td>\n",
       "      <td>0.809225</td>\n",
       "      <td>5.953243e-04</td>\n",
       "      <td>0.156579</td>\n",
       "    </tr>\n",
       "    <tr>\n",
       "      <th>2</th>\n",
       "      <td>5080</td>\n",
       "      <td>0.100056</td>\n",
       "      <td>0.966522</td>\n",
       "      <td>2.992913e-04</td>\n",
       "      <td>0.181869</td>\n",
       "    </tr>\n",
       "    <tr>\n",
       "      <th>3</th>\n",
       "      <td>9127</td>\n",
       "      <td>0.089028</td>\n",
       "      <td>0.973273</td>\n",
       "      <td>2.471787e-04</td>\n",
       "      <td>0.172555</td>\n",
       "    </tr>\n",
       "    <tr>\n",
       "      <th>4</th>\n",
       "      <td>1174</td>\n",
       "      <td>0.041530</td>\n",
       "      <td>0.994340</td>\n",
       "      <td>-1.776357e-15</td>\n",
       "      <td>0.170416</td>\n",
       "    </tr>\n",
       "    <tr>\n",
       "      <th>5</th>\n",
       "      <td>1991</td>\n",
       "      <td>0.078126</td>\n",
       "      <td>0.914218</td>\n",
       "      <td>3.206957e-04</td>\n",
       "      <td>0.167127</td>\n",
       "    </tr>\n",
       "    <tr>\n",
       "      <th>6</th>\n",
       "      <td>5172</td>\n",
       "      <td>0.088605</td>\n",
       "      <td>0.783112</td>\n",
       "      <td>6.232792e-04</td>\n",
       "      <td>0.135204</td>\n",
       "    </tr>\n",
       "    <tr>\n",
       "      <th>7</th>\n",
       "      <td>5257</td>\n",
       "      <td>0.098029</td>\n",
       "      <td>0.980077</td>\n",
       "      <td>9.629066e-04</td>\n",
       "      <td>0.166192</td>\n",
       "    </tr>\n",
       "  </tbody>\n",
       "</table>\n",
       "</div>"
      ],
      "text/plain": [
       "   cluster_Kmeans      mean       max           min       std\n",
       "0            8401  0.076983  0.893817  2.497203e-04  0.140963\n",
       "1            4919  0.089889  0.809225  5.953243e-04  0.156579\n",
       "2            5080  0.100056  0.966522  2.992913e-04  0.181869\n",
       "3            9127  0.089028  0.973273  2.471787e-04  0.172555\n",
       "4            1174  0.041530  0.994340 -1.776357e-15  0.170416\n",
       "5            1991  0.078126  0.914218  3.206957e-04  0.167127\n",
       "6            5172  0.088605  0.783112  6.232792e-04  0.135204\n",
       "7            5257  0.098029  0.980077  9.629066e-04  0.166192"
      ]
     },
     "execution_count": 9,
     "metadata": {},
     "output_type": "execute_result"
    }
   ],
   "source": [
    "#count centers for each cluster \n",
    "scores_km = pd.DataFrame(km.cluster_centers_,columns=df.keys())\n",
    "\n",
    "#count mean, std, max and min value for each cluster using categories\n",
    "score_mean_km = scores_km.mean(axis=1)\n",
    "score_max_km = scores_km.max(axis=1)\n",
    "score_min_km = scores_km.min(axis=1)\n",
    "score_std_km = scores_km.std(axis=1)\n",
    "\n",
    "df['cluster_Kmeans'] = km.labels_\n",
    "cluster_values = df['cluster_Kmeans'].value_counts().sort_index()\n",
    "scores_km = cluster_values.to_frame()\n",
    "scores_km['mean'] = score_mean_km\n",
    "scores_km['max'] = score_max_km\n",
    "scores_km['min'] = score_min_km\n",
    "scores_km['std'] = score_std_km\n",
    "scores_km"
   ]
  },
  {
   "cell_type": "code",
   "execution_count": 10,
   "id": "772b6b3d",
   "metadata": {},
   "outputs": [],
   "source": [
    "cluster_values = df['cluster_Kmeans'].value_counts().sort_index()"
   ]
  },
  {
   "cell_type": "code",
   "execution_count": 11,
   "id": "46ff3ac8",
   "metadata": {
    "scrolled": true
   },
   "outputs": [
    {
     "data": {
      "text/plain": [
       "<AxesSubplot:title={'center':'Cluster counts by KMeans'}>"
      ]
     },
     "execution_count": 11,
     "metadata": {},
     "output_type": "execute_result"
    },
    {
     "data": {
      "image/png": "[encoded data removed]",
      "text/plain": [
       "<Figure size 432x288 with 1 Axes>"
      ]
     },
     "metadata": {
      "needs_background": "light"
     },
     "output_type": "display_data"
    }
   ],
   "source": [
    "cluster_values.plot.bar(rot=0, title='Cluster counts by KMeans')"
   ]
  },
  {
   "cell_type": "code",
   "execution_count": 12,
   "id": "0e4c5d0c",
   "metadata": {
    "scrolled": true
   },
   "outputs": [
    {
     "data": {
      "image/png": "[encoded data removed]",
      "text/plain": [
       "<Figure size 432x288 with 1 Axes>"
      ]
     },
     "metadata": {},
     "output_type": "display_data"
    }
   ],
   "source": [
    "cluster_values.plot.pie(labels=['Cluster_0', 'Cluster_1', 'Cluster_2', \n",
    "                                'Cluster_3', 'Cluster_4', 'Cluster_5', 'Cluster_6', 'Cluster_7'])\n",
    "plt.title('Cluster counts by KMenas')\n",
    "plt.show()"
   ]
  },
  {
   "cell_type": "code",
   "execution_count": 13,
   "id": "a588f940",
   "metadata": {},
   "outputs": [
    {
     "name": "stdout",
     "output_type": "stream",
     "text": [
      "2 96195.9\n",
      "3 52624.5\n",
      "4 43253.3\n",
      "5 37124.5\n",
      "6 32614.7\n",
      "7 28520.5\n",
      "8 25913.6\n",
      "9 25330.8\n",
      "10 24753.1\n",
      "11 24335.4\n"
     ]
    },
    {
     "data": {
      "image/png": "[encoded data removed]",
      "text/plain": [
       "<Figure size 432x288 with 1 Axes>"
      ]
     },
     "metadata": {
      "needs_background": "light"
     },
     "output_type": "display_data"
    }
   ],
   "source": [
    "#looking for best cluster numbers for KMeans\n",
    "inertias = []\n",
    "for k in range(2,12):\n",
    "    km= KMeans(k).fit(df)\n",
    "    inertias.append(round(km.inertia_,1))\n",
    "    print(k,round(km.inertia_,1))\n",
    "plt.plot(list(range(2,12)),inertias)\n",
    "plt.show()"
   ]
  },
  {
   "cell_type": "markdown",
   "id": "f7d6e582",
   "metadata": {},
   "source": [
    "It seeems that KMeans algorithm took the most optimal number of clusters: 8. Plot above confirm it. The most visible decline on the chart starts from 2 number of clusters and ends at 8."
   ]
  },
  {
   "cell_type": "code",
   "execution_count": 14,
   "id": "067ee62a",
   "metadata": {},
   "outputs": [],
   "source": [
    "df.drop(columns=['cluster_Kmeans'], inplace=True, axis=1)"
   ]
  },
  {
   "cell_type": "code",
   "execution_count": 15,
   "id": "d8dc2f3b",
   "metadata": {
    "scrolled": true
   },
   "outputs": [
    {
     "name": "stdout",
     "output_type": "stream",
     "text": [
      "Clusters created: [0, 1, 2, -1]\n"
     ]
    }
   ],
   "source": [
    "min_samples = df.shape[1] * 2\n",
    "db = DBSCAN(eps=0.5, min_samples=min_samples)\n",
    "clusters_db = db.fit_predict(df)\n",
    "print('Clusters created: ' + str(list(set(clusters_db))))"
   ]
  },
  {
   "cell_type": "code",
   "execution_count": 16,
   "id": "17c2bc8a",
   "metadata": {},
   "outputs": [
    {
     "data": {
      "text/plain": [
       "<AxesSubplot:title={'center':'Cluster counts by DBscan'}>"
      ]
     },
     "execution_count": 16,
     "metadata": {},
     "output_type": "execute_result"
    },
    {
     "data": {
      "image/png": "[encoded data removed]",
      "text/plain": [
       "<Figure size 432x288 with 1 Axes>"
      ]
     },
     "metadata": {
      "needs_background": "light"
     },
     "output_type": "display_data"
    }
   ],
   "source": [
    "df['cluster_dbscan'] = db.labels_\n",
    "cluster_db_values = df['cluster_dbscan'].value_counts().sort_index()\n",
    "cluster_db_values.plot.bar(rot=0, title='Cluster counts by DBscan')"
   ]
  },
  {
   "cell_type": "code",
   "execution_count": 17,
   "id": "9ae2b8a6",
   "metadata": {},
   "outputs": [
    {
     "data": {
      "text/html": [
       "<div>\n",
       "<style scoped>\n",
       "    .dataframe tbody tr th:only-of-type {\n",
       "        vertical-align: middle;\n",
       "    }\n",
       "\n",
       "    .dataframe tbody tr th {\n",
       "        vertical-align: top;\n",
       "    }\n",
       "\n",
       "    .dataframe thead th {\n",
       "        text-align: right;\n",
       "    }\n",
       "</style>\n",
       "<table border=\"1\" class=\"dataframe\">\n",
       "  <thead>\n",
       "    <tr style=\"text-align: right;\">\n",
       "      <th></th>\n",
       "      <th>cluster_dbscan</th>\n",
       "      <th>mean</th>\n",
       "      <th>max</th>\n",
       "      <th>min</th>\n",
       "      <th>std</th>\n",
       "    </tr>\n",
       "  </thead>\n",
       "  <tbody>\n",
       "    <tr>\n",
       "      <th>-1</th>\n",
       "      <td>38634</td>\n",
       "      <td>0.088760</td>\n",
       "      <td>0.712035</td>\n",
       "      <td>0.000489</td>\n",
       "      <td>0.145635</td>\n",
       "    </tr>\n",
       "    <tr>\n",
       "      <th>0</th>\n",
       "      <td>1165</td>\n",
       "      <td>0.041466</td>\n",
       "      <td>1.000000</td>\n",
       "      <td>0.000000</td>\n",
       "      <td>0.170876</td>\n",
       "    </tr>\n",
       "    <tr>\n",
       "      <th>1</th>\n",
       "      <td>994</td>\n",
       "      <td>0.082564</td>\n",
       "      <td>0.989131</td>\n",
       "      <td>0.000000</td>\n",
       "      <td>0.179472</td>\n",
       "    </tr>\n",
       "    <tr>\n",
       "      <th>2</th>\n",
       "      <td>328</td>\n",
       "      <td>0.085680</td>\n",
       "      <td>0.993347</td>\n",
       "      <td>0.000000</td>\n",
       "      <td>0.214265</td>\n",
       "    </tr>\n",
       "  </tbody>\n",
       "</table>\n",
       "</div>"
      ],
      "text/plain": [
       "    cluster_dbscan      mean       max       min       std\n",
       "-1           38634  0.088760  0.712035  0.000489  0.145635\n",
       " 0            1165  0.041466  1.000000  0.000000  0.170876\n",
       " 1             994  0.082564  0.989131  0.000000  0.179472\n",
       " 2             328  0.085680  0.993347  0.000000  0.214265"
      ]
     },
     "execution_count": 17,
     "metadata": {},
     "output_type": "execute_result"
    }
   ],
   "source": [
    "db_1_cluster = df[df['cluster_dbscan'] == -1]\n",
    "db_2_cluster = df[df['cluster_dbscan'] == 0]\n",
    "db_3_cluster = df[df['cluster_dbscan'] == 1]\n",
    "db_4_cluster = df[df['cluster_dbscan'] == 2]\n",
    "\n",
    "#first calculate the mean for each column depends on cluster group. Then we calculate the mean in in each cluster \n",
    "#from all columns. We also calculating max, min and std.\n",
    "db_mean1 = db_1_cluster.iloc[:,:-1].mean().mean()\n",
    "db_max1 = db_1_cluster.iloc[:,:-1].mean().max()\n",
    "db_min1 = db_1_cluster.iloc[:,:-1].mean().min()\n",
    "db_std1 = db_1_cluster.iloc[:,:-1].mean().std()\n",
    "\n",
    "db_mean2 = db_2_cluster.iloc[:,:-1].mean().mean()\n",
    "db_max2 = db_2_cluster.iloc[:,:-1].mean().max()\n",
    "db_min2 = db_2_cluster.iloc[:,:-1].mean().min()\n",
    "db_std2 = db_2_cluster.iloc[:,:-1].mean().std()\n",
    "\n",
    "db_mean3 = db_3_cluster.iloc[:,:-1].mean().mean()\n",
    "db_max3 = db_3_cluster.iloc[:,:-1].mean().max()\n",
    "db_min3 = db_3_cluster.iloc[:,:-1].mean().min()\n",
    "db_std3 = db_3_cluster.iloc[:,:-1].mean().std()\n",
    "\n",
    "db_mean4 = db_4_cluster.iloc[:,:-1].mean().mean()\n",
    "db_max4 = db_4_cluster.iloc[:,:-1].mean().max()\n",
    "db_min4 = db_4_cluster.iloc[:,:-1].mean().min()\n",
    "db_std4 = db_4_cluster.iloc[:,:-1].mean().std()\n",
    "\n",
    "s_mean = pd.Series([db_mean1, db_mean2, db_mean3, db_mean4], index=[-1,0,1,2])\n",
    "s_max = pd.Series([db_max1, db_max2, db_max3, db_max4], index=[-1,0,1,2])\n",
    "s_min = pd.Series([db_min1, db_min2, db_min3, db_min4], index=[-1,0,1,2])\n",
    "s_std = pd.Series([db_std1, db_std2, db_std3, db_std4], index=[-1,0,1,2])\n",
    "\n",
    "scores_db = cluster_db_values.to_frame()\n",
    "scores_db['mean'] = s_mean\n",
    "scores_db['max'] = s_max\n",
    "scores_db['min'] = s_min\n",
    "scores_db['std'] = s_std\n",
    "\n",
    "scores_db"
   ]
  },
  {
   "cell_type": "code",
   "execution_count": 18,
   "id": "8462906b",
   "metadata": {},
   "outputs": [
    {
     "data": {
      "text/html": [
       "<div>\n",
       "<style scoped>\n",
       "    .dataframe tbody tr th:only-of-type {\n",
       "        vertical-align: middle;\n",
       "    }\n",
       "\n",
       "    .dataframe tbody tr th {\n",
       "        vertical-align: top;\n",
       "    }\n",
       "\n",
       "    .dataframe thead th {\n",
       "        text-align: right;\n",
       "    }\n",
       "</style>\n",
       "<table border=\"1\" class=\"dataframe\">\n",
       "  <thead>\n",
       "    <tr style=\"text-align: right;\">\n",
       "      <th></th>\n",
       "      <th>cluster_Kmeans</th>\n",
       "      <th>mean</th>\n",
       "      <th>max</th>\n",
       "      <th>min</th>\n",
       "      <th>std</th>\n",
       "    </tr>\n",
       "  </thead>\n",
       "  <tbody>\n",
       "    <tr>\n",
       "      <th>0</th>\n",
       "      <td>8401</td>\n",
       "      <td>0.076983</td>\n",
       "      <td>0.893817</td>\n",
       "      <td>2.497203e-04</td>\n",
       "      <td>0.140963</td>\n",
       "    </tr>\n",
       "    <tr>\n",
       "      <th>1</th>\n",
       "      <td>4919</td>\n",
       "      <td>0.089889</td>\n",
       "      <td>0.809225</td>\n",
       "      <td>5.953243e-04</td>\n",
       "      <td>0.156579</td>\n",
       "    </tr>\n",
       "    <tr>\n",
       "      <th>2</th>\n",
       "      <td>5080</td>\n",
       "      <td>0.100056</td>\n",
       "      <td>0.966522</td>\n",
       "      <td>2.992913e-04</td>\n",
       "      <td>0.181869</td>\n",
       "    </tr>\n",
       "    <tr>\n",
       "      <th>3</th>\n",
       "      <td>9127</td>\n",
       "      <td>0.089028</td>\n",
       "      <td>0.973273</td>\n",
       "      <td>2.471787e-04</td>\n",
       "      <td>0.172555</td>\n",
       "    </tr>\n",
       "    <tr>\n",
       "      <th>4</th>\n",
       "      <td>1174</td>\n",
       "      <td>0.041530</td>\n",
       "      <td>0.994340</td>\n",
       "      <td>-1.776357e-15</td>\n",
       "      <td>0.170416</td>\n",
       "    </tr>\n",
       "    <tr>\n",
       "      <th>5</th>\n",
       "      <td>1991</td>\n",
       "      <td>0.078126</td>\n",
       "      <td>0.914218</td>\n",
       "      <td>3.206957e-04</td>\n",
       "      <td>0.167127</td>\n",
       "    </tr>\n",
       "    <tr>\n",
       "      <th>6</th>\n",
       "      <td>5172</td>\n",
       "      <td>0.088605</td>\n",
       "      <td>0.783112</td>\n",
       "      <td>6.232792e-04</td>\n",
       "      <td>0.135204</td>\n",
       "    </tr>\n",
       "    <tr>\n",
       "      <th>7</th>\n",
       "      <td>5257</td>\n",
       "      <td>0.098029</td>\n",
       "      <td>0.980077</td>\n",
       "      <td>9.629066e-04</td>\n",
       "      <td>0.166192</td>\n",
       "    </tr>\n",
       "  </tbody>\n",
       "</table>\n",
       "</div>"
      ],
      "text/plain": [
       "   cluster_Kmeans      mean       max           min       std\n",
       "0            8401  0.076983  0.893817  2.497203e-04  0.140963\n",
       "1            4919  0.089889  0.809225  5.953243e-04  0.156579\n",
       "2            5080  0.100056  0.966522  2.992913e-04  0.181869\n",
       "3            9127  0.089028  0.973273  2.471787e-04  0.172555\n",
       "4            1174  0.041530  0.994340 -1.776357e-15  0.170416\n",
       "5            1991  0.078126  0.914218  3.206957e-04  0.167127\n",
       "6            5172  0.088605  0.783112  6.232792e-04  0.135204\n",
       "7            5257  0.098029  0.980077  9.629066e-04  0.166192"
      ]
     },
     "execution_count": 18,
     "metadata": {},
     "output_type": "execute_result"
    }
   ],
   "source": [
    "scores_km"
   ]
  }
 ],
 "metadata": {
  "kernelspec": {
   "display_name": "Python 3",
   "language": "python",
   "name": "python3"
  },
  "language_info": {
   "codemirror_mode": {
    "name": "ipython",
    "version": 3
   },
   "file_extension": ".py",
   "mimetype": "text/x-python",
   "name": "python",
   "nbconvert_exporter": "python",
   "pygments_lexer": "ipython3",
   "version": "3.8.8"
  }
 },
 "nbformat": 4,
 "nbformat_minor": 5
}
