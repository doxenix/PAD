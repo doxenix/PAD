{
 "cells": [
  {
   "cell_type": "markdown",
   "id": "1288dfb9",
   "metadata": {},
   "source": [
    "Dominik Zalewski (s24216) - Zadanie domowe PAD 03"
   ]
  },
  {
   "cell_type": "code",
   "execution_count": 1,
   "id": "ad4549bd",
   "metadata": {},
   "outputs": [],
   "source": [
    "import pandas as pd\n",
    "\n",
    "path = r'C:\\Users\\Dominik\\Desktop\\Studia\\Programowanie dla analityki danych\\bank.csv'\n",
    "\n",
    "#oppening csv file\n",
    "df = pd.read_csv(path, delimiter=';')"
   ]
  },
  {
   "cell_type": "code",
   "execution_count": 2,
   "id": "15ebfe98",
   "metadata": {},
   "outputs": [
    {
     "name": "stdout",
     "output_type": "stream",
     "text": [
      "The most calls were in may:\n",
      "may    1398\n",
      "Name: month, dtype: int64\n",
      "\n",
      "\n",
      "The less calls were in december:\n",
      "dec    20\n",
      "Name: month, dtype: int64\n"
     ]
    }
   ],
   "source": [
    "the_most_calls_month = df['month'].value_counts().head(1)\n",
    "print('The most calls were in may:')\n",
    "print(the_most_calls_month)\n",
    "\n",
    "print('\\n')\n",
    "the_less_calls_month = df['month'].value_counts().tail(1)\n",
    "print('The less calls were in december:')\n",
    "print(the_less_calls_month)"
   ]
  },
  {
   "cell_type": "code",
   "execution_count": 3,
   "id": "f1901497",
   "metadata": {},
   "outputs": [
    {
     "name": "stdout",
     "output_type": "stream",
     "text": [
      "In apr, duration of each call was the longest on average:\n",
      "month\n",
      "apr    294.354949\n",
      "Name: duration, dtype: float64\n"
     ]
    }
   ],
   "source": [
    "print('In apr, duration of each call was the longest on average:')\n",
    "print(df.groupby(['month']).mean()['duration'].head(1))"
   ]
  },
  {
   "cell_type": "code",
   "execution_count": 4,
   "id": "32dcc90a",
   "metadata": {},
   "outputs": [
    {
     "data": {
      "text/html": [
       "<div>\n",
       "<style scoped>\n",
       "    .dataframe tbody tr th:only-of-type {\n",
       "        vertical-align: middle;\n",
       "    }\n",
       "\n",
       "    .dataframe tbody tr th {\n",
       "        vertical-align: top;\n",
       "    }\n",
       "\n",
       "    .dataframe thead th {\n",
       "        text-align: right;\n",
       "    }\n",
       "</style>\n",
       "<table border=\"1\" class=\"dataframe\">\n",
       "  <thead>\n",
       "    <tr style=\"text-align: right;\">\n",
       "      <th></th>\n",
       "      <th>age</th>\n",
       "      <th>job</th>\n",
       "      <th>marital</th>\n",
       "      <th>education</th>\n",
       "      <th>default</th>\n",
       "      <th>balance</th>\n",
       "      <th>housing</th>\n",
       "      <th>loan</th>\n",
       "      <th>contact</th>\n",
       "      <th>day</th>\n",
       "      <th>month</th>\n",
       "      <th>duration</th>\n",
       "    </tr>\n",
       "  </thead>\n",
       "  <tbody>\n",
       "    <tr>\n",
       "      <th>0</th>\n",
       "      <td>30</td>\n",
       "      <td>unemployed</td>\n",
       "      <td>married</td>\n",
       "      <td>primary</td>\n",
       "      <td>no</td>\n",
       "      <td>1787</td>\n",
       "      <td>no</td>\n",
       "      <td>no</td>\n",
       "      <td>cellular</td>\n",
       "      <td>19</td>\n",
       "      <td>oct</td>\n",
       "      <td>79</td>\n",
       "    </tr>\n",
       "    <tr>\n",
       "      <th>1</th>\n",
       "      <td>33</td>\n",
       "      <td>services</td>\n",
       "      <td>married</td>\n",
       "      <td>secondary</td>\n",
       "      <td>no</td>\n",
       "      <td>4789</td>\n",
       "      <td>yes</td>\n",
       "      <td>yes</td>\n",
       "      <td>cellular</td>\n",
       "      <td>11</td>\n",
       "      <td>may</td>\n",
       "      <td>220</td>\n",
       "    </tr>\n",
       "    <tr>\n",
       "      <th>2</th>\n",
       "      <td>35</td>\n",
       "      <td>management</td>\n",
       "      <td>single</td>\n",
       "      <td>tertiary</td>\n",
       "      <td>no</td>\n",
       "      <td>1350</td>\n",
       "      <td>yes</td>\n",
       "      <td>no</td>\n",
       "      <td>cellular</td>\n",
       "      <td>16</td>\n",
       "      <td>apr</td>\n",
       "      <td>185</td>\n",
       "    </tr>\n",
       "    <tr>\n",
       "      <th>3</th>\n",
       "      <td>30</td>\n",
       "      <td>management</td>\n",
       "      <td>married</td>\n",
       "      <td>tertiary</td>\n",
       "      <td>no</td>\n",
       "      <td>1476</td>\n",
       "      <td>yes</td>\n",
       "      <td>yes</td>\n",
       "      <td>unknown</td>\n",
       "      <td>3</td>\n",
       "      <td>jun</td>\n",
       "      <td>199</td>\n",
       "    </tr>\n",
       "    <tr>\n",
       "      <th>4</th>\n",
       "      <td>59</td>\n",
       "      <td>blue-collar</td>\n",
       "      <td>married</td>\n",
       "      <td>secondary</td>\n",
       "      <td>no</td>\n",
       "      <td>0</td>\n",
       "      <td>yes</td>\n",
       "      <td>no</td>\n",
       "      <td>unknown</td>\n",
       "      <td>5</td>\n",
       "      <td>may</td>\n",
       "      <td>226</td>\n",
       "    </tr>\n",
       "  </tbody>\n",
       "</table>\n",
       "</div>"
      ],
      "text/plain": [
       "   age          job  marital  education default  balance housing loan  \\\n",
       "0   30   unemployed  married    primary      no     1787      no   no   \n",
       "1   33     services  married  secondary      no     4789     yes  yes   \n",
       "2   35   management   single   tertiary      no     1350     yes   no   \n",
       "3   30   management  married   tertiary      no     1476     yes  yes   \n",
       "4   59  blue-collar  married  secondary      no        0     yes   no   \n",
       "\n",
       "    contact  day month  duration  \n",
       "0  cellular   19   oct        79  \n",
       "1  cellular   11   may       220  \n",
       "2  cellular   16   apr       185  \n",
       "3   unknown    3   jun       199  \n",
       "4   unknown    5   may       226  "
      ]
     },
     "execution_count": 4,
     "metadata": {},
     "output_type": "execute_result"
    }
   ],
   "source": [
    "df.head()"
   ]
  },
  {
   "cell_type": "code",
   "execution_count": 5,
   "id": "d10d2056",
   "metadata": {},
   "outputs": [
    {
     "data": {
      "text/plain": [
       "secondary    2306\n",
       "tertiary     1350\n",
       "primary       678\n",
       "unknown       187\n",
       "Name: education, dtype: int64"
      ]
     },
     "execution_count": 5,
     "metadata": {},
     "output_type": "execute_result"
    }
   ],
   "source": [
    "df['education'].value_counts()"
   ]
  },
  {
   "cell_type": "code",
   "execution_count": 6,
   "id": "460f0e23",
   "metadata": {},
   "outputs": [
    {
     "name": "stdout",
     "output_type": "stream",
     "text": [
      "education\n",
      "tertiary     1775.423704\n",
      "unknown      1701.245989\n",
      "primary      1411.544248\n",
      "secondary    1196.814397\n",
      "Name: balance, dtype: float64\n"
     ]
    }
   ],
   "source": [
    "balance_per_education_avg = df.groupby('education').mean()['balance'].sort_values(ascending=False)\n",
    "print(balance_per_education_avg)"
   ]
  },
  {
   "cell_type": "code",
   "execution_count": 7,
   "id": "8cef5559",
   "metadata": {},
   "outputs": [
    {
     "name": "stdout",
     "output_type": "stream",
     "text": [
      "AxesSubplot(0.125,0.125;0.775x0.755)\n"
     ]
    },
    {
     "data": {
      "image/png": "[encoded data removed]",
      "text/plain": [
       "<Figure size 432x288 with 1 Axes>"
      ]
     },
     "metadata": {
      "needs_background": "light"
     },
     "output_type": "display_data"
    }
   ],
   "source": [
    "print(balance_per_education_avg.plot.bar(rot=0))"
   ]
  },
  {
   "cell_type": "markdown",
   "id": "c407c7dc",
   "metadata": {},
   "source": [
    "Yes, education has influnce on savings level. Pepole with the highest education level (tertiary) have the most savings on average, compared to annother groups with lower education level. Moreover, we may spot that the largest group is secondary education and there is the less level of savings. "
   ]
  },
  {
   "cell_type": "code",
   "execution_count": 8,
   "id": "9370a92f",
   "metadata": {},
   "outputs": [
    {
     "data": {
      "text/plain": [
       "married     2797\n",
       "single      1196\n",
       "divorced     528\n",
       "Name: marital, dtype: int64"
      ]
     },
     "execution_count": 8,
     "metadata": {},
     "output_type": "execute_result"
    }
   ],
   "source": [
    "df['marital'].value_counts()"
   ]
  },
  {
   "cell_type": "code",
   "execution_count": 9,
   "id": "3522d01e",
   "metadata": {},
   "outputs": [],
   "source": [
    "age_married_series = df['age'][df['marital'] == 'married']\n",
    "age_single_series = df['age'][df['marital'] == 'single']\n"
   ]
  },
  {
   "cell_type": "code",
   "execution_count": 10,
   "id": "017aa86a",
   "metadata": {},
   "outputs": [
    {
     "name": "stdout",
     "output_type": "stream",
     "text": [
      "The oldest married person was:  87\n",
      "The oldest single person was:  69\n"
     ]
    }
   ],
   "source": [
    "print('The oldest married person was: ', age_married_series.max())\n",
    "print('The oldest single person was: ', age_single_series.max())"
   ]
  },
  {
   "cell_type": "code",
   "execution_count": null,
   "id": "51598c54",
   "metadata": {},
   "outputs": [],
   "source": []
  }
 ],
 "metadata": {
  "kernelspec": {
   "display_name": "Python 3",
   "language": "python",
   "name": "python3"
  },
  "language_info": {
   "codemirror_mode": {
    "name": "ipython",
    "version": 3
   },
   "file_extension": ".py",
   "mimetype": "text/x-python",
   "name": "python",
   "nbconvert_exporter": "python",
   "pygments_lexer": "ipython3",
   "version": "3.8.8"
  }
 },
 "nbformat": 4,
 "nbformat_minor": 5
}
